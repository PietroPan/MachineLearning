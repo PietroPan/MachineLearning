{
 "cells": [
  {
   "cell_type": "code",
   "execution_count": 1,
   "id": "748432dd-b019-4d40-8a5a-faef8b4ec983",
   "metadata": {},
   "outputs": [],
   "source": [
    "import pandas as pd\n",
    "import seaborn as sns\n",
    "import numpy as np\n",
    "import re\n",
    "from sklearn.tree import *\n",
    "from sklearn.model_selection import train_test_split\n",
    "from sklearn.metrics import *\n",
    "from sklearn.linear_model import LinearRegression\n",
    "from sklearn.cluster import KMeans\n",
    "from sklearn.svm import SVC\n",
    "from sklearn.model_selection import GridSearchCV\n",
    "from sklearn.model_selection import cross_val_score\n",
    "\n",
    "df = pd.read_csv('Datasets/training_data.csv',encoding = \"ISO-8859-1\")\n",
    "dftest = pd.read_csv('Datasets/test_data.csv',encoding = \"ISO-8859-1\")"
   ]
  },
  {
   "cell_type": "code",
   "execution_count": 2,
   "id": "ae7e3f81-78e1-4c1d-a25b-2e1010ecd0c4",
   "metadata": {},
   "outputs": [
    {
     "data": {
      "text/html": [
       "<div>\n",
       "<style scoped>\n",
       "    .dataframe tbody tr th:only-of-type {\n",
       "        vertical-align: middle;\n",
       "    }\n",
       "\n",
       "    .dataframe tbody tr th {\n",
       "        vertical-align: top;\n",
       "    }\n",
       "\n",
       "    .dataframe thead th {\n",
       "        text-align: right;\n",
       "    }\n",
       "</style>\n",
       "<table border=\"1\" class=\"dataframe\">\n",
       "  <thead>\n",
       "    <tr style=\"text-align: right;\">\n",
       "      <th></th>\n",
       "      <th>city_name</th>\n",
       "      <th>record_date</th>\n",
       "      <th>AVERAGE_SPEED_DIFF</th>\n",
       "      <th>AVERAGE_FREE_FLOW_SPEED</th>\n",
       "      <th>AVERAGE_TIME_DIFF</th>\n",
       "      <th>AVERAGE_FREE_FLOW_TIME</th>\n",
       "      <th>LUMINOSITY</th>\n",
       "      <th>AVERAGE_TEMPERATURE</th>\n",
       "      <th>AVERAGE_ATMOSP_PRESSURE</th>\n",
       "      <th>AVERAGE_HUMIDITY</th>\n",
       "      <th>AVERAGE_WIND_SPEED</th>\n",
       "      <th>AVERAGE_CLOUDINESS</th>\n",
       "      <th>AVERAGE_PRECIPITATION</th>\n",
       "      <th>AVERAGE_RAIN</th>\n",
       "    </tr>\n",
       "  </thead>\n",
       "  <tbody>\n",
       "    <tr>\n",
       "      <th>0</th>\n",
       "      <td>Porto</td>\n",
       "      <td>2019-08-29 07:00:00</td>\n",
       "      <td>Medium</td>\n",
       "      <td>41.5</td>\n",
       "      <td>11.5</td>\n",
       "      <td>71.4</td>\n",
       "      <td>LIGHT</td>\n",
       "      <td>15.0</td>\n",
       "      <td>1019.0</td>\n",
       "      <td>100.0</td>\n",
       "      <td>3.0</td>\n",
       "      <td>NaN</td>\n",
       "      <td>0.0</td>\n",
       "      <td>NaN</td>\n",
       "    </tr>\n",
       "    <tr>\n",
       "      <th>1</th>\n",
       "      <td>Porto</td>\n",
       "      <td>2018-08-10 14:00:00</td>\n",
       "      <td>High</td>\n",
       "      <td>41.7</td>\n",
       "      <td>48.3</td>\n",
       "      <td>87.4</td>\n",
       "      <td>LIGHT</td>\n",
       "      <td>21.0</td>\n",
       "      <td>1021.0</td>\n",
       "      <td>53.0</td>\n",
       "      <td>5.0</td>\n",
       "      <td>céu claro</td>\n",
       "      <td>0.0</td>\n",
       "      <td>NaN</td>\n",
       "    </tr>\n",
       "    <tr>\n",
       "      <th>2</th>\n",
       "      <td>Porto</td>\n",
       "      <td>2019-09-01 16:00:00</td>\n",
       "      <td>High</td>\n",
       "      <td>38.6</td>\n",
       "      <td>38.4</td>\n",
       "      <td>85.2</td>\n",
       "      <td>LIGHT</td>\n",
       "      <td>26.0</td>\n",
       "      <td>1014.0</td>\n",
       "      <td>61.0</td>\n",
       "      <td>4.0</td>\n",
       "      <td>NaN</td>\n",
       "      <td>0.0</td>\n",
       "      <td>NaN</td>\n",
       "    </tr>\n",
       "    <tr>\n",
       "      <th>3</th>\n",
       "      <td>Porto</td>\n",
       "      <td>2019-02-26 11:00:00</td>\n",
       "      <td>High</td>\n",
       "      <td>37.4</td>\n",
       "      <td>61.0</td>\n",
       "      <td>94.1</td>\n",
       "      <td>LIGHT</td>\n",
       "      <td>18.0</td>\n",
       "      <td>1025.0</td>\n",
       "      <td>48.0</td>\n",
       "      <td>4.0</td>\n",
       "      <td>céu claro</td>\n",
       "      <td>0.0</td>\n",
       "      <td>NaN</td>\n",
       "    </tr>\n",
       "    <tr>\n",
       "      <th>4</th>\n",
       "      <td>Porto</td>\n",
       "      <td>2019-06-06 12:00:00</td>\n",
       "      <td>Medium</td>\n",
       "      <td>41.6</td>\n",
       "      <td>50.4</td>\n",
       "      <td>77.0</td>\n",
       "      <td>LIGHT</td>\n",
       "      <td>15.0</td>\n",
       "      <td>1008.0</td>\n",
       "      <td>82.0</td>\n",
       "      <td>10.0</td>\n",
       "      <td>NaN</td>\n",
       "      <td>0.0</td>\n",
       "      <td>NaN</td>\n",
       "    </tr>\n",
       "  </tbody>\n",
       "</table>\n",
       "</div>"
      ],
      "text/plain": [
       "  city_name          record_date AVERAGE_SPEED_DIFF  AVERAGE_FREE_FLOW_SPEED  \\\n",
       "0     Porto  2019-08-29 07:00:00             Medium                     41.5   \n",
       "1     Porto  2018-08-10 14:00:00               High                     41.7   \n",
       "2     Porto  2019-09-01 16:00:00               High                     38.6   \n",
       "3     Porto  2019-02-26 11:00:00               High                     37.4   \n",
       "4     Porto  2019-06-06 12:00:00             Medium                     41.6   \n",
       "\n",
       "   AVERAGE_TIME_DIFF  AVERAGE_FREE_FLOW_TIME LUMINOSITY  AVERAGE_TEMPERATURE  \\\n",
       "0               11.5                    71.4      LIGHT                 15.0   \n",
       "1               48.3                    87.4      LIGHT                 21.0   \n",
       "2               38.4                    85.2      LIGHT                 26.0   \n",
       "3               61.0                    94.1      LIGHT                 18.0   \n",
       "4               50.4                    77.0      LIGHT                 15.0   \n",
       "\n",
       "   AVERAGE_ATMOSP_PRESSURE  AVERAGE_HUMIDITY  AVERAGE_WIND_SPEED  \\\n",
       "0                   1019.0             100.0                 3.0   \n",
       "1                   1021.0              53.0                 5.0   \n",
       "2                   1014.0              61.0                 4.0   \n",
       "3                   1025.0              48.0                 4.0   \n",
       "4                   1008.0              82.0                10.0   \n",
       "\n",
       "  AVERAGE_CLOUDINESS  AVERAGE_PRECIPITATION AVERAGE_RAIN  \n",
       "0                NaN                    0.0          NaN  \n",
       "1          céu claro                    0.0          NaN  \n",
       "2                NaN                    0.0          NaN  \n",
       "3          céu claro                    0.0          NaN  \n",
       "4                NaN                    0.0          NaN  "
      ]
     },
     "execution_count": 2,
     "metadata": {},
     "output_type": "execute_result"
    }
   ],
   "source": [
    "df.head()"
   ]
  },
  {
   "cell_type": "code",
   "execution_count": 3,
   "id": "3fec3c19-634e-4159-9de5-67b0eac98b76",
   "metadata": {},
   "outputs": [
    {
     "name": "stdout",
     "output_type": "stream",
     "text": [
      "<class 'pandas.core.frame.DataFrame'>\n",
      "RangeIndex: 6812 entries, 0 to 6811\n",
      "Data columns (total 14 columns):\n",
      " #   Column                   Non-Null Count  Dtype  \n",
      "---  ------                   --------------  -----  \n",
      " 0   city_name                6812 non-null   object \n",
      " 1   record_date              6812 non-null   object \n",
      " 2   AVERAGE_SPEED_DIFF       6812 non-null   object \n",
      " 3   AVERAGE_FREE_FLOW_SPEED  6812 non-null   float64\n",
      " 4   AVERAGE_TIME_DIFF        6812 non-null   float64\n",
      " 5   AVERAGE_FREE_FLOW_TIME   6812 non-null   float64\n",
      " 6   LUMINOSITY               6812 non-null   object \n",
      " 7   AVERAGE_TEMPERATURE      6812 non-null   float64\n",
      " 8   AVERAGE_ATMOSP_PRESSURE  6812 non-null   float64\n",
      " 9   AVERAGE_HUMIDITY         6812 non-null   float64\n",
      " 10  AVERAGE_WIND_SPEED       6812 non-null   float64\n",
      " 11  AVERAGE_CLOUDINESS       4130 non-null   object \n",
      " 12  AVERAGE_PRECIPITATION    6812 non-null   float64\n",
      " 13  AVERAGE_RAIN             563 non-null    object \n",
      "dtypes: float64(8), object(6)\n",
      "memory usage: 745.2+ KB\n"
     ]
    }
   ],
   "source": [
    "df.info()"
   ]
  },
  {
   "cell_type": "markdown",
   "id": "3b6877f2-cc8b-4398-80aa-5f6e71e4d4ee",
   "metadata": {},
   "source": [
    "Podemos ver que há 14 colunas, 8 com floats e 6 com objects.\n",
    "Também podemos ver que ha missing values em AVERAGE_CLOUDINESS e AVERAGE_RAIN"
   ]
  },
  {
   "cell_type": "code",
   "execution_count": 4,
   "id": "de476299-2eca-493a-a2cd-edc1cabdbbb7",
   "metadata": {},
   "outputs": [
    {
     "name": "stdout",
     "output_type": "stream",
     "text": [
      "<class 'pandas.core.frame.DataFrame'>\n",
      "RangeIndex: 1500 entries, 0 to 1499\n",
      "Data columns (total 13 columns):\n",
      " #   Column                   Non-Null Count  Dtype  \n",
      "---  ------                   --------------  -----  \n",
      " 0   city_name                1500 non-null   object \n",
      " 1   record_date              1500 non-null   object \n",
      " 2   AVERAGE_FREE_FLOW_SPEED  1500 non-null   float64\n",
      " 3   AVERAGE_TIME_DIFF        1500 non-null   float64\n",
      " 4   AVERAGE_FREE_FLOW_TIME   1500 non-null   float64\n",
      " 5   LUMINOSITY               1500 non-null   object \n",
      " 6   AVERAGE_TEMPERATURE      1500 non-null   float64\n",
      " 7   AVERAGE_ATMOSP_PRESSURE  1500 non-null   float64\n",
      " 8   AVERAGE_HUMIDITY         1500 non-null   float64\n",
      " 9   AVERAGE_WIND_SPEED       1500 non-null   float64\n",
      " 10  AVERAGE_CLOUDINESS       901 non-null    object \n",
      " 11  AVERAGE_PRECIPITATION    1500 non-null   float64\n",
      " 12  AVERAGE_RAIN             140 non-null    object \n",
      "dtypes: float64(8), object(5)\n",
      "memory usage: 152.5+ KB\n"
     ]
    }
   ],
   "source": [
    "dftest.info()"
   ]
  },
  {
   "cell_type": "code",
   "execution_count": 5,
   "id": "6f86b806-4e8e-4457-baf2-39184eadea1c",
   "metadata": {},
   "outputs": [
    {
     "name": "stdout",
     "output_type": "stream",
     "text": [
      "city_name                     0\n",
      "record_date                   0\n",
      "AVERAGE_SPEED_DIFF            0\n",
      "AVERAGE_FREE_FLOW_SPEED       0\n",
      "AVERAGE_TIME_DIFF             0\n",
      "AVERAGE_FREE_FLOW_TIME        0\n",
      "LUMINOSITY                    0\n",
      "AVERAGE_TEMPERATURE           0\n",
      "AVERAGE_ATMOSP_PRESSURE       0\n",
      "AVERAGE_HUMIDITY              0\n",
      "AVERAGE_WIND_SPEED            0\n",
      "AVERAGE_CLOUDINESS         2682\n",
      "AVERAGE_PRECIPITATION         0\n",
      "AVERAGE_RAIN               6249\n",
      "dtype: int64\n"
     ]
    }
   ],
   "source": [
    "print(df.isna().sum())"
   ]
  },
  {
   "cell_type": "code",
   "execution_count": 6,
   "id": "0119cc4c-ffd3-4d20-b5ca-5477a0e43034",
   "metadata": {},
   "outputs": [
    {
     "name": "stdout",
     "output_type": "stream",
     "text": [
      "['Medium' 'High' 'None' 'Low' 'Very_High']\n",
      "['LIGHT' 'LOW_LIGHT' 'DARK']\n",
      "[nan 'céu claro' 'nuvens dispersas' 'céu pouco nublado' 'céu limpo'\n",
      " 'algumas nuvens' 'nuvens quebrados' 'tempo nublado' 'nuvens quebradas'\n",
      " 'nublado']\n",
      "['Porto']\n",
      "[nan 'chuva fraca' 'chuva' 'chuva leve' 'chuvisco fraco' 'chuva moderada'\n",
      " 'trovoada com chuva leve' 'aguaceiros' 'aguaceiros fracos'\n",
      " 'chuva de intensidade pesada' 'trovoada com chuva'\n",
      " 'chuva de intensidade pesado' 'chuva forte' 'chuvisco e chuva fraca']\n",
      "[0.]\n",
      "['2019-08-29 07:00:00' '2018-08-10 14:00:00' '2019-09-01 16:00:00' ...\n",
      " '2018-10-02 04:00:00' '2019-01-30 01:00:00' '2019-06-15 21:00:00']\n"
     ]
    }
   ],
   "source": [
    "print(df.AVERAGE_SPEED_DIFF.unique())\n",
    "print(df.LUMINOSITY.unique())\n",
    "print(df.AVERAGE_CLOUDINESS.unique())\n",
    "print(df.city_name.unique())\n",
    "print(df.AVERAGE_RAIN.unique())\n",
    "print(df.AVERAGE_PRECIPITATION.unique())\n",
    "print(df.record_date.unique())"
   ]
  },
  {
   "cell_type": "markdown",
   "id": "11a67489-04ee-49c2-a1cc-1f382d4938d4",
   "metadata": {},
   "source": [
    "Melhor analisando o data set vemos que AVERAGE_PRECIPITATION e city_name tem sempre o msm valor"
   ]
  },
  {
   "cell_type": "code",
   "execution_count": 7,
   "id": "ae723a09-f84c-42ec-9047-099e78228b25",
   "metadata": {},
   "outputs": [],
   "source": [
    "df=df.drop(['city_name','AVERAGE_PRECIPITATION','AVERAGE_RAIN'],axis=1)\n",
    "dftest=dftest.drop(['city_name','AVERAGE_PRECIPITATION','AVERAGE_RAIN'],axis=1)"
   ]
  },
  {
   "cell_type": "code",
   "execution_count": 8,
   "id": "4c1c93c6-3fe9-49ec-9873-e526961abc04",
   "metadata": {},
   "outputs": [],
   "source": [
    "df['LUMINOSITY'].replace({\"DARK\": 0, \"LOW_LIGHT\": 1, \"LIGHT\": 2}, inplace=True)\n",
    "dftest['LUMINOSITY'].replace({\"DARK\": 0, \"LOW_LIGHT\": 1, \"LIGHT\": 2}, inplace=True)\n",
    "df['AVERAGE_CLOUDINESS'].replace({\"céu limpo\": 0, \"céu claro\": 1, \"nuvens dispersas\": 2,\"nuvens quebrados\": 3,\"nuvens quebradas\": 3,\"algumas nuvens\": 4,\"céu pouco nublado\":5,'tempo nublado': 6,'nublado': 6}, inplace=True)\n",
    "dftest['AVERAGE_CLOUDINESS'].replace({\"céu limpo\": 0, \"céu claro\": 1, \"nuvens dispersas\": 2,\"nuvens quebrados\": 3,\"nuvens quebradas\": 3,\"algumas nuvens\": 4,\"céu pouco nublado\":5,'tempo nublado': 6,'nublado': 6}, inplace=True)"
   ]
  },
  {
   "cell_type": "code",
   "execution_count": 9,
   "id": "8e502aa8-1b20-4c70-85e7-d1125f13ad05",
   "metadata": {},
   "outputs": [
    {
     "data": {
      "text/html": [
       "<div>\n",
       "<style scoped>\n",
       "    .dataframe tbody tr th:only-of-type {\n",
       "        vertical-align: middle;\n",
       "    }\n",
       "\n",
       "    .dataframe tbody tr th {\n",
       "        vertical-align: top;\n",
       "    }\n",
       "\n",
       "    .dataframe thead th {\n",
       "        text-align: right;\n",
       "    }\n",
       "</style>\n",
       "<table border=\"1\" class=\"dataframe\">\n",
       "  <thead>\n",
       "    <tr style=\"text-align: right;\">\n",
       "      <th></th>\n",
       "      <th>record_date</th>\n",
       "      <th>AVERAGE_SPEED_DIFF</th>\n",
       "      <th>AVERAGE_FREE_FLOW_SPEED</th>\n",
       "      <th>AVERAGE_TIME_DIFF</th>\n",
       "      <th>AVERAGE_FREE_FLOW_TIME</th>\n",
       "      <th>LUMINOSITY</th>\n",
       "      <th>AVERAGE_TEMPERATURE</th>\n",
       "      <th>AVERAGE_ATMOSP_PRESSURE</th>\n",
       "      <th>AVERAGE_HUMIDITY</th>\n",
       "      <th>AVERAGE_WIND_SPEED</th>\n",
       "      <th>AVERAGE_CLOUDINESS</th>\n",
       "    </tr>\n",
       "  </thead>\n",
       "  <tbody>\n",
       "    <tr>\n",
       "      <th>0</th>\n",
       "      <td>2019-08-29 07:00:00</td>\n",
       "      <td>Medium</td>\n",
       "      <td>41.5</td>\n",
       "      <td>11.5</td>\n",
       "      <td>71.4</td>\n",
       "      <td>2</td>\n",
       "      <td>15.0</td>\n",
       "      <td>1019.0</td>\n",
       "      <td>100.0</td>\n",
       "      <td>3.0</td>\n",
       "      <td>NaN</td>\n",
       "    </tr>\n",
       "    <tr>\n",
       "      <th>1</th>\n",
       "      <td>2018-08-10 14:00:00</td>\n",
       "      <td>High</td>\n",
       "      <td>41.7</td>\n",
       "      <td>48.3</td>\n",
       "      <td>87.4</td>\n",
       "      <td>2</td>\n",
       "      <td>21.0</td>\n",
       "      <td>1021.0</td>\n",
       "      <td>53.0</td>\n",
       "      <td>5.0</td>\n",
       "      <td>1.0</td>\n",
       "    </tr>\n",
       "    <tr>\n",
       "      <th>2</th>\n",
       "      <td>2019-09-01 16:00:00</td>\n",
       "      <td>High</td>\n",
       "      <td>38.6</td>\n",
       "      <td>38.4</td>\n",
       "      <td>85.2</td>\n",
       "      <td>2</td>\n",
       "      <td>26.0</td>\n",
       "      <td>1014.0</td>\n",
       "      <td>61.0</td>\n",
       "      <td>4.0</td>\n",
       "      <td>NaN</td>\n",
       "    </tr>\n",
       "    <tr>\n",
       "      <th>3</th>\n",
       "      <td>2019-02-26 11:00:00</td>\n",
       "      <td>High</td>\n",
       "      <td>37.4</td>\n",
       "      <td>61.0</td>\n",
       "      <td>94.1</td>\n",
       "      <td>2</td>\n",
       "      <td>18.0</td>\n",
       "      <td>1025.0</td>\n",
       "      <td>48.0</td>\n",
       "      <td>4.0</td>\n",
       "      <td>1.0</td>\n",
       "    </tr>\n",
       "    <tr>\n",
       "      <th>4</th>\n",
       "      <td>2019-06-06 12:00:00</td>\n",
       "      <td>Medium</td>\n",
       "      <td>41.6</td>\n",
       "      <td>50.4</td>\n",
       "      <td>77.0</td>\n",
       "      <td>2</td>\n",
       "      <td>15.0</td>\n",
       "      <td>1008.0</td>\n",
       "      <td>82.0</td>\n",
       "      <td>10.0</td>\n",
       "      <td>NaN</td>\n",
       "    </tr>\n",
       "  </tbody>\n",
       "</table>\n",
       "</div>"
      ],
      "text/plain": [
       "           record_date AVERAGE_SPEED_DIFF  AVERAGE_FREE_FLOW_SPEED  \\\n",
       "0  2019-08-29 07:00:00             Medium                     41.5   \n",
       "1  2018-08-10 14:00:00               High                     41.7   \n",
       "2  2019-09-01 16:00:00               High                     38.6   \n",
       "3  2019-02-26 11:00:00               High                     37.4   \n",
       "4  2019-06-06 12:00:00             Medium                     41.6   \n",
       "\n",
       "   AVERAGE_TIME_DIFF  AVERAGE_FREE_FLOW_TIME  LUMINOSITY  AVERAGE_TEMPERATURE  \\\n",
       "0               11.5                    71.4           2                 15.0   \n",
       "1               48.3                    87.4           2                 21.0   \n",
       "2               38.4                    85.2           2                 26.0   \n",
       "3               61.0                    94.1           2                 18.0   \n",
       "4               50.4                    77.0           2                 15.0   \n",
       "\n",
       "   AVERAGE_ATMOSP_PRESSURE  AVERAGE_HUMIDITY  AVERAGE_WIND_SPEED  \\\n",
       "0                   1019.0             100.0                 3.0   \n",
       "1                   1021.0              53.0                 5.0   \n",
       "2                   1014.0              61.0                 4.0   \n",
       "3                   1025.0              48.0                 4.0   \n",
       "4                   1008.0              82.0                10.0   \n",
       "\n",
       "   AVERAGE_CLOUDINESS  \n",
       "0                 NaN  \n",
       "1                 1.0  \n",
       "2                 NaN  \n",
       "3                 1.0  \n",
       "4                 NaN  "
      ]
     },
     "execution_count": 9,
     "metadata": {},
     "output_type": "execute_result"
    }
   ],
   "source": [
    "df.head()"
   ]
  },
  {
   "cell_type": "code",
   "execution_count": 10,
   "id": "8049bded-0f2e-43a7-a131-334e85a042cc",
   "metadata": {},
   "outputs": [],
   "source": [
    "df['record_date'] = pd.to_datetime(df['record_date'])\n",
    "dftest['record_date'] = pd.to_datetime(dftest['record_date'])"
   ]
  },
  {
   "cell_type": "code",
   "execution_count": 11,
   "id": "41365450-fcf9-44ac-9013-bf7b7ebc7913",
   "metadata": {},
   "outputs": [
    {
     "name": "stdout",
     "output_type": "stream",
     "text": [
      "<class 'pandas.core.frame.DataFrame'>\n",
      "RangeIndex: 6812 entries, 0 to 6811\n",
      "Data columns (total 11 columns):\n",
      " #   Column                   Non-Null Count  Dtype  \n",
      "---  ------                   --------------  -----  \n",
      " 0   record_date              6812 non-null   int64  \n",
      " 1   AVERAGE_SPEED_DIFF       6812 non-null   object \n",
      " 2   AVERAGE_FREE_FLOW_SPEED  6812 non-null   float64\n",
      " 3   AVERAGE_TIME_DIFF        6812 non-null   float64\n",
      " 4   AVERAGE_FREE_FLOW_TIME   6812 non-null   float64\n",
      " 5   LUMINOSITY               6812 non-null   int64  \n",
      " 6   AVERAGE_TEMPERATURE      6812 non-null   float64\n",
      " 7   AVERAGE_ATMOSP_PRESSURE  6812 non-null   float64\n",
      " 8   AVERAGE_HUMIDITY         6812 non-null   float64\n",
      " 9   AVERAGE_WIND_SPEED       6812 non-null   float64\n",
      " 10  AVERAGE_CLOUDINESS       4130 non-null   float64\n",
      "dtypes: float64(8), int64(2), object(1)\n",
      "memory usage: 585.5+ KB\n"
     ]
    }
   ],
   "source": [
    "df['record_date'] = df.record_date.dt.hour.astype(int)\n",
    "dftest['record_date'] = dftest.record_date.dt.hour.astype(int)\n",
    "#df['day of week'] = df.record_date.dt.day_name()\n",
    "df.info()"
   ]
  },
  {
   "cell_type": "code",
   "execution_count": 12,
   "id": "3fef6946-a20b-4c3a-af13-271860e25f22",
   "metadata": {},
   "outputs": [
    {
     "data": {
      "text/html": [
       "<div>\n",
       "<style scoped>\n",
       "    .dataframe tbody tr th:only-of-type {\n",
       "        vertical-align: middle;\n",
       "    }\n",
       "\n",
       "    .dataframe tbody tr th {\n",
       "        vertical-align: top;\n",
       "    }\n",
       "\n",
       "    .dataframe thead th {\n",
       "        text-align: right;\n",
       "    }\n",
       "</style>\n",
       "<table border=\"1\" class=\"dataframe\">\n",
       "  <thead>\n",
       "    <tr style=\"text-align: right;\">\n",
       "      <th></th>\n",
       "      <th>record_date</th>\n",
       "      <th>AVERAGE_SPEED_DIFF</th>\n",
       "      <th>AVERAGE_FREE_FLOW_SPEED</th>\n",
       "      <th>AVERAGE_TIME_DIFF</th>\n",
       "      <th>AVERAGE_FREE_FLOW_TIME</th>\n",
       "      <th>LUMINOSITY</th>\n",
       "      <th>AVERAGE_TEMPERATURE</th>\n",
       "      <th>AVERAGE_ATMOSP_PRESSURE</th>\n",
       "      <th>AVERAGE_HUMIDITY</th>\n",
       "      <th>AVERAGE_WIND_SPEED</th>\n",
       "      <th>AVERAGE_CLOUDINESS</th>\n",
       "    </tr>\n",
       "  </thead>\n",
       "  <tbody>\n",
       "    <tr>\n",
       "      <th>0</th>\n",
       "      <td>7</td>\n",
       "      <td>Medium</td>\n",
       "      <td>41.5</td>\n",
       "      <td>11.5</td>\n",
       "      <td>71.4</td>\n",
       "      <td>2</td>\n",
       "      <td>15.0</td>\n",
       "      <td>1019.0</td>\n",
       "      <td>100.0</td>\n",
       "      <td>3.0</td>\n",
       "      <td>NaN</td>\n",
       "    </tr>\n",
       "    <tr>\n",
       "      <th>1</th>\n",
       "      <td>14</td>\n",
       "      <td>High</td>\n",
       "      <td>41.7</td>\n",
       "      <td>48.3</td>\n",
       "      <td>87.4</td>\n",
       "      <td>2</td>\n",
       "      <td>21.0</td>\n",
       "      <td>1021.0</td>\n",
       "      <td>53.0</td>\n",
       "      <td>5.0</td>\n",
       "      <td>1.0</td>\n",
       "    </tr>\n",
       "    <tr>\n",
       "      <th>2</th>\n",
       "      <td>16</td>\n",
       "      <td>High</td>\n",
       "      <td>38.6</td>\n",
       "      <td>38.4</td>\n",
       "      <td>85.2</td>\n",
       "      <td>2</td>\n",
       "      <td>26.0</td>\n",
       "      <td>1014.0</td>\n",
       "      <td>61.0</td>\n",
       "      <td>4.0</td>\n",
       "      <td>NaN</td>\n",
       "    </tr>\n",
       "    <tr>\n",
       "      <th>3</th>\n",
       "      <td>11</td>\n",
       "      <td>High</td>\n",
       "      <td>37.4</td>\n",
       "      <td>61.0</td>\n",
       "      <td>94.1</td>\n",
       "      <td>2</td>\n",
       "      <td>18.0</td>\n",
       "      <td>1025.0</td>\n",
       "      <td>48.0</td>\n",
       "      <td>4.0</td>\n",
       "      <td>1.0</td>\n",
       "    </tr>\n",
       "    <tr>\n",
       "      <th>4</th>\n",
       "      <td>12</td>\n",
       "      <td>Medium</td>\n",
       "      <td>41.6</td>\n",
       "      <td>50.4</td>\n",
       "      <td>77.0</td>\n",
       "      <td>2</td>\n",
       "      <td>15.0</td>\n",
       "      <td>1008.0</td>\n",
       "      <td>82.0</td>\n",
       "      <td>10.0</td>\n",
       "      <td>NaN</td>\n",
       "    </tr>\n",
       "  </tbody>\n",
       "</table>\n",
       "</div>"
      ],
      "text/plain": [
       "   record_date AVERAGE_SPEED_DIFF  AVERAGE_FREE_FLOW_SPEED  AVERAGE_TIME_DIFF  \\\n",
       "0            7             Medium                     41.5               11.5   \n",
       "1           14               High                     41.7               48.3   \n",
       "2           16               High                     38.6               38.4   \n",
       "3           11               High                     37.4               61.0   \n",
       "4           12             Medium                     41.6               50.4   \n",
       "\n",
       "   AVERAGE_FREE_FLOW_TIME  LUMINOSITY  AVERAGE_TEMPERATURE  \\\n",
       "0                    71.4           2                 15.0   \n",
       "1                    87.4           2                 21.0   \n",
       "2                    85.2           2                 26.0   \n",
       "3                    94.1           2                 18.0   \n",
       "4                    77.0           2                 15.0   \n",
       "\n",
       "   AVERAGE_ATMOSP_PRESSURE  AVERAGE_HUMIDITY  AVERAGE_WIND_SPEED  \\\n",
       "0                   1019.0             100.0                 3.0   \n",
       "1                   1021.0              53.0                 5.0   \n",
       "2                   1014.0              61.0                 4.0   \n",
       "3                   1025.0              48.0                 4.0   \n",
       "4                   1008.0              82.0                10.0   \n",
       "\n",
       "   AVERAGE_CLOUDINESS  \n",
       "0                 NaN  \n",
       "1                 1.0  \n",
       "2                 NaN  \n",
       "3                 1.0  \n",
       "4                 NaN  "
      ]
     },
     "execution_count": 12,
     "metadata": {},
     "output_type": "execute_result"
    }
   ],
   "source": [
    "df.head()"
   ]
  },
  {
   "cell_type": "markdown",
   "id": "8314ed4f-ae31-4b32-b0f6-09cd6e1cf8f1",
   "metadata": {},
   "source": [
    "Para fazer fill dos NaN da coluna average_rain podemos:\n",
    " - Criar uma nova categoria só para os que estavam null (DataFrame[ColName] = np.where(DataFrame[ColName].isnull(),\"Unknown\",DataFrame[ColName]))\n",
    " - Preencher com a moda dessa coluna (Data['Married'].fillna(Data['Married'].mode(), inplace=True))"
   ]
  },
  {
   "cell_type": "code",
   "execution_count": 13,
   "id": "144afd8f-83bd-43c5-bc35-f867925fbcb6",
   "metadata": {},
   "outputs": [],
   "source": [
    "#df['AVERAGE_RAIN'] = np.where(df['AVERAGE_RAIN'].isnull(),\"Unknown\",df['AVERAGE_RAIN'])\n",
    "#print(df['AVERAGE_RAIN'].isna().sum())"
   ]
  },
  {
   "cell_type": "code",
   "execution_count": 14,
   "id": "0c6f0ff0-a7e9-42d1-8a6e-4d6cbfe8fc3f",
   "metadata": {},
   "outputs": [
    {
     "data": {
      "text/html": [
       "<div>\n",
       "<style scoped>\n",
       "    .dataframe tbody tr th:only-of-type {\n",
       "        vertical-align: middle;\n",
       "    }\n",
       "\n",
       "    .dataframe tbody tr th {\n",
       "        vertical-align: top;\n",
       "    }\n",
       "\n",
       "    .dataframe thead th {\n",
       "        text-align: right;\n",
       "    }\n",
       "</style>\n",
       "<table border=\"1\" class=\"dataframe\">\n",
       "  <thead>\n",
       "    <tr style=\"text-align: right;\">\n",
       "      <th></th>\n",
       "      <th>record_date</th>\n",
       "      <th>AVERAGE_SPEED_DIFF</th>\n",
       "      <th>AVERAGE_FREE_FLOW_SPEED</th>\n",
       "      <th>AVERAGE_TIME_DIFF</th>\n",
       "      <th>AVERAGE_FREE_FLOW_TIME</th>\n",
       "      <th>LUMINOSITY</th>\n",
       "      <th>AVERAGE_TEMPERATURE</th>\n",
       "      <th>AVERAGE_ATMOSP_PRESSURE</th>\n",
       "      <th>AVERAGE_HUMIDITY</th>\n",
       "      <th>AVERAGE_WIND_SPEED</th>\n",
       "      <th>AVERAGE_CLOUDINESS</th>\n",
       "    </tr>\n",
       "  </thead>\n",
       "  <tbody>\n",
       "    <tr>\n",
       "      <th>0</th>\n",
       "      <td>7</td>\n",
       "      <td>Medium</td>\n",
       "      <td>41.5</td>\n",
       "      <td>11.5</td>\n",
       "      <td>71.4</td>\n",
       "      <td>2</td>\n",
       "      <td>15.0</td>\n",
       "      <td>1019.0</td>\n",
       "      <td>100.0</td>\n",
       "      <td>3.0</td>\n",
       "      <td>NaN</td>\n",
       "    </tr>\n",
       "    <tr>\n",
       "      <th>1</th>\n",
       "      <td>14</td>\n",
       "      <td>High</td>\n",
       "      <td>41.7</td>\n",
       "      <td>48.3</td>\n",
       "      <td>87.4</td>\n",
       "      <td>2</td>\n",
       "      <td>21.0</td>\n",
       "      <td>1021.0</td>\n",
       "      <td>53.0</td>\n",
       "      <td>5.0</td>\n",
       "      <td>1.0</td>\n",
       "    </tr>\n",
       "    <tr>\n",
       "      <th>2</th>\n",
       "      <td>16</td>\n",
       "      <td>High</td>\n",
       "      <td>38.6</td>\n",
       "      <td>38.4</td>\n",
       "      <td>85.2</td>\n",
       "      <td>2</td>\n",
       "      <td>26.0</td>\n",
       "      <td>1014.0</td>\n",
       "      <td>61.0</td>\n",
       "      <td>4.0</td>\n",
       "      <td>NaN</td>\n",
       "    </tr>\n",
       "    <tr>\n",
       "      <th>3</th>\n",
       "      <td>11</td>\n",
       "      <td>High</td>\n",
       "      <td>37.4</td>\n",
       "      <td>61.0</td>\n",
       "      <td>94.1</td>\n",
       "      <td>2</td>\n",
       "      <td>18.0</td>\n",
       "      <td>1025.0</td>\n",
       "      <td>48.0</td>\n",
       "      <td>4.0</td>\n",
       "      <td>1.0</td>\n",
       "    </tr>\n",
       "    <tr>\n",
       "      <th>4</th>\n",
       "      <td>12</td>\n",
       "      <td>Medium</td>\n",
       "      <td>41.6</td>\n",
       "      <td>50.4</td>\n",
       "      <td>77.0</td>\n",
       "      <td>2</td>\n",
       "      <td>15.0</td>\n",
       "      <td>1008.0</td>\n",
       "      <td>82.0</td>\n",
       "      <td>10.0</td>\n",
       "      <td>NaN</td>\n",
       "    </tr>\n",
       "  </tbody>\n",
       "</table>\n",
       "</div>"
      ],
      "text/plain": [
       "   record_date AVERAGE_SPEED_DIFF  AVERAGE_FREE_FLOW_SPEED  AVERAGE_TIME_DIFF  \\\n",
       "0            7             Medium                     41.5               11.5   \n",
       "1           14               High                     41.7               48.3   \n",
       "2           16               High                     38.6               38.4   \n",
       "3           11               High                     37.4               61.0   \n",
       "4           12             Medium                     41.6               50.4   \n",
       "\n",
       "   AVERAGE_FREE_FLOW_TIME  LUMINOSITY  AVERAGE_TEMPERATURE  \\\n",
       "0                    71.4           2                 15.0   \n",
       "1                    87.4           2                 21.0   \n",
       "2                    85.2           2                 26.0   \n",
       "3                    94.1           2                 18.0   \n",
       "4                    77.0           2                 15.0   \n",
       "\n",
       "   AVERAGE_ATMOSP_PRESSURE  AVERAGE_HUMIDITY  AVERAGE_WIND_SPEED  \\\n",
       "0                   1019.0             100.0                 3.0   \n",
       "1                   1021.0              53.0                 5.0   \n",
       "2                   1014.0              61.0                 4.0   \n",
       "3                   1025.0              48.0                 4.0   \n",
       "4                   1008.0              82.0                10.0   \n",
       "\n",
       "   AVERAGE_CLOUDINESS  \n",
       "0                 NaN  \n",
       "1                 1.0  \n",
       "2                 NaN  \n",
       "3                 1.0  \n",
       "4                 NaN  "
      ]
     },
     "execution_count": 14,
     "metadata": {},
     "output_type": "execute_result"
    }
   ],
   "source": [
    "df.head()"
   ]
  },
  {
   "cell_type": "code",
   "execution_count": 15,
   "id": "a0de4c38-43e5-47b8-a553-194b7c800764",
   "metadata": {},
   "outputs": [
    {
     "name": "stdout",
     "output_type": "stream",
     "text": [
      "record_date                   0\n",
      "AVERAGE_SPEED_DIFF            0\n",
      "AVERAGE_FREE_FLOW_SPEED       0\n",
      "AVERAGE_TIME_DIFF             0\n",
      "AVERAGE_FREE_FLOW_TIME        0\n",
      "LUMINOSITY                    0\n",
      "AVERAGE_TEMPERATURE           0\n",
      "AVERAGE_ATMOSP_PRESSURE       0\n",
      "AVERAGE_HUMIDITY              0\n",
      "AVERAGE_WIND_SPEED            0\n",
      "AVERAGE_CLOUDINESS         2682\n",
      "dtype: int64\n"
     ]
    }
   ],
   "source": [
    "print(df.isna().sum())"
   ]
  },
  {
   "cell_type": "code",
   "execution_count": 16,
   "id": "d2e7cbfb-ab2f-42fb-b7d6-516a1e428de9",
   "metadata": {},
   "outputs": [
    {
     "name": "stdout",
     "output_type": "stream",
     "text": [
      "0\n"
     ]
    }
   ],
   "source": [
    "#Fill null AVERAGE_CLOUDINESS\n",
    "#df['AVERAGE_CLOUDINESS'] = np.where(df['AVERAGE_CLOUDINESS'].isnull(),\"Unknown\",df['AVERAGE_CLOUDINESS'])\n",
    "df['AVERAGE_CLOUDINESS']=df['AVERAGE_CLOUDINESS'].fillna(method='bfill')\n",
    "df['AVERAGE_CLOUDINESS']=df['AVERAGE_CLOUDINESS'].fillna(method='ffill')\n",
    "print(df['AVERAGE_CLOUDINESS'].isna().sum())\n",
    "\n",
    "dftest['AVERAGE_CLOUDINESS']=dftest['AVERAGE_CLOUDINESS'].fillna(method='bfill')\n",
    "dftest['AVERAGE_CLOUDINESS']=dftest['AVERAGE_CLOUDINESS'].fillna(method='ffill')\n"
   ]
  },
  {
   "cell_type": "code",
   "execution_count": 17,
   "id": "3028058f-55e1-48db-a2e5-016e0a99a80c",
   "metadata": {},
   "outputs": [
    {
     "name": "stdout",
     "output_type": "stream",
     "text": [
      "<class 'pandas.core.frame.DataFrame'>\n",
      "RangeIndex: 6812 entries, 0 to 6811\n",
      "Data columns (total 11 columns):\n",
      " #   Column                   Non-Null Count  Dtype  \n",
      "---  ------                   --------------  -----  \n",
      " 0   record_date              6812 non-null   int64  \n",
      " 1   AVERAGE_SPEED_DIFF       6812 non-null   int64  \n",
      " 2   AVERAGE_FREE_FLOW_SPEED  6812 non-null   float64\n",
      " 3   AVERAGE_TIME_DIFF        6812 non-null   float64\n",
      " 4   AVERAGE_FREE_FLOW_TIME   6812 non-null   float64\n",
      " 5   LUMINOSITY               6812 non-null   int64  \n",
      " 6   AVERAGE_TEMPERATURE      6812 non-null   float64\n",
      " 7   AVERAGE_ATMOSP_PRESSURE  6812 non-null   float64\n",
      " 8   AVERAGE_HUMIDITY         6812 non-null   float64\n",
      " 9   AVERAGE_WIND_SPEED       6812 non-null   float64\n",
      " 10  AVERAGE_CLOUDINESS       6812 non-null   float64\n",
      "dtypes: float64(8), int64(3)\n",
      "memory usage: 585.5 KB\n"
     ]
    }
   ],
   "source": [
    "df['AVERAGE_SPEED_DIFF'].replace({\"None\": 0, \"Low\": 1, \"Medium\": 2, \"High\": 3, \"Very_High\": 4}, inplace=True)\n",
    "df.head()\n",
    "df.info()"
   ]
  },
  {
   "cell_type": "code",
   "execution_count": null,
   "id": "cf69d0c0-039d-4981-a93a-dd94514bdf58",
   "metadata": {},
   "outputs": [],
   "source": [
    "\n",
    "\n",
    "#Drop luminosity pode não ser importante\n",
    "print(sns.histplot(data=df[df['LUMINOSITY']==2], hue = 'LUMINOSITY', x = 'AVERAGE_SPEED_DIFF'))"
   ]
  },
  {
   "cell_type": "code",
   "execution_count": null,
   "id": "19bee839-14ba-4269-a99c-99de3a42f3e9",
   "metadata": {},
   "outputs": [],
   "source": [
    "df.describe()"
   ]
  },
  {
   "cell_type": "code",
   "execution_count": null,
   "id": "086bfe3e-72fb-4ab1-93ef-b62d9e9e9cc5",
   "metadata": {},
   "outputs": [],
   "source": [
    "cols = ['AVERAGE_SPEED_DIFF','AVERAGE_FREE_FLOW_SPEED', 'AVERAGE_TIME_DIFF', 'AVERAGE_FREE_FLOW_TIME']\n",
    "\n",
    "sns.pairplot(df[cols], height=2.5)"
   ]
  },
  {
   "cell_type": "code",
   "execution_count": 21,
   "id": "8d8c1d98-6b0e-45e7-82a8-9c9994225308",
   "metadata": {},
   "outputs": [
    {
     "data": {
      "text/plain": [
       "<AxesSubplot:>"
      ]
     },
     "execution_count": 21,
     "metadata": {},
     "output_type": "execute_result"
    },
    {
     "data": {
      "image/png": "[encoded data removed]",
      "text/plain": [
       "<Figure size 432x288 with 2 Axes>"
      ]
     },
     "metadata": {
      "needs_background": "light"
     },
     "output_type": "display_data"
    }
   ],
   "source": [
    "sns.heatmap(df.corr())"
   ]
  },
  {
   "cell_type": "code",
   "execution_count": 22,
   "id": "e5ec8d9b-4d1c-414a-8754-0291c3a01971",
   "metadata": {},
   "outputs": [
    {
     "data": {
      "text/plain": [
       "<AxesSubplot:xlabel='AVERAGE_TIME_DIFF'>"
      ]
     },
     "execution_count": 22,
     "metadata": {},
     "output_type": "execute_result"
    },
    {
     "data": {
      "image/png": "[encoded data removed]",
      "text/plain": [
       "<Figure size 432x288 with 1 Axes>"
      ]
     },
     "metadata": {
      "needs_background": "light"
     },
     "output_type": "display_data"
    }
   ],
   "source": [
    "sns.boxplot(x=df['AVERAGE_TIME_DIFF'])"
   ]
  },
  {
   "cell_type": "code",
   "execution_count": 23,
   "id": "d37ecf4d-3dc8-404a-a36d-894583b7c01a",
   "metadata": {},
   "outputs": [],
   "source": [
    "from scipy.stats.mstats import winsorize\n",
    "\n",
    "#time_dif = df['AVERAGE_TIME_DIFF']\n",
    "#time_dif.quantile(0.01)\n",
    "#time_dif.quantile(0.99)\n",
    "#df['AVERAGE_TIME_DIFF'] = winsorize(time_dif, (0.01,0.01))\n",
    "#sns.boxplot(x=df['AVERAGE_TIME_DIFF'])\n"
   ]
  },
  {
   "cell_type": "code",
   "execution_count": 24,
   "id": "26776054-43b9-44e4-8993-8fde161d0403",
   "metadata": {},
   "outputs": [],
   "source": [
    "x = df.drop(['AVERAGE_SPEED_DIFF'], axis=1)\n",
    "y = df['AVERAGE_SPEED_DIFF'].to_frame()"
   ]
  },
  {
   "cell_type": "code",
   "execution_count": 25,
   "id": "3b955516-df37-4a35-9672-f46859a562d3",
   "metadata": {},
   "outputs": [
    {
     "name": "stdout",
     "output_type": "stream",
     "text": [
      "record_date                0\n",
      "AVERAGE_FREE_FLOW_SPEED    0\n",
      "AVERAGE_TIME_DIFF          0\n",
      "AVERAGE_FREE_FLOW_TIME     0\n",
      "LUMINOSITY                 0\n",
      "AVERAGE_TEMPERATURE        0\n",
      "AVERAGE_ATMOSP_PRESSURE    0\n",
      "AVERAGE_HUMIDITY           0\n",
      "AVERAGE_WIND_SPEED         0\n",
      "AVERAGE_CLOUDINESS         0\n",
      "dtype: int64\n"
     ]
    }
   ],
   "source": [
    "print(x.isna().sum())"
   ]
  },
  {
   "cell_type": "code",
   "execution_count": 26,
   "id": "6276cbef-7962-4454-9599-6fda758e8676",
   "metadata": {},
   "outputs": [],
   "source": [
    "x_train,x_test,y_train,y_test=train_test_split(x,y,test_size=0.20, random_state=2021)"
   ]
  },
  {
   "cell_type": "code",
   "execution_count": 27,
   "id": "7cb86816-6ad4-4fb2-967d-0c7cdee21801",
   "metadata": {},
   "outputs": [
    {
     "name": "stderr",
     "output_type": "stream",
     "text": [
      "/home/carolina/anaconda3/envs/env_DAA/lib/python3.9/site-packages/seaborn/distributions.py:2619: FutureWarning: `distplot` is a deprecated function and will be removed in a future version. Please adapt your code to use either `displot` (a figure-level function with similar flexibility) or `histplot` (an axes-level function for histograms).\n",
      "  warnings.warn(msg, FutureWarning)\n"
     ]
    },
    {
     "data": {
      "text/plain": [
       "<AxesSubplot:ylabel='Density'>"
      ]
     },
     "execution_count": 27,
     "metadata": {},
     "output_type": "execute_result"
    },
    {
     "data": {
      "image/png": "[encoded data removed]",
      "text/plain": [
       "<Figure size 432x288 with 1 Axes>"
      ]
     },
     "metadata": {
      "needs_background": "light"
     },
     "output_type": "display_data"
    }
   ],
   "source": [
    "sns.distplot(y)"
   ]
  },
  {
   "cell_type": "code",
   "execution_count": 28,
   "id": "4063105a-5323-4a2d-bc78-d97e53f09c45",
   "metadata": {},
   "outputs": [
    {
     "name": "stderr",
     "output_type": "stream",
     "text": [
      "/home/carolina/anaconda3/envs/env_DAA/lib/python3.9/site-packages/seaborn/distributions.py:2619: FutureWarning: `distplot` is a deprecated function and will be removed in a future version. Please adapt your code to use either `displot` (a figure-level function with similar flexibility) or `histplot` (an axes-level function for histograms).\n",
      "  warnings.warn(msg, FutureWarning)\n"
     ]
    },
    {
     "data": {
      "text/plain": [
       "<AxesSubplot:ylabel='Density'>"
      ]
     },
     "execution_count": 28,
     "metadata": {},
     "output_type": "execute_result"
    },
    {
     "data": {
      "image/png": "[encoded data removed]",
      "text/plain": [
       "<Figure size 432x288 with 1 Axes>"
      ]
     },
     "metadata": {
      "needs_background": "light"
     },
     "output_type": "display_data"
    }
   ],
   "source": [
    "sns.distplot(y_train)"
   ]
  },
  {
   "cell_type": "code",
   "execution_count": 29,
   "id": "8dc68e95-9bbc-4832-a490-a5bb95d02a63",
   "metadata": {},
   "outputs": [
    {
     "name": "stderr",
     "output_type": "stream",
     "text": [
      "/home/carolina/anaconda3/envs/env_DAA/lib/python3.9/site-packages/seaborn/distributions.py:2619: FutureWarning: `distplot` is a deprecated function and will be removed in a future version. Please adapt your code to use either `displot` (a figure-level function with similar flexibility) or `histplot` (an axes-level function for histograms).\n",
      "  warnings.warn(msg, FutureWarning)\n"
     ]
    },
    {
     "data": {
      "text/plain": [
       "<AxesSubplot:ylabel='Density'>"
      ]
     },
     "execution_count": 29,
     "metadata": {},
     "output_type": "execute_result"
    },
    {
     "data": {
      "image/png": "[encoded data removed]",
      "text/plain": [
       "<Figure size 432x288 with 1 Axes>"
      ]
     },
     "metadata": {
      "needs_background": "light"
     },
     "output_type": "display_data"
    }
   ],
   "source": [
    "sns.distplot(y_test)"
   ]
  },
  {
   "cell_type": "markdown",
   "id": "15a6c067-3693-4ea8-9af9-58c61f459bd1",
   "metadata": {},
   "source": [
    "# Decision tree"
   ]
  },
  {
   "cell_type": "code",
   "execution_count": 30,
   "id": "304542d4-0706-46bd-8d1b-d9148e3853b1",
   "metadata": {},
   "outputs": [
    {
     "name": "stdout",
     "output_type": "stream",
     "text": [
      "RESULT: 0.72 accuracy with a standard deviation of 0.02\n"
     ]
    }
   ],
   "source": [
    "clf = DecisionTreeClassifier(random_state = 2021)\n",
    "scores=cross_val_score(clf,x_train,y_train,cv=10)\n",
    "print(\"RESULT: %0.2f accuracy with a standard deviation of %0.2f\" % (scores.mean(),scores.std()))"
   ]
  },
  {
   "cell_type": "code",
   "execution_count": 31,
   "id": "62498f2c-9d2e-4faa-b2bc-a12b8a8f6984",
   "metadata": {},
   "outputs": [
    {
     "name": "stdout",
     "output_type": "stream",
     "text": [
      "0.72 accuracy\n"
     ]
    }
   ],
   "source": [
    "clf.fit(x_train,y_train)\n",
    "predictions = clf.predict(x_test)\n",
    "predictions\n",
    "print(\"%0.2f accuracy\" % (accuracy_score(y_test,predictions)))"
   ]
  },
  {
   "cell_type": "code",
   "execution_count": 32,
   "id": "0f6db32f-c249-43ea-8cb6-c725c5f560a0",
   "metadata": {},
   "outputs": [],
   "source": [
    "criterion = ['gini', 'entropy']\n",
    "max_depth = [2,3,4,5,6,7,8,9,10,11,12,13]\n",
    "\n",
    "param_grid = {'criterion':criterion, 'max_depth':max_depth}\n",
    "grid = GridSearchCV(DecisionTreeClassifier(random_state=2021),param_grid,refit=True,verbose=3)\n",
    "#grid.fit(x_train, y_train)\n"
   ]
  },
  {
   "cell_type": "code",
   "execution_count": 33,
   "id": "94c3732d-cf4a-4c70-b608-47796a1c834c",
   "metadata": {},
   "outputs": [],
   "source": [
    "#grid_predictions = grid.predict(x_test)\n",
    "#print(classification_report(y_test,grid_predictions))"
   ]
  },
  {
   "cell_type": "code",
   "execution_count": 34,
   "id": "ff1fcf11-be86-4bca-9e92-61d0ef396e31",
   "metadata": {},
   "outputs": [],
   "source": [
    "#grid.best_params_"
   ]
  },
  {
   "cell_type": "code",
   "execution_count": 35,
   "id": "47f9b8c8-76ec-4ac2-ad43-f48a7f5b68a7",
   "metadata": {},
   "outputs": [
    {
     "data": {
      "text/plain": [
       "array([0, 1, 0, ..., 0, 4, 1])"
      ]
     },
     "execution_count": 35,
     "metadata": {},
     "output_type": "execute_result"
    }
   ],
   "source": [
    "clf = DecisionTreeClassifier(criterion='gini', max_depth=7,random_state = 2021)\n",
    "clf.fit(x,y)\n",
    "predictions = clf.predict(dftest)\n",
    "predictions"
   ]
  },
  {
   "cell_type": "markdown",
   "id": "b524f8ba-7040-498a-a99a-63f244703d77",
   "metadata": {},
   "source": [
    "# Support vector machine\n"
   ]
  },
  {
   "cell_type": "code",
   "execution_count": 36,
   "id": "ad152e46-f80e-4ada-8974-e7ee3be0e4ea",
   "metadata": {},
   "outputs": [],
   "source": [
    "x_train,x_test,y_train,y_test=train_test_split(x,y,test_size=0.20, random_state=2021)"
   ]
  },
  {
   "cell_type": "code",
   "execution_count": 37,
   "id": "397a6926-8143-46d1-9f52-9bf885587530",
   "metadata": {},
   "outputs": [
    {
     "data": {
      "text/plain": [
       "array([0.55412844, 0.53577982, 0.58348624, 0.58715596, 0.53944954,\n",
       "       0.56880734, 0.56513761, 0.57798165, 0.54311927, 0.55882353])"
      ]
     },
     "execution_count": 37,
     "metadata": {},
     "output_type": "execute_result"
    }
   ],
   "source": [
    "cross_valid_model = SVC(random_state=2021)\n",
    "scores = cross_val_score(cross_valid_model, x_train, np.ravel(y_train), cv=10)\n",
    "scores"
   ]
  },
  {
   "cell_type": "code",
   "execution_count": 38,
   "id": "6596a878-83a5-4ccf-a448-5a3d484a2ac1",
   "metadata": {},
   "outputs": [
    {
     "name": "stdout",
     "output_type": "stream",
     "text": [
      "RESULT: 0.56 accuracy with a standard deviation of 0.02\n"
     ]
    }
   ],
   "source": [
    "print(\"RESULT: %0.2f accuracy with a standard deviation of %0.2f\" % (scores.mean(),scores.std()))"
   ]
  },
  {
   "cell_type": "code",
   "execution_count": 39,
   "id": "8fcf4c70-b190-4e90-97f8-c04dd2b051d6",
   "metadata": {},
   "outputs": [
    {
     "name": "stdout",
     "output_type": "stream",
     "text": [
      "              precision    recall  f1-score   support\n",
      "\n",
      "           0       0.63      1.00      0.77       465\n",
      "           1       0.44      0.08      0.14       263\n",
      "           2       0.65      0.69      0.67       324\n",
      "           3       0.53      0.52      0.52       211\n",
      "           4       0.76      0.25      0.38       100\n",
      "\n",
      "    accuracy                           0.62      1363\n",
      "   macro avg       0.60      0.51      0.49      1363\n",
      "weighted avg       0.59      0.62      0.56      1363\n",
      "\n"
     ]
    }
   ],
   "source": [
    "model = SVC(kernel='rbf', C=3,random_state=2021)\n",
    "model.fit(x_train, np.ravel(y_train))\n",
    "predictions=model.predict(x_test)\n",
    "print(classification_report(y_test,predictions))"
   ]
  },
  {
   "cell_type": "code",
   "execution_count": 40,
   "id": "575c2c4f-813d-40b1-9f3e-e68ca3c5da06",
   "metadata": {},
   "outputs": [],
   "source": [
    "#param_grid = {'C': [0.1,1,10,100,1000],'gamma':[1,0.1,0.01,0.001,0.0001],'kernel':['rbf','sigmoid' ]}\n",
    "#{'C': 100, 'gamma': 0.0001, 'kernel': 'rbf'}   0.79 accuracy\n",
    "param_grid = {'C': [50,100,150, 200, 250, 1000],'gamma':[0.001,0.0001, 0.00001, 0.000001],'kernel':['rbf' ]}\n",
    "grid = GridSearchCV(SVC(random_state=2021),param_grid,refit=True,verbose=3)\n",
    "#grid.fit(x_train,np.ravel(y_train))\n"
   ]
  },
  {
   "cell_type": "code",
   "execution_count": 41,
   "id": "5cf510cb-2387-4cd1-89b4-bf3d711e31b2",
   "metadata": {},
   "outputs": [],
   "source": [
    "#grid.best_params_"
   ]
  },
  {
   "cell_type": "code",
   "execution_count": 42,
   "id": "51a80b07-9bb0-4c3f-bf93-0b5ce9e42de0",
   "metadata": {},
   "outputs": [],
   "source": [
    "#grid_predictions=grid.predict(x_test)\n",
    "#print(\"%0.2f accuracy\" % (accuracy_score(y_test,grid_predictions)))\n",
    "\n"
   ]
  },
  {
   "cell_type": "markdown",
   "id": "88107243-7e49-4432-9bf4-2a065103bc46",
   "metadata": {},
   "source": [
    "# Redes neuronais\n"
   ]
  },
  {
   "cell_type": "code",
   "execution_count": 43,
   "id": "65a9c0a4-9745-49e7-aa50-b70a454b2aec",
   "metadata": {},
   "outputs": [
    {
     "name": "stdout",
     "output_type": "stream",
     "text": [
      "TensorFlow version: 2.4.1\n"
     ]
    }
   ],
   "source": [
    "import tensorflow as tf\n",
    "from tensorflow.keras.models import Sequential\n",
    "from tensorflow.keras.layers import Dense, Dropout, BatchNormalization\n",
    "from tensorflow.keras.wrappers.scikit_learn import KerasClassifier\n",
    "from keras.utils.np_utils import to_categorical\n",
    "from sklearn.experimental import enable_halving_search_cv \n",
    "from sklearn.model_selection import HalvingGridSearchCV, KFold, train_test_split\n",
    "from sklearn.preprocessing import MinMaxScaler\n",
    "\n",
    "print(\"TensorFlow version:\" , tf.__version__)"
   ]
  },
  {
   "cell_type": "code",
   "execution_count": 44,
   "id": "3bc4981c-f3d5-41da-8a4c-4111c656242b",
   "metadata": {},
   "outputs": [],
   "source": [
    "#def build_model(activation='relu', learning_rate=0.01):\n",
    "def build_model(activation='relu', learning_rate=0.01):\n",
    "    model= Sequential()\n",
    "    model.add(Dense(50, input_dim=10, activation = activation))\n",
    "    model.add(Dense(75, activation=activation))\n",
    "    model.add(Dense(75, activation=activation))\n",
    "    model.add(Dense(5, activation='sigmoid')) #layer do output\n",
    "    \n",
    "    model.compile(\n",
    "        loss='binary_crossentropy',\n",
    "        optimizer = tf.optimizers.Adam(learning_rate),\n",
    "        metrics = ['accuracy']) #metricas de avaliacao do modelo\n",
    "    return model"
   ]
  },
  {
   "cell_type": "code",
   "execution_count": 45,
   "id": "a64f4dd7-79f3-4610-9239-59cc3c7f918a",
   "metadata": {},
   "outputs": [
    {
     "data": {
      "text/plain": [
       "array([[0., 0., 1., 0., 0.],\n",
       "       [0., 0., 0., 1., 0.],\n",
       "       [0., 0., 0., 1., 0.],\n",
       "       [0., 0., 0., 1., 0.],\n",
       "       [0., 0., 1., 0., 0.]], dtype=float32)"
      ]
     },
     "execution_count": 45,
     "metadata": {},
     "output_type": "execute_result"
    }
   ],
   "source": [
    "y_encoded = to_categorical(y)\n",
    "y_encoded[:5]"
   ]
  },
  {
   "cell_type": "code",
   "execution_count": 46,
   "id": "321aa9a6-91ca-418c-89ed-4e97ea05f496",
   "metadata": {},
   "outputs": [],
   "source": [
    "x_train,x_test,y_train,y_test=train_test_split(x,y_encoded,test_size=0.20, random_state=2021)"
   ]
  },
  {
   "cell_type": "code",
   "execution_count": 47,
   "id": "00c6f203-1dcc-4bd4-9d68-b4f8ac2c214d",
   "metadata": {},
   "outputs": [],
   "source": [
    "TUNING_DICT = {\n",
    "    'activation' : ['relu', 'tanh'],\n",
    "    'learning_rate' : [0.01, 0.001, 0.0001, 0.00001]\n",
    "}\n"
   ]
  },
  {
   "cell_type": "code",
   "execution_count": null,
   "id": "e3ab4cc4-992b-449c-9577-ded7b54980f3",
   "metadata": {},
   "outputs": [],
   "source": []
  },
  {
   "cell_type": "code",
   "execution_count": null,
   "id": "ff452f4f-8694-49b1-b8ee-8c1986afd9ec",
   "metadata": {},
   "outputs": [
    {
     "name": "stdout",
     "output_type": "stream",
     "text": [
      "Fitting 3 folds for each of 8 candidates, totalling 24 fits\n"
     ]
    },
    {
     "name": "stderr",
     "output_type": "stream",
     "text": [
      "2021-11-28 20:44:05.811506: I tensorflow/compiler/jit/xla_cpu_device.cc:41] Not creating XLA devices, tf_xla_enable_xla_devices not set\n",
      "2021-11-28 20:44:05.812360: I tensorflow/core/platform/cpu_feature_guard.cc:142] This TensorFlow binary is optimized with oneAPI Deep Neural Network Library (oneDNN) to use the following CPU instructions in performance-critical operations:  SSE4.1 SSE4.2 AVX AVX2 FMA\n",
      "To enable them in other operations, rebuild TensorFlow with the appropriate compiler flags.\n",
      "2021-11-28 20:44:05.813611: I tensorflow/core/common_runtime/process_util.cc:146] Creating new thread pool with default inter op setting: 2. Tune using inter_op_parallelism_threads for best performance.\n",
      "2021-11-28 20:44:06.080098: I tensorflow/compiler/mlir/mlir_graph_optimization_pass.cc:116] None of the MLIR optimization passes are enabled (registered 2)\n",
      "2021-11-28 20:44:06.109184: I tensorflow/core/platform/profile_utils/cpu_utils.cc:112] CPU Frequency: 1800000000 Hz\n"
     ]
    },
    {
     "name": "stdout",
     "output_type": "stream",
     "text": [
      "Epoch 1/50\n",
      "291/291 [==============================] - 3s 7ms/step - loss: 3.6267 - accuracy: 0.3813 - val_loss: 0.4088 - val_accuracy: 0.5007\n",
      "Epoch 2/50\n",
      "291/291 [==============================] - 1s 4ms/step - loss: 0.3474 - accuracy: 0.5714 - val_loss: 0.2968 - val_accuracy: 0.6974\n",
      "Epoch 3/50\n",
      "291/291 [==============================] - 2s 6ms/step - loss: 0.3013 - accuracy: 0.6457 - val_loss: 0.3100 - val_accuracy: 0.6327\n",
      "Epoch 4/50\n",
      "291/291 [==============================] - 3s 9ms/step - loss: 0.2873 - accuracy: 0.6701 - val_loss: 0.3062 - val_accuracy: 0.6534\n",
      "Epoch 5/50\n",
      "291/291 [==============================] - 2s 8ms/step - loss: 0.2896 - accuracy: 0.6662 - val_loss: 0.3201 - val_accuracy: 0.6396\n",
      "Epoch 6/50\n",
      "291/291 [==============================] - 2s 6ms/step - loss: 0.2709 - accuracy: 0.6816 - val_loss: 0.2387 - val_accuracy: 0.7497\n",
      "Epoch 7/50\n",
      "291/291 [==============================] - 2s 6ms/step - loss: 0.2632 - accuracy: 0.6960 - val_loss: 0.2750 - val_accuracy: 0.6589\n",
      "Epoch 8/50\n",
      "291/291 [==============================] - 2s 5ms/step - loss: 0.2598 - accuracy: 0.7079 - val_loss: 0.2543 - val_accuracy: 0.7084\n",
      "Epoch 9/50\n",
      "291/291 [==============================] - 1s 4ms/step - loss: 0.2584 - accuracy: 0.6851 - val_loss: 0.2503 - val_accuracy: 0.6891\n",
      "Epoch 10/50\n",
      "291/291 [==============================] - 1s 5ms/step - loss: 0.2849 - accuracy: 0.6505 - val_loss: 0.2368 - val_accuracy: 0.7111\n",
      "Epoch 11/50\n",
      "291/291 [==============================] - 1s 4ms/step - loss: 0.2594 - accuracy: 0.6959 - val_loss: 0.2954 - val_accuracy: 0.6424\n",
      "Epoch 12/50\n",
      "291/291 [==============================] - 1s 5ms/step - loss: 0.2624 - accuracy: 0.6942 - val_loss: 0.2567 - val_accuracy: 0.7015\n",
      "Epoch 13/50\n",
      "291/291 [==============================] - 2s 8ms/step - loss: 0.2657 - accuracy: 0.6829 - val_loss: 0.2842 - val_accuracy: 0.6506\n",
      "Epoch 14/50\n",
      "291/291 [==============================] - 2s 8ms/step - loss: 0.2674 - accuracy: 0.6803 - val_loss: 0.2581 - val_accuracy: 0.6823\n",
      "Epoch 15/50\n",
      "291/291 [==============================] - 3s 10ms/step - loss: 0.2572 - accuracy: 0.6893 - val_loss: 0.2192 - val_accuracy: 0.7387\n",
      "Epoch 16/50\n",
      "291/291 [==============================] - 2s 5ms/step - loss: 0.2511 - accuracy: 0.6990 - val_loss: 0.2560 - val_accuracy: 0.6726\n",
      "Epoch 17/50\n",
      "291/291 [==============================] - 1s 5ms/step - loss: 0.2538 - accuracy: 0.7018 - val_loss: 0.2249 - val_accuracy: 0.7249\n",
      "Epoch 18/50\n",
      "291/291 [==============================] - 3s 9ms/step - loss: 0.2532 - accuracy: 0.7105 - val_loss: 0.2434 - val_accuracy: 0.7235\n",
      "Epoch 19/50\n",
      "291/291 [==============================] - 3s 9ms/step - loss: 0.2622 - accuracy: 0.6917 - val_loss: 0.2763 - val_accuracy: 0.7029\n",
      "Epoch 20/50\n",
      "291/291 [==============================] - 3s 9ms/step - loss: 0.2585 - accuracy: 0.6892 - val_loss: 0.2188 - val_accuracy: 0.7400\n",
      "Epoch 21/50\n",
      "291/291 [==============================] - 3s 10ms/step - loss: 0.2442 - accuracy: 0.7140 - val_loss: 0.2366 - val_accuracy: 0.7263\n",
      "Epoch 22/50\n",
      "291/291 [==============================] - 3s 10ms/step - loss: 0.2469 - accuracy: 0.7050 - val_loss: 0.2792 - val_accuracy: 0.7015\n",
      "Epoch 23/50\n",
      "291/291 [==============================] - 3s 11ms/step - loss: 0.2409 - accuracy: 0.7261 - val_loss: 0.2738 - val_accuracy: 0.6685\n",
      "Epoch 24/50\n",
      "291/291 [==============================] - 2s 8ms/step - loss: 0.2500 - accuracy: 0.7100 - val_loss: 0.2444 - val_accuracy: 0.7043\n",
      "Epoch 25/50\n",
      "291/291 [==============================] - 3s 9ms/step - loss: 0.2415 - accuracy: 0.7169 - val_loss: 0.2420 - val_accuracy: 0.7180\n",
      "Epoch 26/50\n",
      "291/291 [==============================] - 3s 9ms/step - loss: 0.2395 - accuracy: 0.7317 - val_loss: 0.2350 - val_accuracy: 0.7538\n",
      "Epoch 27/50\n",
      "291/291 [==============================] - 3s 9ms/step - loss: 0.2491 - accuracy: 0.7051 - val_loss: 0.2569 - val_accuracy: 0.7455\n",
      "Epoch 28/50\n",
      "291/291 [==============================] - 3s 12ms/step - loss: 0.2458 - accuracy: 0.7239 - val_loss: 0.2403 - val_accuracy: 0.7304\n",
      "Epoch 29/50\n",
      "291/291 [==============================] - 3s 11ms/step - loss: 0.2500 - accuracy: 0.7231 - val_loss: 0.2970 - val_accuracy: 0.6878\n",
      "Epoch 30/50\n",
      "291/291 [==============================] - 4s 14ms/step - loss: 0.2379 - accuracy: 0.7324 - val_loss: 0.2240 - val_accuracy: 0.7428\n",
      "Epoch 31/50\n",
      "291/291 [==============================] - 2s 7ms/step - loss: 0.2330 - accuracy: 0.7292 - val_loss: 0.2560 - val_accuracy: 0.7166\n",
      "Epoch 32/50\n",
      "291/291 [==============================] - 3s 10ms/step - loss: 0.2396 - accuracy: 0.7285 - val_loss: 0.2521 - val_accuracy: 0.7276\n",
      "Epoch 33/50\n",
      "291/291 [==============================] - 3s 11ms/step - loss: 0.2470 - accuracy: 0.7191 - val_loss: 0.2414 - val_accuracy: 0.7125\n",
      "Epoch 34/50\n",
      "291/291 [==============================] - 3s 9ms/step - loss: 0.2595 - accuracy: 0.6983 - val_loss: 0.2358 - val_accuracy: 0.7153\n",
      "Epoch 35/50\n",
      "291/291 [==============================] - 3s 9ms/step - loss: 0.2429 - accuracy: 0.7254 - val_loss: 0.2229 - val_accuracy: 0.7359\n",
      "Epoch 36/50\n",
      "291/291 [==============================] - 2s 8ms/step - loss: 0.2440 - accuracy: 0.7053 - val_loss: 0.2499 - val_accuracy: 0.7070\n",
      "Epoch 37/50\n",
      "291/291 [==============================] - 2s 8ms/step - loss: 0.2503 - accuracy: 0.7003 - val_loss: 0.2328 - val_accuracy: 0.7180\n",
      "Epoch 38/50\n",
      "291/291 [==============================] - 2s 8ms/step - loss: 0.2446 - accuracy: 0.7177 - val_loss: 0.2640 - val_accuracy: 0.7043\n",
      "Epoch 39/50\n",
      "291/291 [==============================] - 2s 8ms/step - loss: 0.2415 - accuracy: 0.7240 - val_loss: 0.2586 - val_accuracy: 0.7111\n",
      "Epoch 40/50\n",
      "291/291 [==============================] - 3s 9ms/step - loss: 0.2550 - accuracy: 0.7123 - val_loss: 0.3520 - val_accuracy: 0.6740\n",
      "Epoch 41/50\n",
      "291/291 [==============================] - 3s 9ms/step - loss: 0.2610 - accuracy: 0.6810 - val_loss: 0.2433 - val_accuracy: 0.7153\n",
      "Epoch 42/50\n",
      "291/291 [==============================] - 2s 8ms/step - loss: 0.2455 - accuracy: 0.7176 - val_loss: 0.2328 - val_accuracy: 0.7125\n",
      "Epoch 43/50\n",
      "291/291 [==============================] - 2s 6ms/step - loss: 0.2582 - accuracy: 0.6834 - val_loss: 0.2328 - val_accuracy: 0.7139\n",
      "Epoch 44/50\n",
      "291/291 [==============================] - 3s 9ms/step - loss: 0.2617 - accuracy: 0.6951 - val_loss: 0.2478 - val_accuracy: 0.7414\n",
      "Epoch 45/50\n",
      " 59/291 [=====>........................] - ETA: 1s - loss: 0.2422 - accuracy: 0.7201"
     ]
    }
   ],
   "source": [
    "kf= KFold(n_splits=3, shuffle= True, random_state=2021)\n",
    "\n",
    "\n",
    "model=KerasClassifier(build_fn=build_model, epochs=50, batch_size=10)\n",
    "\n",
    "#epoch -> error propagation, calcular erro e fazer back propagation, alterar w de cada ligacao\n",
    "#batch size -> quantidade de dados que meto de cada vez para treino\n",
    "\n",
    "\n",
    "grid_search = GridSearchCV(estimator=model,\n",
    "                          param_grid=TUNING_DICT,\n",
    "                          cv=kf,\n",
    "                          refit=True,\n",
    "                          verbose=1)\n",
    "grid_search.fit(x_train, y_train, validation_split=0.2, verbose=1)"
   ]
  },
  {
   "cell_type": "code",
   "execution_count": null,
   "id": "b11f1e7b-cb43-4e89-b6f8-ca3a8448a715",
   "metadata": {},
   "outputs": [],
   "source": [
    "print(\"Best: %f using %s\" % (grid_search.best_score_, grid_search.best_params_))\n"
   ]
  },
  {
   "cell_type": "code",
   "execution_count": null,
   "id": "3cce6f6d-2b8a-47ae-a564-ee4c063f8852",
   "metadata": {},
   "outputs": [],
   "source": []
  }
 ],
 "metadata": {
  "kernelspec": {
   "display_name": "Python 3 (ipykernel)",
   "language": "python",
   "name": "python3"
  },
  "language_info": {
   "codemirror_mode": {
    "name": "ipython",
    "version": 3
   },
   "file_extension": ".py",
   "mimetype": "text/x-python",
   "name": "python",
   "nbconvert_exporter": "python",
   "pygments_lexer": "ipython3",
   "version": "3.9.7"
  }
 },
 "nbformat": 4,
 "nbformat_minor": 5
}

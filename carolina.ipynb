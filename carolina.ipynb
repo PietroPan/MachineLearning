{
 "cells": [
  {
   "cell_type": "code",
   "execution_count": 1,
   "id": "748432dd-b019-4d40-8a5a-faef8b4ec983",
   "metadata": {},
   "outputs": [],
   "source": [
    "import pandas as pd\n",
    "import seaborn as sns\n",
    "import numpy as np\n",
    "import re\n",
    "from sklearn.tree import *\n",
    "from sklearn.model_selection import train_test_split\n",
    "from sklearn.metrics import *\n",
    "from sklearn.linear_model import LinearRegression\n",
    "from sklearn.cluster import KMeans\n",
    "from sklearn.svm import SVC\n",
    "from sklearn.model_selection import GridSearchCV\n",
    "from sklearn.model_selection import cross_val_score\n",
    "\n",
    "df = pd.read_csv('Datasets/training_data.csv',encoding = \"ISO-8859-1\")\n",
    "dftest = pd.read_csv('Datasets/test_data.csv',encoding = \"ISO-8859-1\")"
   ]
  },
  {
   "cell_type": "code",
   "execution_count": 2,
   "id": "ae7e3f81-78e1-4c1d-a25b-2e1010ecd0c4",
   "metadata": {},
   "outputs": [
    {
     "data": {
      "text/html": [
       "<div>\n",
       "<style scoped>\n",
       "    .dataframe tbody tr th:only-of-type {\n",
       "        vertical-align: middle;\n",
       "    }\n",
       "\n",
       "    .dataframe tbody tr th {\n",
       "        vertical-align: top;\n",
       "    }\n",
       "\n",
       "    .dataframe thead th {\n",
       "        text-align: right;\n",
       "    }\n",
       "</style>\n",
       "<table border=\"1\" class=\"dataframe\">\n",
       "  <thead>\n",
       "    <tr style=\"text-align: right;\">\n",
       "      <th></th>\n",
       "      <th>city_name</th>\n",
       "      <th>record_date</th>\n",
       "      <th>AVERAGE_SPEED_DIFF</th>\n",
       "      <th>AVERAGE_FREE_FLOW_SPEED</th>\n",
       "      <th>AVERAGE_TIME_DIFF</th>\n",
       "      <th>AVERAGE_FREE_FLOW_TIME</th>\n",
       "      <th>LUMINOSITY</th>\n",
       "      <th>AVERAGE_TEMPERATURE</th>\n",
       "      <th>AVERAGE_ATMOSP_PRESSURE</th>\n",
       "      <th>AVERAGE_HUMIDITY</th>\n",
       "      <th>AVERAGE_WIND_SPEED</th>\n",
       "      <th>AVERAGE_CLOUDINESS</th>\n",
       "      <th>AVERAGE_PRECIPITATION</th>\n",
       "      <th>AVERAGE_RAIN</th>\n",
       "    </tr>\n",
       "  </thead>\n",
       "  <tbody>\n",
       "    <tr>\n",
       "      <th>0</th>\n",
       "      <td>Porto</td>\n",
       "      <td>2019-08-29 07:00:00</td>\n",
       "      <td>Medium</td>\n",
       "      <td>41.5</td>\n",
       "      <td>11.5</td>\n",
       "      <td>71.4</td>\n",
       "      <td>LIGHT</td>\n",
       "      <td>15.0</td>\n",
       "      <td>1019.0</td>\n",
       "      <td>100.0</td>\n",
       "      <td>3.0</td>\n",
       "      <td>NaN</td>\n",
       "      <td>0.0</td>\n",
       "      <td>NaN</td>\n",
       "    </tr>\n",
       "    <tr>\n",
       "      <th>1</th>\n",
       "      <td>Porto</td>\n",
       "      <td>2018-08-10 14:00:00</td>\n",
       "      <td>High</td>\n",
       "      <td>41.7</td>\n",
       "      <td>48.3</td>\n",
       "      <td>87.4</td>\n",
       "      <td>LIGHT</td>\n",
       "      <td>21.0</td>\n",
       "      <td>1021.0</td>\n",
       "      <td>53.0</td>\n",
       "      <td>5.0</td>\n",
       "      <td>céu claro</td>\n",
       "      <td>0.0</td>\n",
       "      <td>NaN</td>\n",
       "    </tr>\n",
       "    <tr>\n",
       "      <th>2</th>\n",
       "      <td>Porto</td>\n",
       "      <td>2019-09-01 16:00:00</td>\n",
       "      <td>High</td>\n",
       "      <td>38.6</td>\n",
       "      <td>38.4</td>\n",
       "      <td>85.2</td>\n",
       "      <td>LIGHT</td>\n",
       "      <td>26.0</td>\n",
       "      <td>1014.0</td>\n",
       "      <td>61.0</td>\n",
       "      <td>4.0</td>\n",
       "      <td>NaN</td>\n",
       "      <td>0.0</td>\n",
       "      <td>NaN</td>\n",
       "    </tr>\n",
       "    <tr>\n",
       "      <th>3</th>\n",
       "      <td>Porto</td>\n",
       "      <td>2019-02-26 11:00:00</td>\n",
       "      <td>High</td>\n",
       "      <td>37.4</td>\n",
       "      <td>61.0</td>\n",
       "      <td>94.1</td>\n",
       "      <td>LIGHT</td>\n",
       "      <td>18.0</td>\n",
       "      <td>1025.0</td>\n",
       "      <td>48.0</td>\n",
       "      <td>4.0</td>\n",
       "      <td>céu claro</td>\n",
       "      <td>0.0</td>\n",
       "      <td>NaN</td>\n",
       "    </tr>\n",
       "    <tr>\n",
       "      <th>4</th>\n",
       "      <td>Porto</td>\n",
       "      <td>2019-06-06 12:00:00</td>\n",
       "      <td>Medium</td>\n",
       "      <td>41.6</td>\n",
       "      <td>50.4</td>\n",
       "      <td>77.0</td>\n",
       "      <td>LIGHT</td>\n",
       "      <td>15.0</td>\n",
       "      <td>1008.0</td>\n",
       "      <td>82.0</td>\n",
       "      <td>10.0</td>\n",
       "      <td>NaN</td>\n",
       "      <td>0.0</td>\n",
       "      <td>NaN</td>\n",
       "    </tr>\n",
       "  </tbody>\n",
       "</table>\n",
       "</div>"
      ],
      "text/plain": [
       "  city_name          record_date AVERAGE_SPEED_DIFF  AVERAGE_FREE_FLOW_SPEED  \\\n",
       "0     Porto  2019-08-29 07:00:00             Medium                     41.5   \n",
       "1     Porto  2018-08-10 14:00:00               High                     41.7   \n",
       "2     Porto  2019-09-01 16:00:00               High                     38.6   \n",
       "3     Porto  2019-02-26 11:00:00               High                     37.4   \n",
       "4     Porto  2019-06-06 12:00:00             Medium                     41.6   \n",
       "\n",
       "   AVERAGE_TIME_DIFF  AVERAGE_FREE_FLOW_TIME LUMINOSITY  AVERAGE_TEMPERATURE  \\\n",
       "0               11.5                    71.4      LIGHT                 15.0   \n",
       "1               48.3                    87.4      LIGHT                 21.0   \n",
       "2               38.4                    85.2      LIGHT                 26.0   \n",
       "3               61.0                    94.1      LIGHT                 18.0   \n",
       "4               50.4                    77.0      LIGHT                 15.0   \n",
       "\n",
       "   AVERAGE_ATMOSP_PRESSURE  AVERAGE_HUMIDITY  AVERAGE_WIND_SPEED  \\\n",
       "0                   1019.0             100.0                 3.0   \n",
       "1                   1021.0              53.0                 5.0   \n",
       "2                   1014.0              61.0                 4.0   \n",
       "3                   1025.0              48.0                 4.0   \n",
       "4                   1008.0              82.0                10.0   \n",
       "\n",
       "  AVERAGE_CLOUDINESS  AVERAGE_PRECIPITATION AVERAGE_RAIN  \n",
       "0                NaN                    0.0          NaN  \n",
       "1          céu claro                    0.0          NaN  \n",
       "2                NaN                    0.0          NaN  \n",
       "3          céu claro                    0.0          NaN  \n",
       "4                NaN                    0.0          NaN  "
      ]
     },
     "execution_count": 2,
     "metadata": {},
     "output_type": "execute_result"
    }
   ],
   "source": [
    "df.head()"
   ]
  },
  {
   "cell_type": "code",
   "execution_count": 3,
   "id": "3fec3c19-634e-4159-9de5-67b0eac98b76",
   "metadata": {},
   "outputs": [
    {
     "name": "stdout",
     "output_type": "stream",
     "text": [
      "<class 'pandas.core.frame.DataFrame'>\n",
      "RangeIndex: 6812 entries, 0 to 6811\n",
      "Data columns (total 14 columns):\n",
      " #   Column                   Non-Null Count  Dtype  \n",
      "---  ------                   --------------  -----  \n",
      " 0   city_name                6812 non-null   object \n",
      " 1   record_date              6812 non-null   object \n",
      " 2   AVERAGE_SPEED_DIFF       6812 non-null   object \n",
      " 3   AVERAGE_FREE_FLOW_SPEED  6812 non-null   float64\n",
      " 4   AVERAGE_TIME_DIFF        6812 non-null   float64\n",
      " 5   AVERAGE_FREE_FLOW_TIME   6812 non-null   float64\n",
      " 6   LUMINOSITY               6812 non-null   object \n",
      " 7   AVERAGE_TEMPERATURE      6812 non-null   float64\n",
      " 8   AVERAGE_ATMOSP_PRESSURE  6812 non-null   float64\n",
      " 9   AVERAGE_HUMIDITY         6812 non-null   float64\n",
      " 10  AVERAGE_WIND_SPEED       6812 non-null   float64\n",
      " 11  AVERAGE_CLOUDINESS       4130 non-null   object \n",
      " 12  AVERAGE_PRECIPITATION    6812 non-null   float64\n",
      " 13  AVERAGE_RAIN             563 non-null    object \n",
      "dtypes: float64(8), object(6)\n",
      "memory usage: 745.2+ KB\n"
     ]
    }
   ],
   "source": [
    "df.info()"
   ]
  },
  {
   "cell_type": "markdown",
   "id": "3b6877f2-cc8b-4398-80aa-5f6e71e4d4ee",
   "metadata": {},
   "source": [
    "Podemos ver que há 14 colunas, 8 com floats e 6 com objects.\n",
    "Também podemos ver que ha missing values em AVERAGE_CLOUDINESS e AVERAGE_RAIN"
   ]
  },
  {
   "cell_type": "code",
   "execution_count": 4,
   "id": "de476299-2eca-493a-a2cd-edc1cabdbbb7",
   "metadata": {},
   "outputs": [
    {
     "name": "stdout",
     "output_type": "stream",
     "text": [
      "<class 'pandas.core.frame.DataFrame'>\n",
      "RangeIndex: 1500 entries, 0 to 1499\n",
      "Data columns (total 13 columns):\n",
      " #   Column                   Non-Null Count  Dtype  \n",
      "---  ------                   --------------  -----  \n",
      " 0   city_name                1500 non-null   object \n",
      " 1   record_date              1500 non-null   object \n",
      " 2   AVERAGE_FREE_FLOW_SPEED  1500 non-null   float64\n",
      " 3   AVERAGE_TIME_DIFF        1500 non-null   float64\n",
      " 4   AVERAGE_FREE_FLOW_TIME   1500 non-null   float64\n",
      " 5   LUMINOSITY               1500 non-null   object \n",
      " 6   AVERAGE_TEMPERATURE      1500 non-null   float64\n",
      " 7   AVERAGE_ATMOSP_PRESSURE  1500 non-null   float64\n",
      " 8   AVERAGE_HUMIDITY         1500 non-null   float64\n",
      " 9   AVERAGE_WIND_SPEED       1500 non-null   float64\n",
      " 10  AVERAGE_CLOUDINESS       901 non-null    object \n",
      " 11  AVERAGE_PRECIPITATION    1500 non-null   float64\n",
      " 12  AVERAGE_RAIN             140 non-null    object \n",
      "dtypes: float64(8), object(5)\n",
      "memory usage: 152.5+ KB\n"
     ]
    }
   ],
   "source": [
    "dftest.info()"
   ]
  },
  {
   "cell_type": "code",
   "execution_count": 5,
   "id": "6f86b806-4e8e-4457-baf2-39184eadea1c",
   "metadata": {},
   "outputs": [
    {
     "name": "stdout",
     "output_type": "stream",
     "text": [
      "city_name                     0\n",
      "record_date                   0\n",
      "AVERAGE_SPEED_DIFF            0\n",
      "AVERAGE_FREE_FLOW_SPEED       0\n",
      "AVERAGE_TIME_DIFF             0\n",
      "AVERAGE_FREE_FLOW_TIME        0\n",
      "LUMINOSITY                    0\n",
      "AVERAGE_TEMPERATURE           0\n",
      "AVERAGE_ATMOSP_PRESSURE       0\n",
      "AVERAGE_HUMIDITY              0\n",
      "AVERAGE_WIND_SPEED            0\n",
      "AVERAGE_CLOUDINESS         2682\n",
      "AVERAGE_PRECIPITATION         0\n",
      "AVERAGE_RAIN               6249\n",
      "dtype: int64\n"
     ]
    }
   ],
   "source": [
    "print(df.isna().sum())"
   ]
  },
  {
   "cell_type": "code",
   "execution_count": 6,
   "id": "0119cc4c-ffd3-4d20-b5ca-5477a0e43034",
   "metadata": {},
   "outputs": [
    {
     "name": "stdout",
     "output_type": "stream",
     "text": [
      "['Medium' 'High' 'None' 'Low' 'Very_High']\n",
      "['LIGHT' 'LOW_LIGHT' 'DARK']\n",
      "[nan 'céu claro' 'nuvens dispersas' 'céu pouco nublado' 'céu limpo'\n",
      " 'algumas nuvens' 'nuvens quebrados' 'tempo nublado' 'nuvens quebradas'\n",
      " 'nublado']\n",
      "['Porto']\n",
      "[nan 'chuva fraca' 'chuva' 'chuva leve' 'chuvisco fraco' 'chuva moderada'\n",
      " 'trovoada com chuva leve' 'aguaceiros' 'aguaceiros fracos'\n",
      " 'chuva de intensidade pesada' 'trovoada com chuva'\n",
      " 'chuva de intensidade pesado' 'chuva forte' 'chuvisco e chuva fraca']\n",
      "[0.]\n",
      "['2019-08-29 07:00:00' '2018-08-10 14:00:00' '2019-09-01 16:00:00' ...\n",
      " '2018-10-02 04:00:00' '2019-01-30 01:00:00' '2019-06-15 21:00:00']\n"
     ]
    }
   ],
   "source": [
    "print(df.AVERAGE_SPEED_DIFF.unique())\n",
    "print(df.LUMINOSITY.unique())\n",
    "print(df.AVERAGE_CLOUDINESS.unique())\n",
    "print(df.city_name.unique())\n",
    "print(df.AVERAGE_RAIN.unique())\n",
    "print(df.AVERAGE_PRECIPITATION.unique())\n",
    "print(df.record_date.unique())"
   ]
  },
  {
   "cell_type": "markdown",
   "id": "11a67489-04ee-49c2-a1cc-1f382d4938d4",
   "metadata": {},
   "source": [
    "Melhor analisando o data set vemos que AVERAGE_PRECIPITATION e city_name tem sempre o msm valor"
   ]
  },
  {
   "cell_type": "code",
   "execution_count": 7,
   "id": "ae723a09-f84c-42ec-9047-099e78228b25",
   "metadata": {},
   "outputs": [],
   "source": [
    "df=df.drop(['city_name','AVERAGE_PRECIPITATION','AVERAGE_RAIN'],axis=1)\n",
    "dftest=dftest.drop(['city_name','AVERAGE_PRECIPITATION','AVERAGE_RAIN'],axis=1)"
   ]
  },
  {
   "cell_type": "code",
   "execution_count": 8,
   "id": "4c1c93c6-3fe9-49ec-9873-e526961abc04",
   "metadata": {},
   "outputs": [],
   "source": [
    "df['LUMINOSITY'].replace({\"DARK\": 0, \"LOW_LIGHT\": 1, \"LIGHT\": 2}, inplace=True)\n",
    "dftest['LUMINOSITY'].replace({\"DARK\": 0, \"LOW_LIGHT\": 1, \"LIGHT\": 2}, inplace=True)\n",
    "df['AVERAGE_CLOUDINESS'].replace({\"céu limpo\": 0, \"céu claro\": 1, \"nuvens dispersas\": 2,\"nuvens quebrados\": 3,\"nuvens quebradas\": 3,\"algumas nuvens\": 4,\"céu pouco nublado\":5,'tempo nublado': 6,'nublado': 6}, inplace=True)\n",
    "dftest['AVERAGE_CLOUDINESS'].replace({\"céu limpo\": 0, \"céu claro\": 1, \"nuvens dispersas\": 2,\"nuvens quebrados\": 3,\"nuvens quebradas\": 3,\"algumas nuvens\": 4,\"céu pouco nublado\":5,'tempo nublado': 6,'nublado': 6}, inplace=True)"
   ]
  },
  {
   "cell_type": "code",
   "execution_count": 9,
   "id": "8e502aa8-1b20-4c70-85e7-d1125f13ad05",
   "metadata": {},
   "outputs": [
    {
     "data": {
      "text/html": [
       "<div>\n",
       "<style scoped>\n",
       "    .dataframe tbody tr th:only-of-type {\n",
       "        vertical-align: middle;\n",
       "    }\n",
       "\n",
       "    .dataframe tbody tr th {\n",
       "        vertical-align: top;\n",
       "    }\n",
       "\n",
       "    .dataframe thead th {\n",
       "        text-align: right;\n",
       "    }\n",
       "</style>\n",
       "<table border=\"1\" class=\"dataframe\">\n",
       "  <thead>\n",
       "    <tr style=\"text-align: right;\">\n",
       "      <th></th>\n",
       "      <th>record_date</th>\n",
       "      <th>AVERAGE_SPEED_DIFF</th>\n",
       "      <th>AVERAGE_FREE_FLOW_SPEED</th>\n",
       "      <th>AVERAGE_TIME_DIFF</th>\n",
       "      <th>AVERAGE_FREE_FLOW_TIME</th>\n",
       "      <th>LUMINOSITY</th>\n",
       "      <th>AVERAGE_TEMPERATURE</th>\n",
       "      <th>AVERAGE_ATMOSP_PRESSURE</th>\n",
       "      <th>AVERAGE_HUMIDITY</th>\n",
       "      <th>AVERAGE_WIND_SPEED</th>\n",
       "      <th>AVERAGE_CLOUDINESS</th>\n",
       "    </tr>\n",
       "  </thead>\n",
       "  <tbody>\n",
       "    <tr>\n",
       "      <th>0</th>\n",
       "      <td>2019-08-29 07:00:00</td>\n",
       "      <td>Medium</td>\n",
       "      <td>41.5</td>\n",
       "      <td>11.5</td>\n",
       "      <td>71.4</td>\n",
       "      <td>2</td>\n",
       "      <td>15.0</td>\n",
       "      <td>1019.0</td>\n",
       "      <td>100.0</td>\n",
       "      <td>3.0</td>\n",
       "      <td>NaN</td>\n",
       "    </tr>\n",
       "    <tr>\n",
       "      <th>1</th>\n",
       "      <td>2018-08-10 14:00:00</td>\n",
       "      <td>High</td>\n",
       "      <td>41.7</td>\n",
       "      <td>48.3</td>\n",
       "      <td>87.4</td>\n",
       "      <td>2</td>\n",
       "      <td>21.0</td>\n",
       "      <td>1021.0</td>\n",
       "      <td>53.0</td>\n",
       "      <td>5.0</td>\n",
       "      <td>1.0</td>\n",
       "    </tr>\n",
       "    <tr>\n",
       "      <th>2</th>\n",
       "      <td>2019-09-01 16:00:00</td>\n",
       "      <td>High</td>\n",
       "      <td>38.6</td>\n",
       "      <td>38.4</td>\n",
       "      <td>85.2</td>\n",
       "      <td>2</td>\n",
       "      <td>26.0</td>\n",
       "      <td>1014.0</td>\n",
       "      <td>61.0</td>\n",
       "      <td>4.0</td>\n",
       "      <td>NaN</td>\n",
       "    </tr>\n",
       "    <tr>\n",
       "      <th>3</th>\n",
       "      <td>2019-02-26 11:00:00</td>\n",
       "      <td>High</td>\n",
       "      <td>37.4</td>\n",
       "      <td>61.0</td>\n",
       "      <td>94.1</td>\n",
       "      <td>2</td>\n",
       "      <td>18.0</td>\n",
       "      <td>1025.0</td>\n",
       "      <td>48.0</td>\n",
       "      <td>4.0</td>\n",
       "      <td>1.0</td>\n",
       "    </tr>\n",
       "    <tr>\n",
       "      <th>4</th>\n",
       "      <td>2019-06-06 12:00:00</td>\n",
       "      <td>Medium</td>\n",
       "      <td>41.6</td>\n",
       "      <td>50.4</td>\n",
       "      <td>77.0</td>\n",
       "      <td>2</td>\n",
       "      <td>15.0</td>\n",
       "      <td>1008.0</td>\n",
       "      <td>82.0</td>\n",
       "      <td>10.0</td>\n",
       "      <td>NaN</td>\n",
       "    </tr>\n",
       "  </tbody>\n",
       "</table>\n",
       "</div>"
      ],
      "text/plain": [
       "           record_date AVERAGE_SPEED_DIFF  AVERAGE_FREE_FLOW_SPEED  \\\n",
       "0  2019-08-29 07:00:00             Medium                     41.5   \n",
       "1  2018-08-10 14:00:00               High                     41.7   \n",
       "2  2019-09-01 16:00:00               High                     38.6   \n",
       "3  2019-02-26 11:00:00               High                     37.4   \n",
       "4  2019-06-06 12:00:00             Medium                     41.6   \n",
       "\n",
       "   AVERAGE_TIME_DIFF  AVERAGE_FREE_FLOW_TIME  LUMINOSITY  AVERAGE_TEMPERATURE  \\\n",
       "0               11.5                    71.4           2                 15.0   \n",
       "1               48.3                    87.4           2                 21.0   \n",
       "2               38.4                    85.2           2                 26.0   \n",
       "3               61.0                    94.1           2                 18.0   \n",
       "4               50.4                    77.0           2                 15.0   \n",
       "\n",
       "   AVERAGE_ATMOSP_PRESSURE  AVERAGE_HUMIDITY  AVERAGE_WIND_SPEED  \\\n",
       "0                   1019.0             100.0                 3.0   \n",
       "1                   1021.0              53.0                 5.0   \n",
       "2                   1014.0              61.0                 4.0   \n",
       "3                   1025.0              48.0                 4.0   \n",
       "4                   1008.0              82.0                10.0   \n",
       "\n",
       "   AVERAGE_CLOUDINESS  \n",
       "0                 NaN  \n",
       "1                 1.0  \n",
       "2                 NaN  \n",
       "3                 1.0  \n",
       "4                 NaN  "
      ]
     },
     "execution_count": 9,
     "metadata": {},
     "output_type": "execute_result"
    }
   ],
   "source": [
    "df.head()"
   ]
  },
  {
   "cell_type": "code",
   "execution_count": 10,
   "id": "8049bded-0f2e-43a7-a131-334e85a042cc",
   "metadata": {},
   "outputs": [],
   "source": [
    "df['record_date'] = pd.to_datetime(df['record_date'])\n",
    "dftest['record_date'] = pd.to_datetime(dftest['record_date'])"
   ]
  },
  {
   "cell_type": "code",
   "execution_count": 11,
   "id": "41365450-fcf9-44ac-9013-bf7b7ebc7913",
   "metadata": {},
   "outputs": [
    {
     "name": "stdout",
     "output_type": "stream",
     "text": [
      "<class 'pandas.core.frame.DataFrame'>\n",
      "RangeIndex: 6812 entries, 0 to 6811\n",
      "Data columns (total 11 columns):\n",
      " #   Column                   Non-Null Count  Dtype  \n",
      "---  ------                   --------------  -----  \n",
      " 0   record_date              6812 non-null   int64  \n",
      " 1   AVERAGE_SPEED_DIFF       6812 non-null   object \n",
      " 2   AVERAGE_FREE_FLOW_SPEED  6812 non-null   float64\n",
      " 3   AVERAGE_TIME_DIFF        6812 non-null   float64\n",
      " 4   AVERAGE_FREE_FLOW_TIME   6812 non-null   float64\n",
      " 5   LUMINOSITY               6812 non-null   int64  \n",
      " 6   AVERAGE_TEMPERATURE      6812 non-null   float64\n",
      " 7   AVERAGE_ATMOSP_PRESSURE  6812 non-null   float64\n",
      " 8   AVERAGE_HUMIDITY         6812 non-null   float64\n",
      " 9   AVERAGE_WIND_SPEED       6812 non-null   float64\n",
      " 10  AVERAGE_CLOUDINESS       4130 non-null   float64\n",
      "dtypes: float64(8), int64(2), object(1)\n",
      "memory usage: 585.5+ KB\n"
     ]
    }
   ],
   "source": [
    "df['record_date'] = df.record_date.dt.hour.astype(int)\n",
    "dftest['record_date'] = dftest.record_date.dt.hour.astype(int)\n",
    "#df['day of week'] = df.record_date.dt.day_name()\n",
    "df.info()"
   ]
  },
  {
   "cell_type": "code",
   "execution_count": 12,
   "id": "3fef6946-a20b-4c3a-af13-271860e25f22",
   "metadata": {},
   "outputs": [
    {
     "data": {
      "text/html": [
       "<div>\n",
       "<style scoped>\n",
       "    .dataframe tbody tr th:only-of-type {\n",
       "        vertical-align: middle;\n",
       "    }\n",
       "\n",
       "    .dataframe tbody tr th {\n",
       "        vertical-align: top;\n",
       "    }\n",
       "\n",
       "    .dataframe thead th {\n",
       "        text-align: right;\n",
       "    }\n",
       "</style>\n",
       "<table border=\"1\" class=\"dataframe\">\n",
       "  <thead>\n",
       "    <tr style=\"text-align: right;\">\n",
       "      <th></th>\n",
       "      <th>record_date</th>\n",
       "      <th>AVERAGE_SPEED_DIFF</th>\n",
       "      <th>AVERAGE_FREE_FLOW_SPEED</th>\n",
       "      <th>AVERAGE_TIME_DIFF</th>\n",
       "      <th>AVERAGE_FREE_FLOW_TIME</th>\n",
       "      <th>LUMINOSITY</th>\n",
       "      <th>AVERAGE_TEMPERATURE</th>\n",
       "      <th>AVERAGE_ATMOSP_PRESSURE</th>\n",
       "      <th>AVERAGE_HUMIDITY</th>\n",
       "      <th>AVERAGE_WIND_SPEED</th>\n",
       "      <th>AVERAGE_CLOUDINESS</th>\n",
       "    </tr>\n",
       "  </thead>\n",
       "  <tbody>\n",
       "    <tr>\n",
       "      <th>0</th>\n",
       "      <td>7</td>\n",
       "      <td>Medium</td>\n",
       "      <td>41.5</td>\n",
       "      <td>11.5</td>\n",
       "      <td>71.4</td>\n",
       "      <td>2</td>\n",
       "      <td>15.0</td>\n",
       "      <td>1019.0</td>\n",
       "      <td>100.0</td>\n",
       "      <td>3.0</td>\n",
       "      <td>NaN</td>\n",
       "    </tr>\n",
       "    <tr>\n",
       "      <th>1</th>\n",
       "      <td>14</td>\n",
       "      <td>High</td>\n",
       "      <td>41.7</td>\n",
       "      <td>48.3</td>\n",
       "      <td>87.4</td>\n",
       "      <td>2</td>\n",
       "      <td>21.0</td>\n",
       "      <td>1021.0</td>\n",
       "      <td>53.0</td>\n",
       "      <td>5.0</td>\n",
       "      <td>1.0</td>\n",
       "    </tr>\n",
       "    <tr>\n",
       "      <th>2</th>\n",
       "      <td>16</td>\n",
       "      <td>High</td>\n",
       "      <td>38.6</td>\n",
       "      <td>38.4</td>\n",
       "      <td>85.2</td>\n",
       "      <td>2</td>\n",
       "      <td>26.0</td>\n",
       "      <td>1014.0</td>\n",
       "      <td>61.0</td>\n",
       "      <td>4.0</td>\n",
       "      <td>NaN</td>\n",
       "    </tr>\n",
       "    <tr>\n",
       "      <th>3</th>\n",
       "      <td>11</td>\n",
       "      <td>High</td>\n",
       "      <td>37.4</td>\n",
       "      <td>61.0</td>\n",
       "      <td>94.1</td>\n",
       "      <td>2</td>\n",
       "      <td>18.0</td>\n",
       "      <td>1025.0</td>\n",
       "      <td>48.0</td>\n",
       "      <td>4.0</td>\n",
       "      <td>1.0</td>\n",
       "    </tr>\n",
       "    <tr>\n",
       "      <th>4</th>\n",
       "      <td>12</td>\n",
       "      <td>Medium</td>\n",
       "      <td>41.6</td>\n",
       "      <td>50.4</td>\n",
       "      <td>77.0</td>\n",
       "      <td>2</td>\n",
       "      <td>15.0</td>\n",
       "      <td>1008.0</td>\n",
       "      <td>82.0</td>\n",
       "      <td>10.0</td>\n",
       "      <td>NaN</td>\n",
       "    </tr>\n",
       "  </tbody>\n",
       "</table>\n",
       "</div>"
      ],
      "text/plain": [
       "   record_date AVERAGE_SPEED_DIFF  AVERAGE_FREE_FLOW_SPEED  AVERAGE_TIME_DIFF  \\\n",
       "0            7             Medium                     41.5               11.5   \n",
       "1           14               High                     41.7               48.3   \n",
       "2           16               High                     38.6               38.4   \n",
       "3           11               High                     37.4               61.0   \n",
       "4           12             Medium                     41.6               50.4   \n",
       "\n",
       "   AVERAGE_FREE_FLOW_TIME  LUMINOSITY  AVERAGE_TEMPERATURE  \\\n",
       "0                    71.4           2                 15.0   \n",
       "1                    87.4           2                 21.0   \n",
       "2                    85.2           2                 26.0   \n",
       "3                    94.1           2                 18.0   \n",
       "4                    77.0           2                 15.0   \n",
       "\n",
       "   AVERAGE_ATMOSP_PRESSURE  AVERAGE_HUMIDITY  AVERAGE_WIND_SPEED  \\\n",
       "0                   1019.0             100.0                 3.0   \n",
       "1                   1021.0              53.0                 5.0   \n",
       "2                   1014.0              61.0                 4.0   \n",
       "3                   1025.0              48.0                 4.0   \n",
       "4                   1008.0              82.0                10.0   \n",
       "\n",
       "   AVERAGE_CLOUDINESS  \n",
       "0                 NaN  \n",
       "1                 1.0  \n",
       "2                 NaN  \n",
       "3                 1.0  \n",
       "4                 NaN  "
      ]
     },
     "execution_count": 12,
     "metadata": {},
     "output_type": "execute_result"
    }
   ],
   "source": [
    "df.head()"
   ]
  },
  {
   "cell_type": "markdown",
   "id": "8314ed4f-ae31-4b32-b0f6-09cd6e1cf8f1",
   "metadata": {},
   "source": [
    "Para fazer fill dos NaN da coluna average_rain podemos:\n",
    " - Criar uma nova categoria só para os que estavam null (DataFrame[ColName] = np.where(DataFrame[ColName].isnull(),\"Unknown\",DataFrame[ColName]))\n",
    " - Preencher com a moda dessa coluna (Data['Married'].fillna(Data['Married'].mode(), inplace=True))"
   ]
  },
  {
   "cell_type": "code",
   "execution_count": 13,
   "id": "144afd8f-83bd-43c5-bc35-f867925fbcb6",
   "metadata": {},
   "outputs": [],
   "source": [
    "#df['AVERAGE_RAIN'] = np.where(df['AVERAGE_RAIN'].isnull(),\"Unknown\",df['AVERAGE_RAIN'])\n",
    "#print(df['AVERAGE_RAIN'].isna().sum())"
   ]
  },
  {
   "cell_type": "code",
   "execution_count": 14,
   "id": "0c6f0ff0-a7e9-42d1-8a6e-4d6cbfe8fc3f",
   "metadata": {},
   "outputs": [
    {
     "data": {
      "text/html": [
       "<div>\n",
       "<style scoped>\n",
       "    .dataframe tbody tr th:only-of-type {\n",
       "        vertical-align: middle;\n",
       "    }\n",
       "\n",
       "    .dataframe tbody tr th {\n",
       "        vertical-align: top;\n",
       "    }\n",
       "\n",
       "    .dataframe thead th {\n",
       "        text-align: right;\n",
       "    }\n",
       "</style>\n",
       "<table border=\"1\" class=\"dataframe\">\n",
       "  <thead>\n",
       "    <tr style=\"text-align: right;\">\n",
       "      <th></th>\n",
       "      <th>record_date</th>\n",
       "      <th>AVERAGE_SPEED_DIFF</th>\n",
       "      <th>AVERAGE_FREE_FLOW_SPEED</th>\n",
       "      <th>AVERAGE_TIME_DIFF</th>\n",
       "      <th>AVERAGE_FREE_FLOW_TIME</th>\n",
       "      <th>LUMINOSITY</th>\n",
       "      <th>AVERAGE_TEMPERATURE</th>\n",
       "      <th>AVERAGE_ATMOSP_PRESSURE</th>\n",
       "      <th>AVERAGE_HUMIDITY</th>\n",
       "      <th>AVERAGE_WIND_SPEED</th>\n",
       "      <th>AVERAGE_CLOUDINESS</th>\n",
       "    </tr>\n",
       "  </thead>\n",
       "  <tbody>\n",
       "    <tr>\n",
       "      <th>0</th>\n",
       "      <td>7</td>\n",
       "      <td>Medium</td>\n",
       "      <td>41.5</td>\n",
       "      <td>11.5</td>\n",
       "      <td>71.4</td>\n",
       "      <td>2</td>\n",
       "      <td>15.0</td>\n",
       "      <td>1019.0</td>\n",
       "      <td>100.0</td>\n",
       "      <td>3.0</td>\n",
       "      <td>NaN</td>\n",
       "    </tr>\n",
       "    <tr>\n",
       "      <th>1</th>\n",
       "      <td>14</td>\n",
       "      <td>High</td>\n",
       "      <td>41.7</td>\n",
       "      <td>48.3</td>\n",
       "      <td>87.4</td>\n",
       "      <td>2</td>\n",
       "      <td>21.0</td>\n",
       "      <td>1021.0</td>\n",
       "      <td>53.0</td>\n",
       "      <td>5.0</td>\n",
       "      <td>1.0</td>\n",
       "    </tr>\n",
       "    <tr>\n",
       "      <th>2</th>\n",
       "      <td>16</td>\n",
       "      <td>High</td>\n",
       "      <td>38.6</td>\n",
       "      <td>38.4</td>\n",
       "      <td>85.2</td>\n",
       "      <td>2</td>\n",
       "      <td>26.0</td>\n",
       "      <td>1014.0</td>\n",
       "      <td>61.0</td>\n",
       "      <td>4.0</td>\n",
       "      <td>NaN</td>\n",
       "    </tr>\n",
       "    <tr>\n",
       "      <th>3</th>\n",
       "      <td>11</td>\n",
       "      <td>High</td>\n",
       "      <td>37.4</td>\n",
       "      <td>61.0</td>\n",
       "      <td>94.1</td>\n",
       "      <td>2</td>\n",
       "      <td>18.0</td>\n",
       "      <td>1025.0</td>\n",
       "      <td>48.0</td>\n",
       "      <td>4.0</td>\n",
       "      <td>1.0</td>\n",
       "    </tr>\n",
       "    <tr>\n",
       "      <th>4</th>\n",
       "      <td>12</td>\n",
       "      <td>Medium</td>\n",
       "      <td>41.6</td>\n",
       "      <td>50.4</td>\n",
       "      <td>77.0</td>\n",
       "      <td>2</td>\n",
       "      <td>15.0</td>\n",
       "      <td>1008.0</td>\n",
       "      <td>82.0</td>\n",
       "      <td>10.0</td>\n",
       "      <td>NaN</td>\n",
       "    </tr>\n",
       "  </tbody>\n",
       "</table>\n",
       "</div>"
      ],
      "text/plain": [
       "   record_date AVERAGE_SPEED_DIFF  AVERAGE_FREE_FLOW_SPEED  AVERAGE_TIME_DIFF  \\\n",
       "0            7             Medium                     41.5               11.5   \n",
       "1           14               High                     41.7               48.3   \n",
       "2           16               High                     38.6               38.4   \n",
       "3           11               High                     37.4               61.0   \n",
       "4           12             Medium                     41.6               50.4   \n",
       "\n",
       "   AVERAGE_FREE_FLOW_TIME  LUMINOSITY  AVERAGE_TEMPERATURE  \\\n",
       "0                    71.4           2                 15.0   \n",
       "1                    87.4           2                 21.0   \n",
       "2                    85.2           2                 26.0   \n",
       "3                    94.1           2                 18.0   \n",
       "4                    77.0           2                 15.0   \n",
       "\n",
       "   AVERAGE_ATMOSP_PRESSURE  AVERAGE_HUMIDITY  AVERAGE_WIND_SPEED  \\\n",
       "0                   1019.0             100.0                 3.0   \n",
       "1                   1021.0              53.0                 5.0   \n",
       "2                   1014.0              61.0                 4.0   \n",
       "3                   1025.0              48.0                 4.0   \n",
       "4                   1008.0              82.0                10.0   \n",
       "\n",
       "   AVERAGE_CLOUDINESS  \n",
       "0                 NaN  \n",
       "1                 1.0  \n",
       "2                 NaN  \n",
       "3                 1.0  \n",
       "4                 NaN  "
      ]
     },
     "execution_count": 14,
     "metadata": {},
     "output_type": "execute_result"
    }
   ],
   "source": [
    "df.head()"
   ]
  },
  {
   "cell_type": "code",
   "execution_count": 15,
   "id": "a0de4c38-43e5-47b8-a553-194b7c800764",
   "metadata": {},
   "outputs": [
    {
     "name": "stdout",
     "output_type": "stream",
     "text": [
      "record_date                   0\n",
      "AVERAGE_SPEED_DIFF            0\n",
      "AVERAGE_FREE_FLOW_SPEED       0\n",
      "AVERAGE_TIME_DIFF             0\n",
      "AVERAGE_FREE_FLOW_TIME        0\n",
      "LUMINOSITY                    0\n",
      "AVERAGE_TEMPERATURE           0\n",
      "AVERAGE_ATMOSP_PRESSURE       0\n",
      "AVERAGE_HUMIDITY              0\n",
      "AVERAGE_WIND_SPEED            0\n",
      "AVERAGE_CLOUDINESS         2682\n",
      "dtype: int64\n"
     ]
    }
   ],
   "source": [
    "print(df.isna().sum())"
   ]
  },
  {
   "cell_type": "code",
   "execution_count": 16,
   "id": "d2e7cbfb-ab2f-42fb-b7d6-516a1e428de9",
   "metadata": {},
   "outputs": [
    {
     "name": "stdout",
     "output_type": "stream",
     "text": [
      "0\n"
     ]
    }
   ],
   "source": [
    "#Fill null AVERAGE_CLOUDINESS\n",
    "#df['AVERAGE_CLOUDINESS'] = np.where(df['AVERAGE_CLOUDINESS'].isnull(),\"Unknown\",df['AVERAGE_CLOUDINESS'])\n",
    "df['AVERAGE_CLOUDINESS']=df['AVERAGE_CLOUDINESS'].fillna(method='bfill')\n",
    "df['AVERAGE_CLOUDINESS']=df['AVERAGE_CLOUDINESS'].fillna(method='ffill')\n",
    "print(df['AVERAGE_CLOUDINESS'].isna().sum())\n",
    "\n",
    "dftest['AVERAGE_CLOUDINESS']=dftest['AVERAGE_CLOUDINESS'].fillna(method='bfill')\n",
    "dftest['AVERAGE_CLOUDINESS']=dftest['AVERAGE_CLOUDINESS'].fillna(method='ffill')\n"
   ]
  },
  {
   "cell_type": "code",
   "execution_count": 17,
   "id": "3028058f-55e1-48db-a2e5-016e0a99a80c",
   "metadata": {},
   "outputs": [
    {
     "name": "stdout",
     "output_type": "stream",
     "text": [
      "<class 'pandas.core.frame.DataFrame'>\n",
      "RangeIndex: 6812 entries, 0 to 6811\n",
      "Data columns (total 11 columns):\n",
      " #   Column                   Non-Null Count  Dtype  \n",
      "---  ------                   --------------  -----  \n",
      " 0   record_date              6812 non-null   int64  \n",
      " 1   AVERAGE_SPEED_DIFF       6812 non-null   int64  \n",
      " 2   AVERAGE_FREE_FLOW_SPEED  6812 non-null   float64\n",
      " 3   AVERAGE_TIME_DIFF        6812 non-null   float64\n",
      " 4   AVERAGE_FREE_FLOW_TIME   6812 non-null   float64\n",
      " 5   LUMINOSITY               6812 non-null   int64  \n",
      " 6   AVERAGE_TEMPERATURE      6812 non-null   float64\n",
      " 7   AVERAGE_ATMOSP_PRESSURE  6812 non-null   float64\n",
      " 8   AVERAGE_HUMIDITY         6812 non-null   float64\n",
      " 9   AVERAGE_WIND_SPEED       6812 non-null   float64\n",
      " 10  AVERAGE_CLOUDINESS       6812 non-null   float64\n",
      "dtypes: float64(8), int64(3)\n",
      "memory usage: 585.5 KB\n"
     ]
    }
   ],
   "source": [
    "df['AVERAGE_SPEED_DIFF'].replace({\"None\": 0, \"Low\": 1, \"Medium\": 2, \"High\": 3, \"Very_High\": 4}, inplace=True)\n",
    "df.head()\n",
    "df.info()"
   ]
  },
  {
   "cell_type": "code",
   "execution_count": 18,
   "id": "cf69d0c0-039d-4981-a93a-dd94514bdf58",
   "metadata": {},
   "outputs": [
    {
     "name": "stdout",
     "output_type": "stream",
     "text": [
      "AxesSubplot(0.125,0.125;0.775x0.755)\n"
     ]
    },
    {
     "data": {
      "image/png": "[encoded data removed]",
      "text/plain": [
       "<Figure size 432x288 with 1 Axes>"
      ]
     },
     "metadata": {
      "needs_background": "light"
     },
     "output_type": "display_data"
    }
   ],
   "source": [
    "\n",
    "\n",
    "#Drop luminosity pode não ser importante\n",
    "print(sns.histplot(data=df[df['LUMINOSITY']==2], hue = 'LUMINOSITY', x = 'AVERAGE_SPEED_DIFF'))"
   ]
  },
  {
   "cell_type": "code",
   "execution_count": 19,
   "id": "19bee839-14ba-4269-a99c-99de3a42f3e9",
   "metadata": {},
   "outputs": [
    {
     "data": {
      "text/html": [
       "<div>\n",
       "<style scoped>\n",
       "    .dataframe tbody tr th:only-of-type {\n",
       "        vertical-align: middle;\n",
       "    }\n",
       "\n",
       "    .dataframe tbody tr th {\n",
       "        vertical-align: top;\n",
       "    }\n",
       "\n",
       "    .dataframe thead th {\n",
       "        text-align: right;\n",
       "    }\n",
       "</style>\n",
       "<table border=\"1\" class=\"dataframe\">\n",
       "  <thead>\n",
       "    <tr style=\"text-align: right;\">\n",
       "      <th></th>\n",
       "      <th>record_date</th>\n",
       "      <th>AVERAGE_SPEED_DIFF</th>\n",
       "      <th>AVERAGE_FREE_FLOW_SPEED</th>\n",
       "      <th>AVERAGE_TIME_DIFF</th>\n",
       "      <th>AVERAGE_FREE_FLOW_TIME</th>\n",
       "      <th>LUMINOSITY</th>\n",
       "      <th>AVERAGE_TEMPERATURE</th>\n",
       "      <th>AVERAGE_ATMOSP_PRESSURE</th>\n",
       "      <th>AVERAGE_HUMIDITY</th>\n",
       "      <th>AVERAGE_WIND_SPEED</th>\n",
       "      <th>AVERAGE_CLOUDINESS</th>\n",
       "    </tr>\n",
       "  </thead>\n",
       "  <tbody>\n",
       "    <tr>\n",
       "      <th>count</th>\n",
       "      <td>6812.000000</td>\n",
       "      <td>6812.000000</td>\n",
       "      <td>6812.000000</td>\n",
       "      <td>6812.000000</td>\n",
       "      <td>6812.000000</td>\n",
       "      <td>6812.000000</td>\n",
       "      <td>6812.000000</td>\n",
       "      <td>6812.000000</td>\n",
       "      <td>6812.000000</td>\n",
       "      <td>6812.000000</td>\n",
       "      <td>6812.000000</td>\n",
       "    </tr>\n",
       "    <tr>\n",
       "      <th>mean</th>\n",
       "      <td>11.534498</td>\n",
       "      <td>1.442454</td>\n",
       "      <td>40.661010</td>\n",
       "      <td>25.637111</td>\n",
       "      <td>81.143952</td>\n",
       "      <td>1.005872</td>\n",
       "      <td>16.193482</td>\n",
       "      <td>1017.388139</td>\n",
       "      <td>80.084190</td>\n",
       "      <td>3.058573</td>\n",
       "      <td>2.449060</td>\n",
       "    </tr>\n",
       "    <tr>\n",
       "      <th>std</th>\n",
       "      <td>6.939520</td>\n",
       "      <td>1.275478</td>\n",
       "      <td>4.119023</td>\n",
       "      <td>33.510507</td>\n",
       "      <td>8.294401</td>\n",
       "      <td>0.980336</td>\n",
       "      <td>5.163492</td>\n",
       "      <td>5.751061</td>\n",
       "      <td>18.238863</td>\n",
       "      <td>2.138421</td>\n",
       "      <td>1.595367</td>\n",
       "    </tr>\n",
       "    <tr>\n",
       "      <th>min</th>\n",
       "      <td>0.000000</td>\n",
       "      <td>0.000000</td>\n",
       "      <td>30.500000</td>\n",
       "      <td>0.000000</td>\n",
       "      <td>46.400000</td>\n",
       "      <td>0.000000</td>\n",
       "      <td>0.000000</td>\n",
       "      <td>985.000000</td>\n",
       "      <td>14.000000</td>\n",
       "      <td>0.000000</td>\n",
       "      <td>0.000000</td>\n",
       "    </tr>\n",
       "    <tr>\n",
       "      <th>25%</th>\n",
       "      <td>6.000000</td>\n",
       "      <td>0.000000</td>\n",
       "      <td>37.600000</td>\n",
       "      <td>2.275000</td>\n",
       "      <td>75.400000</td>\n",
       "      <td>0.000000</td>\n",
       "      <td>13.000000</td>\n",
       "      <td>1015.000000</td>\n",
       "      <td>69.750000</td>\n",
       "      <td>1.000000</td>\n",
       "      <td>1.000000</td>\n",
       "    </tr>\n",
       "    <tr>\n",
       "      <th>50%</th>\n",
       "      <td>12.000000</td>\n",
       "      <td>1.000000</td>\n",
       "      <td>40.700000</td>\n",
       "      <td>12.200000</td>\n",
       "      <td>82.400000</td>\n",
       "      <td>1.000000</td>\n",
       "      <td>16.000000</td>\n",
       "      <td>1017.000000</td>\n",
       "      <td>83.000000</td>\n",
       "      <td>3.000000</td>\n",
       "      <td>2.000000</td>\n",
       "    </tr>\n",
       "    <tr>\n",
       "      <th>75%</th>\n",
       "      <td>18.000000</td>\n",
       "      <td>2.000000</td>\n",
       "      <td>43.500000</td>\n",
       "      <td>36.200000</td>\n",
       "      <td>87.400000</td>\n",
       "      <td>2.000000</td>\n",
       "      <td>19.000000</td>\n",
       "      <td>1021.000000</td>\n",
       "      <td>93.000000</td>\n",
       "      <td>4.000000</td>\n",
       "      <td>4.000000</td>\n",
       "    </tr>\n",
       "    <tr>\n",
       "      <th>max</th>\n",
       "      <td>23.000000</td>\n",
       "      <td>4.000000</td>\n",
       "      <td>55.900000</td>\n",
       "      <td>296.500000</td>\n",
       "      <td>112.000000</td>\n",
       "      <td>2.000000</td>\n",
       "      <td>35.000000</td>\n",
       "      <td>1033.000000</td>\n",
       "      <td>100.000000</td>\n",
       "      <td>14.000000</td>\n",
       "      <td>6.000000</td>\n",
       "    </tr>\n",
       "  </tbody>\n",
       "</table>\n",
       "</div>"
      ],
      "text/plain": [
       "       record_date  AVERAGE_SPEED_DIFF  AVERAGE_FREE_FLOW_SPEED  \\\n",
       "count  6812.000000         6812.000000              6812.000000   \n",
       "mean     11.534498            1.442454                40.661010   \n",
       "std       6.939520            1.275478                 4.119023   \n",
       "min       0.000000            0.000000                30.500000   \n",
       "25%       6.000000            0.000000                37.600000   \n",
       "50%      12.000000            1.000000                40.700000   \n",
       "75%      18.000000            2.000000                43.500000   \n",
       "max      23.000000            4.000000                55.900000   \n",
       "\n",
       "       AVERAGE_TIME_DIFF  AVERAGE_FREE_FLOW_TIME   LUMINOSITY  \\\n",
       "count        6812.000000             6812.000000  6812.000000   \n",
       "mean           25.637111               81.143952     1.005872   \n",
       "std            33.510507                8.294401     0.980336   \n",
       "min             0.000000               46.400000     0.000000   \n",
       "25%             2.275000               75.400000     0.000000   \n",
       "50%            12.200000               82.400000     1.000000   \n",
       "75%            36.200000               87.400000     2.000000   \n",
       "max           296.500000              112.000000     2.000000   \n",
       "\n",
       "       AVERAGE_TEMPERATURE  AVERAGE_ATMOSP_PRESSURE  AVERAGE_HUMIDITY  \\\n",
       "count          6812.000000              6812.000000       6812.000000   \n",
       "mean             16.193482              1017.388139         80.084190   \n",
       "std               5.163492                 5.751061         18.238863   \n",
       "min               0.000000               985.000000         14.000000   \n",
       "25%              13.000000              1015.000000         69.750000   \n",
       "50%              16.000000              1017.000000         83.000000   \n",
       "75%              19.000000              1021.000000         93.000000   \n",
       "max              35.000000              1033.000000        100.000000   \n",
       "\n",
       "       AVERAGE_WIND_SPEED  AVERAGE_CLOUDINESS  \n",
       "count         6812.000000         6812.000000  \n",
       "mean             3.058573            2.449060  \n",
       "std              2.138421            1.595367  \n",
       "min              0.000000            0.000000  \n",
       "25%              1.000000            1.000000  \n",
       "50%              3.000000            2.000000  \n",
       "75%              4.000000            4.000000  \n",
       "max             14.000000            6.000000  "
      ]
     },
     "execution_count": 19,
     "metadata": {},
     "output_type": "execute_result"
    }
   ],
   "source": [
    "df.describe()"
   ]
  },
  {
   "cell_type": "code",
   "execution_count": 20,
   "id": "086bfe3e-72fb-4ab1-93ef-b62d9e9e9cc5",
   "metadata": {},
   "outputs": [
    {
     "data": {
      "text/plain": [
       "<seaborn.axisgrid.PairGrid at 0x7f047b4c3700>"
      ]
     },
     "execution_count": 20,
     "metadata": {},
     "output_type": "execute_result"
    },
    {
     "data": {
      "image/png": "[encoded data removed]",
      "text/plain": [
       "<Figure size 720x720 with 20 Axes>"
      ]
     },
     "metadata": {
      "needs_background": "light"
     },
     "output_type": "display_data"
    }
   ],
   "source": [
    "cols = ['AVERAGE_SPEED_DIFF','AVERAGE_FREE_FLOW_SPEED', 'AVERAGE_TIME_DIFF', 'AVERAGE_FREE_FLOW_TIME']\n",
    "\n",
    "sns.pairplot(df[cols], height=2.5)"
   ]
  },
  {
   "cell_type": "code",
   "execution_count": 21,
   "id": "8d8c1d98-6b0e-45e7-82a8-9c9994225308",
   "metadata": {},
   "outputs": [
    {
     "data": {
      "text/plain": [
       "<AxesSubplot:>"
      ]
     },
     "execution_count": 21,
     "metadata": {},
     "output_type": "execute_result"
    },
    {
     "data": {
      "image/png": "[encoded data removed]",
      "text/plain": [
       "<Figure size 432x288 with 2 Axes>"
      ]
     },
     "metadata": {
      "needs_background": "light"
     },
     "output_type": "display_data"
    }
   ],
   "source": [
    "sns.heatmap(df.corr())"
   ]
  },
  {
   "cell_type": "code",
   "execution_count": 22,
   "id": "e5ec8d9b-4d1c-414a-8754-0291c3a01971",
   "metadata": {},
   "outputs": [
    {
     "data": {
      "text/plain": [
       "<AxesSubplot:xlabel='AVERAGE_TIME_DIFF'>"
      ]
     },
     "execution_count": 22,
     "metadata": {},
     "output_type": "execute_result"
    },
    {
     "data": {
      "image/png": "[encoded data removed]",
      "text/plain": [
       "<Figure size 432x288 with 1 Axes>"
      ]
     },
     "metadata": {
      "needs_background": "light"
     },
     "output_type": "display_data"
    }
   ],
   "source": [
    "sns.boxplot(x=df['AVERAGE_TIME_DIFF'])"
   ]
  },
  {
   "cell_type": "code",
   "execution_count": 23,
   "id": "d37ecf4d-3dc8-404a-a36d-894583b7c01a",
   "metadata": {},
   "outputs": [],
   "source": [
    "from scipy.stats.mstats import winsorize\n",
    "\n",
    "#time_dif = df['AVERAGE_TIME_DIFF']\n",
    "#time_dif.quantile(0.01)\n",
    "#time_dif.quantile(0.99)\n",
    "#df['AVERAGE_TIME_DIFF'] = winsorize(time_dif, (0.01,0.01))\n",
    "#sns.boxplot(x=df['AVERAGE_TIME_DIFF'])\n"
   ]
  },
  {
   "cell_type": "code",
   "execution_count": 24,
   "id": "26776054-43b9-44e4-8993-8fde161d0403",
   "metadata": {},
   "outputs": [],
   "source": [
    "x = df.drop(['AVERAGE_SPEED_DIFF'], axis=1)\n",
    "y = df['AVERAGE_SPEED_DIFF'].to_frame()"
   ]
  },
  {
   "cell_type": "code",
   "execution_count": 25,
   "id": "3b955516-df37-4a35-9672-f46859a562d3",
   "metadata": {},
   "outputs": [
    {
     "name": "stdout",
     "output_type": "stream",
     "text": [
      "record_date                0\n",
      "AVERAGE_FREE_FLOW_SPEED    0\n",
      "AVERAGE_TIME_DIFF          0\n",
      "AVERAGE_FREE_FLOW_TIME     0\n",
      "LUMINOSITY                 0\n",
      "AVERAGE_TEMPERATURE        0\n",
      "AVERAGE_ATMOSP_PRESSURE    0\n",
      "AVERAGE_HUMIDITY           0\n",
      "AVERAGE_WIND_SPEED         0\n",
      "AVERAGE_CLOUDINESS         0\n",
      "dtype: int64\n"
     ]
    }
   ],
   "source": [
    "print(x.isna().sum())"
   ]
  },
  {
   "cell_type": "code",
   "execution_count": 26,
   "id": "6276cbef-7962-4454-9599-6fda758e8676",
   "metadata": {},
   "outputs": [],
   "source": [
    "x_train,x_test,y_train,y_test=train_test_split(x,y,test_size=0.20, random_state=2021)"
   ]
  },
  {
   "cell_type": "code",
   "execution_count": 27,
   "id": "7cb86816-6ad4-4fb2-967d-0c7cdee21801",
   "metadata": {},
   "outputs": [
    {
     "name": "stderr",
     "output_type": "stream",
     "text": [
      "/home/carolina/anaconda3/envs/env_DAA/lib/python3.9/site-packages/seaborn/distributions.py:2619: FutureWarning: `distplot` is a deprecated function and will be removed in a future version. Please adapt your code to use either `displot` (a figure-level function with similar flexibility) or `histplot` (an axes-level function for histograms).\n",
      "  warnings.warn(msg, FutureWarning)\n"
     ]
    },
    {
     "data": {
      "text/plain": [
       "<AxesSubplot:ylabel='Density'>"
      ]
     },
     "execution_count": 27,
     "metadata": {},
     "output_type": "execute_result"
    },
    {
     "data": {
      "image/png": "[encoded data removed]",
      "text/plain": [
       "<Figure size 432x288 with 1 Axes>"
      ]
     },
     "metadata": {
      "needs_background": "light"
     },
     "output_type": "display_data"
    }
   ],
   "source": [
    "sns.distplot(y)"
   ]
  },
  {
   "cell_type": "code",
   "execution_count": 28,
   "id": "4063105a-5323-4a2d-bc78-d97e53f09c45",
   "metadata": {},
   "outputs": [
    {
     "name": "stderr",
     "output_type": "stream",
     "text": [
      "/home/carolina/anaconda3/envs/env_DAA/lib/python3.9/site-packages/seaborn/distributions.py:2619: FutureWarning: `distplot` is a deprecated function and will be removed in a future version. Please adapt your code to use either `displot` (a figure-level function with similar flexibility) or `histplot` (an axes-level function for histograms).\n",
      "  warnings.warn(msg, FutureWarning)\n"
     ]
    },
    {
     "data": {
      "text/plain": [
       "<AxesSubplot:ylabel='Density'>"
      ]
     },
     "execution_count": 28,
     "metadata": {},
     "output_type": "execute_result"
    },
    {
     "data": {
      "image/png": "[encoded data removed]",
      "text/plain": [
       "<Figure size 432x288 with 1 Axes>"
      ]
     },
     "metadata": {
      "needs_background": "light"
     },
     "output_type": "display_data"
    }
   ],
   "source": [
    "sns.distplot(y_train)"
   ]
  },
  {
   "cell_type": "code",
   "execution_count": 29,
   "id": "8dc68e95-9bbc-4832-a490-a5bb95d02a63",
   "metadata": {},
   "outputs": [
    {
     "name": "stderr",
     "output_type": "stream",
     "text": [
      "/home/carolina/anaconda3/envs/env_DAA/lib/python3.9/site-packages/seaborn/distributions.py:2619: FutureWarning: `distplot` is a deprecated function and will be removed in a future version. Please adapt your code to use either `displot` (a figure-level function with similar flexibility) or `histplot` (an axes-level function for histograms).\n",
      "  warnings.warn(msg, FutureWarning)\n"
     ]
    },
    {
     "data": {
      "text/plain": [
       "<AxesSubplot:ylabel='Density'>"
      ]
     },
     "execution_count": 29,
     "metadata": {},
     "output_type": "execute_result"
    },
    {
     "data": {
      "image/png": "[encoded data removed]",
      "text/plain": [
       "<Figure size 432x288 with 1 Axes>"
      ]
     },
     "metadata": {
      "needs_background": "light"
     },
     "output_type": "display_data"
    }
   ],
   "source": [
    "sns.distplot(y_test)"
   ]
  },
  {
   "cell_type": "code",
   "execution_count": 30,
   "id": "304542d4-0706-46bd-8d1b-d9148e3853b1",
   "metadata": {},
   "outputs": [
    {
     "name": "stdout",
     "output_type": "stream",
     "text": [
      "RESULT: 0.72 accuracy with a standard deviation of 0.02\n"
     ]
    }
   ],
   "source": [
    "clf = DecisionTreeClassifier(random_state = 2021)\n",
    "scores=cross_val_score(clf,x_train,y_train,cv=10)\n",
    "print(\"RESULT: %0.2f accuracy with a standard deviation of %0.2f\" % (scores.mean(),scores.std()))"
   ]
  },
  {
   "cell_type": "code",
   "execution_count": 31,
   "id": "62498f2c-9d2e-4faa-b2bc-a12b8a8f6984",
   "metadata": {},
   "outputs": [
    {
     "name": "stdout",
     "output_type": "stream",
     "text": [
      "0.72 accuracy\n"
     ]
    }
   ],
   "source": [
    "clf.fit(x_train,y_train)\n",
    "predictions = clf.predict(x_test)\n",
    "predictions\n",
    "print(\"%0.2f accuracy\" % (accuracy_score(y_test,predictions)))"
   ]
  },
  {
   "cell_type": "code",
   "execution_count": 32,
   "id": "0f6db32f-c249-43ea-8cb6-c725c5f560a0",
   "metadata": {},
   "outputs": [
    {
     "name": "stdout",
     "output_type": "stream",
     "text": [
      "Fitting 5 folds for each of 24 candidates, totalling 120 fits\n",
      "[CV 1/5] END .......criterion=gini, max_depth=2;, score=0.624 total time=   0.0s\n",
      "[CV 2/5] END .......criterion=gini, max_depth=2;, score=0.633 total time=   0.0s\n",
      "[CV 3/5] END .......criterion=gini, max_depth=2;, score=0.621 total time=   0.0s\n",
      "[CV 4/5] END .......criterion=gini, max_depth=2;, score=0.624 total time=   0.0s\n",
      "[CV 5/5] END .......criterion=gini, max_depth=2;, score=0.612 total time=   0.0s\n",
      "[CV 1/5] END .......criterion=gini, max_depth=3;, score=0.738 total time=   0.0s\n",
      "[CV 2/5] END .......criterion=gini, max_depth=3;, score=0.753 total time=   0.0s\n",
      "[CV 3/5] END .......criterion=gini, max_depth=3;, score=0.732 total time=   0.0s\n",
      "[CV 4/5] END .......criterion=gini, max_depth=3;, score=0.754 total time=   0.0s\n",
      "[CV 5/5] END .......criterion=gini, max_depth=3;, score=0.727 total time=   0.0s\n",
      "[CV 1/5] END .......criterion=gini, max_depth=4;, score=0.749 total time=   0.0s\n",
      "[CV 2/5] END .......criterion=gini, max_depth=4;, score=0.763 total time=   0.0s\n",
      "[CV 3/5] END .......criterion=gini, max_depth=4;, score=0.734 total time=   0.0s\n",
      "[CV 4/5] END .......criterion=gini, max_depth=4;, score=0.756 total time=   0.0s\n",
      "[CV 5/5] END .......criterion=gini, max_depth=4;, score=0.740 total time=   0.0s\n",
      "[CV 1/5] END .......criterion=gini, max_depth=5;, score=0.755 total time=   0.0s\n",
      "[CV 2/5] END .......criterion=gini, max_depth=5;, score=0.772 total time=   0.0s\n",
      "[CV 3/5] END .......criterion=gini, max_depth=5;, score=0.753 total time=   0.0s\n",
      "[CV 4/5] END .......criterion=gini, max_depth=5;, score=0.771 total time=   0.0s\n",
      "[CV 5/5] END .......criterion=gini, max_depth=5;, score=0.760 total time=   0.0s\n",
      "[CV 1/5] END .......criterion=gini, max_depth=6;, score=0.756 total time=   0.0s\n",
      "[CV 2/5] END .......criterion=gini, max_depth=6;, score=0.764 total time=   0.0s\n",
      "[CV 3/5] END .......criterion=gini, max_depth=6;, score=0.759 total time=   0.0s\n",
      "[CV 4/5] END .......criterion=gini, max_depth=6;, score=0.788 total time=   0.0s\n",
      "[CV 5/5] END .......criterion=gini, max_depth=6;, score=0.760 total time=   0.0s\n",
      "[CV 1/5] END .......criterion=gini, max_depth=7;, score=0.745 total time=   0.0s\n",
      "[CV 2/5] END .......criterion=gini, max_depth=7;, score=0.770 total time=   0.0s\n",
      "[CV 3/5] END .......criterion=gini, max_depth=7;, score=0.755 total time=   0.0s\n",
      "[CV 4/5] END .......criterion=gini, max_depth=7;, score=0.765 total time=   0.0s\n",
      "[CV 5/5] END .......criterion=gini, max_depth=7;, score=0.758 total time=   0.0s\n",
      "[CV 1/5] END .......criterion=gini, max_depth=8;, score=0.743 total time=   0.0s\n",
      "[CV 2/5] END .......criterion=gini, max_depth=8;, score=0.760 total time=   0.0s\n",
      "[CV 3/5] END .......criterion=gini, max_depth=8;, score=0.761 total time=   0.0s\n",
      "[CV 4/5] END .......criterion=gini, max_depth=8;, score=0.761 total time=   0.0s\n",
      "[CV 5/5] END .......criterion=gini, max_depth=8;, score=0.756 total time=   0.0s\n",
      "[CV 1/5] END .......criterion=gini, max_depth=9;, score=0.735 total time=   0.0s\n",
      "[CV 2/5] END .......criterion=gini, max_depth=9;, score=0.759 total time=   0.0s\n",
      "[CV 3/5] END .......criterion=gini, max_depth=9;, score=0.761 total time=   0.0s\n",
      "[CV 4/5] END .......criterion=gini, max_depth=9;, score=0.759 total time=   0.0s\n",
      "[CV 5/5] END .......criterion=gini, max_depth=9;, score=0.728 total time=   0.0s\n",
      "[CV 1/5] END ......criterion=gini, max_depth=10;, score=0.733 total time=   0.0s\n",
      "[CV 2/5] END ......criterion=gini, max_depth=10;, score=0.756 total time=   0.0s\n",
      "[CV 3/5] END ......criterion=gini, max_depth=10;, score=0.759 total time=   0.0s\n",
      "[CV 4/5] END ......criterion=gini, max_depth=10;, score=0.746 total time=   0.0s\n",
      "[CV 5/5] END ......criterion=gini, max_depth=10;, score=0.724 total time=   0.0s\n",
      "[CV 1/5] END ......criterion=gini, max_depth=11;, score=0.731 total time=   0.0s\n",
      "[CV 2/5] END ......criterion=gini, max_depth=11;, score=0.749 total time=   0.0s\n",
      "[CV 3/5] END ......criterion=gini, max_depth=11;, score=0.749 total time=   0.0s\n",
      "[CV 4/5] END ......criterion=gini, max_depth=11;, score=0.731 total time=   0.0s\n",
      "[CV 5/5] END ......criterion=gini, max_depth=11;, score=0.713 total time=   0.0s\n",
      "[CV 1/5] END ......criterion=gini, max_depth=12;, score=0.715 total time=   0.0s\n",
      "[CV 2/5] END ......criterion=gini, max_depth=12;, score=0.743 total time=   0.0s\n",
      "[CV 3/5] END ......criterion=gini, max_depth=12;, score=0.752 total time=   0.0s\n",
      "[CV 4/5] END ......criterion=gini, max_depth=12;, score=0.724 total time=   0.0s\n",
      "[CV 5/5] END ......criterion=gini, max_depth=12;, score=0.712 total time=   0.0s\n",
      "[CV 1/5] END ......criterion=gini, max_depth=13;, score=0.727 total time=   0.0s\n",
      "[CV 2/5] END ......criterion=gini, max_depth=13;, score=0.733 total time=   0.0s\n",
      "[CV 3/5] END ......criterion=gini, max_depth=13;, score=0.729 total time=   0.0s\n",
      "[CV 4/5] END ......criterion=gini, max_depth=13;, score=0.738 total time=   0.0s\n",
      "[CV 5/5] END ......criterion=gini, max_depth=13;, score=0.703 total time=   0.0s\n",
      "[CV 1/5] END ....criterion=entropy, max_depth=2;, score=0.669 total time=   0.0s\n",
      "[CV 2/5] END ....criterion=entropy, max_depth=2;, score=0.696 total time=   0.0s\n",
      "[CV 3/5] END ....criterion=entropy, max_depth=2;, score=0.698 total time=   0.0s\n",
      "[CV 4/5] END ....criterion=entropy, max_depth=2;, score=0.700 total time=   0.0s\n",
      "[CV 5/5] END ....criterion=entropy, max_depth=2;, score=0.682 total time=   0.0s\n",
      "[CV 1/5] END ....criterion=entropy, max_depth=3;, score=0.709 total time=   0.0s\n",
      "[CV 2/5] END ....criterion=entropy, max_depth=3;, score=0.730 total time=   0.0s\n",
      "[CV 3/5] END ....criterion=entropy, max_depth=3;, score=0.733 total time=   0.0s\n",
      "[CV 4/5] END ....criterion=entropy, max_depth=3;, score=0.744 total time=   0.0s\n",
      "[CV 5/5] END ....criterion=entropy, max_depth=3;, score=0.715 total time=   0.0s\n",
      "[CV 1/5] END ....criterion=entropy, max_depth=4;, score=0.734 total time=   0.0s\n",
      "[CV 2/5] END ....criterion=entropy, max_depth=4;, score=0.739 total time=   0.0s\n",
      "[CV 3/5] END ....criterion=entropy, max_depth=4;, score=0.744 total time=   0.0s\n",
      "[CV 4/5] END ....criterion=entropy, max_depth=4;, score=0.759 total time=   0.0s\n",
      "[CV 5/5] END ....criterion=entropy, max_depth=4;, score=0.725 total time=   0.0s\n",
      "[CV 1/5] END ....criterion=entropy, max_depth=5;, score=0.735 total time=   0.0s\n",
      "[CV 2/5] END ....criterion=entropy, max_depth=5;, score=0.747 total time=   0.0s\n",
      "[CV 3/5] END ....criterion=entropy, max_depth=5;, score=0.746 total time=   0.0s\n",
      "[CV 4/5] END ....criterion=entropy, max_depth=5;, score=0.766 total time=   0.0s\n",
      "[CV 5/5] END ....criterion=entropy, max_depth=5;, score=0.747 total time=   0.0s\n",
      "[CV 1/5] END ....criterion=entropy, max_depth=6;, score=0.753 total time=   0.0s\n",
      "[CV 2/5] END ....criterion=entropy, max_depth=6;, score=0.746 total time=   0.0s\n",
      "[CV 3/5] END ....criterion=entropy, max_depth=6;, score=0.769 total time=   0.0s\n",
      "[CV 4/5] END ....criterion=entropy, max_depth=6;, score=0.783 total time=   0.0s\n",
      "[CV 5/5] END ....criterion=entropy, max_depth=6;, score=0.756 total time=   0.0s\n",
      "[CV 1/5] END ....criterion=entropy, max_depth=7;, score=0.761 total time=   0.0s\n",
      "[CV 2/5] END ....criterion=entropy, max_depth=7;, score=0.752 total time=   0.0s\n",
      "[CV 3/5] END ....criterion=entropy, max_depth=7;, score=0.772 total time=   0.0s\n",
      "[CV 4/5] END ....criterion=entropy, max_depth=7;, score=0.772 total time=   0.0s\n",
      "[CV 5/5] END ....criterion=entropy, max_depth=7;, score=0.753 total time=   0.0s\n",
      "[CV 1/5] END ....criterion=entropy, max_depth=8;, score=0.772 total time=   0.0s\n",
      "[CV 2/5] END ....criterion=entropy, max_depth=8;, score=0.750 total time=   0.0s\n",
      "[CV 3/5] END ....criterion=entropy, max_depth=8;, score=0.756 total time=   0.0s\n",
      "[CV 4/5] END ....criterion=entropy, max_depth=8;, score=0.768 total time=   0.0s\n",
      "[CV 5/5] END ....criterion=entropy, max_depth=8;, score=0.745 total time=   0.0s\n",
      "[CV 1/5] END ....criterion=entropy, max_depth=9;, score=0.756 total time=   0.0s\n",
      "[CV 2/5] END ....criterion=entropy, max_depth=9;, score=0.731 total time=   0.0s\n",
      "[CV 3/5] END ....criterion=entropy, max_depth=9;, score=0.755 total time=   0.0s\n",
      "[CV 4/5] END ....criterion=entropy, max_depth=9;, score=0.760 total time=   0.0s\n",
      "[CV 5/5] END ....criterion=entropy, max_depth=9;, score=0.736 total time=   0.0s\n",
      "[CV 1/5] END ...criterion=entropy, max_depth=10;, score=0.742 total time=   0.0s\n",
      "[CV 2/5] END ...criterion=entropy, max_depth=10;, score=0.742 total time=   0.0s\n",
      "[CV 3/5] END ...criterion=entropy, max_depth=10;, score=0.743 total time=   0.0s\n",
      "[CV 4/5] END ...criterion=entropy, max_depth=10;, score=0.739 total time=   0.0s\n",
      "[CV 5/5] END ...criterion=entropy, max_depth=10;, score=0.736 total time=   0.0s\n",
      "[CV 1/5] END ...criterion=entropy, max_depth=11;, score=0.734 total time=   0.0s\n",
      "[CV 2/5] END ...criterion=entropy, max_depth=11;, score=0.733 total time=   0.0s\n",
      "[CV 3/5] END ...criterion=entropy, max_depth=11;, score=0.741 total time=   0.0s\n",
      "[CV 4/5] END ...criterion=entropy, max_depth=11;, score=0.744 total time=   0.0s\n",
      "[CV 5/5] END ...criterion=entropy, max_depth=11;, score=0.737 total time=   0.0s\n",
      "[CV 1/5] END ...criterion=entropy, max_depth=12;, score=0.708 total time=   0.0s\n",
      "[CV 2/5] END ...criterion=entropy, max_depth=12;, score=0.734 total time=   0.0s\n",
      "[CV 3/5] END ...criterion=entropy, max_depth=12;, score=0.728 total time=   0.0s\n",
      "[CV 4/5] END ...criterion=entropy, max_depth=12;, score=0.744 total time=   0.0s\n",
      "[CV 5/5] END ...criterion=entropy, max_depth=12;, score=0.725 total time=   0.0s\n",
      "[CV 1/5] END ...criterion=entropy, max_depth=13;, score=0.724 total time=   0.0s\n",
      "[CV 2/5] END ...criterion=entropy, max_depth=13;, score=0.728 total time=   0.0s\n",
      "[CV 3/5] END ...criterion=entropy, max_depth=13;, score=0.733 total time=   0.0s\n",
      "[CV 4/5] END ...criterion=entropy, max_depth=13;, score=0.734 total time=   0.0s\n",
      "[CV 5/5] END ...criterion=entropy, max_depth=13;, score=0.731 total time=   0.0s\n"
     ]
    },
    {
     "data": {
      "text/plain": [
       "GridSearchCV(estimator=DecisionTreeClassifier(random_state=2021),\n",
       "             param_grid={'criterion': ['gini', 'entropy'],\n",
       "                         'max_depth': [2, 3, 4, 5, 6, 7, 8, 9, 10, 11, 12, 13]},\n",
       "             verbose=3)"
      ]
     },
     "execution_count": 32,
     "metadata": {},
     "output_type": "execute_result"
    }
   ],
   "source": [
    "criterion = ['gini', 'entropy']\n",
    "max_depth = [2,3,4,5,6,7,8,9,10,11,12,13]\n",
    "\n",
    "param_grid = {'criterion':criterion, 'max_depth':max_depth}\n",
    "grid = GridSearchCV(DecisionTreeClassifier(random_state=2021),param_grid,refit=True,verbose=3)\n",
    "grid.fit(x_train, y_train)\n"
   ]
  },
  {
   "cell_type": "code",
   "execution_count": 33,
   "id": "94c3732d-cf4a-4c70-b608-47796a1c834c",
   "metadata": {},
   "outputs": [
    {
     "name": "stdout",
     "output_type": "stream",
     "text": [
      "              precision    recall  f1-score   support\n",
      "\n",
      "           0       0.87      0.88      0.88       465\n",
      "           1       0.65      0.66      0.66       263\n",
      "           2       0.70      0.72      0.71       324\n",
      "           3       0.69      0.69      0.69       211\n",
      "           4       0.88      0.78      0.83       100\n",
      "\n",
      "    accuracy                           0.76      1363\n",
      "   macro avg       0.76      0.74      0.75      1363\n",
      "weighted avg       0.76      0.76      0.76      1363\n",
      "\n"
     ]
    }
   ],
   "source": [
    "grid_predictions = grid.predict(x_test)\n",
    "print(classification_report(y_test,grid_predictions))"
   ]
  },
  {
   "cell_type": "code",
   "execution_count": 34,
   "id": "ff1fcf11-be86-4bca-9e92-61d0ef396e31",
   "metadata": {},
   "outputs": [
    {
     "data": {
      "text/plain": [
       "{'criterion': 'gini', 'max_depth': 6}"
      ]
     },
     "execution_count": 34,
     "metadata": {},
     "output_type": "execute_result"
    }
   ],
   "source": [
    "grid.best_params_"
   ]
  },
  {
   "cell_type": "code",
   "execution_count": 35,
   "id": "47f9b8c8-76ec-4ac2-ad43-f48a7f5b68a7",
   "metadata": {},
   "outputs": [
    {
     "data": {
      "text/plain": [
       "array([0, 1, 0, ..., 0, 4, 1])"
      ]
     },
     "execution_count": 35,
     "metadata": {},
     "output_type": "execute_result"
    }
   ],
   "source": [
    "clf = DecisionTreeClassifier(criterion='gini', max_depth=7,random_state = 2021)\n",
    "clf.fit(x,y)\n",
    "predictions = clf.predict(dftest)\n",
    "predictions"
   ]
  },
  {
   "cell_type": "markdown",
   "id": "b524f8ba-7040-498a-a99a-63f244703d77",
   "metadata": {},
   "source": [
    "# Support vector machine\n"
   ]
  },
  {
   "cell_type": "code",
   "execution_count": 36,
   "id": "ad152e46-f80e-4ada-8974-e7ee3be0e4ea",
   "metadata": {},
   "outputs": [],
   "source": [
    "x_train,x_test,y_train,y_test=train_test_split(x,y,test_size=0.20, random_state=2021)"
   ]
  },
  {
   "cell_type": "code",
   "execution_count": 37,
   "id": "397a6926-8143-46d1-9f52-9bf885587530",
   "metadata": {},
   "outputs": [
    {
     "data": {
      "text/plain": [
       "array([0.55412844, 0.53577982, 0.58348624, 0.58715596, 0.53944954,\n",
       "       0.56880734, 0.56513761, 0.57798165, 0.54311927, 0.55882353])"
      ]
     },
     "execution_count": 37,
     "metadata": {},
     "output_type": "execute_result"
    }
   ],
   "source": [
    "cross_valid_model = SVC(random_state=2021)\n",
    "scores = cross_val_score(cross_valid_model, x_train, np.ravel(y_train), cv=10)\n",
    "scores"
   ]
  },
  {
   "cell_type": "code",
   "execution_count": 38,
   "id": "6596a878-83a5-4ccf-a448-5a3d484a2ac1",
   "metadata": {},
   "outputs": [
    {
     "name": "stdout",
     "output_type": "stream",
     "text": [
      "RESULT: 0.56 accuracy with a standard deviation of 0.02\n"
     ]
    }
   ],
   "source": [
    "print(\"RESULT: %0.2f accuracy with a standard deviation of %0.2f\" % (scores.mean(),scores.std()))"
   ]
  },
  {
   "cell_type": "code",
   "execution_count": 39,
   "id": "8fcf4c70-b190-4e90-97f8-c04dd2b051d6",
   "metadata": {},
   "outputs": [
    {
     "name": "stdout",
     "output_type": "stream",
     "text": [
      "              precision    recall  f1-score   support\n",
      "\n",
      "           0       0.63      1.00      0.77       465\n",
      "           1       0.44      0.08      0.14       263\n",
      "           2       0.65      0.69      0.67       324\n",
      "           3       0.53      0.52      0.52       211\n",
      "           4       0.76      0.25      0.38       100\n",
      "\n",
      "    accuracy                           0.62      1363\n",
      "   macro avg       0.60      0.51      0.49      1363\n",
      "weighted avg       0.59      0.62      0.56      1363\n",
      "\n"
     ]
    }
   ],
   "source": [
    "model = SVC(kernel='rbf', C=3,random_state=2021)\n",
    "model.fit(x_train, np.ravel(y_train))\n",
    "predictions=model.predict(x_test)\n",
    "print(classification_report(y_test,predictions))"
   ]
  },
  {
   "cell_type": "code",
   "execution_count": 44,
   "id": "575c2c4f-813d-40b1-9f3e-e68ca3c5da06",
   "metadata": {},
   "outputs": [
    {
     "name": "stdout",
     "output_type": "stream",
     "text": [
      "Fitting 5 folds for each of 24 candidates, totalling 120 fits\n",
      "[CV 1/5] END .....C=50, gamma=0.001, kernel=rbf;, score=0.760 total time=   0.7s\n",
      "[CV 2/5] END .....C=50, gamma=0.001, kernel=rbf;, score=0.774 total time=   0.7s\n",
      "[CV 3/5] END .....C=50, gamma=0.001, kernel=rbf;, score=0.776 total time=   0.7s\n",
      "[CV 4/5] END .....C=50, gamma=0.001, kernel=rbf;, score=0.793 total time=   0.7s\n",
      "[CV 5/5] END .....C=50, gamma=0.001, kernel=rbf;, score=0.770 total time=   0.7s\n",
      "[CV 1/5] END ....C=50, gamma=0.0001, kernel=rbf;, score=0.772 total time=   0.5s\n",
      "[CV 2/5] END ....C=50, gamma=0.0001, kernel=rbf;, score=0.780 total time=   0.5s\n",
      "[CV 3/5] END ....C=50, gamma=0.0001, kernel=rbf;, score=0.788 total time=   0.5s\n",
      "[CV 4/5] END ....C=50, gamma=0.0001, kernel=rbf;, score=0.794 total time=   0.5s\n",
      "[CV 5/5] END ....C=50, gamma=0.0001, kernel=rbf;, score=0.793 total time=   0.5s\n",
      "[CV 1/5] END .....C=50, gamma=1e-05, kernel=rbf;, score=0.768 total time=   0.6s\n",
      "[CV 2/5] END .....C=50, gamma=1e-05, kernel=rbf;, score=0.772 total time=   0.6s\n",
      "[CV 3/5] END .....C=50, gamma=1e-05, kernel=rbf;, score=0.763 total time=   0.6s\n",
      "[CV 4/5] END .....C=50, gamma=1e-05, kernel=rbf;, score=0.781 total time=   0.6s\n",
      "[CV 5/5] END .....C=50, gamma=1e-05, kernel=rbf;, score=0.770 total time=   0.6s\n",
      "[CV 1/5] END .....C=50, gamma=1e-06, kernel=rbf;, score=0.747 total time=   0.7s\n",
      "[CV 2/5] END .....C=50, gamma=1e-06, kernel=rbf;, score=0.750 total time=   0.7s\n",
      "[CV 3/5] END .....C=50, gamma=1e-06, kernel=rbf;, score=0.750 total time=   0.7s\n",
      "[CV 4/5] END .....C=50, gamma=1e-06, kernel=rbf;, score=0.757 total time=   0.7s\n",
      "[CV 5/5] END .....C=50, gamma=1e-06, kernel=rbf;, score=0.751 total time=   0.7s\n",
      "[CV 1/5] END ....C=100, gamma=0.001, kernel=rbf;, score=0.761 total time=   0.8s\n",
      "[CV 2/5] END ....C=100, gamma=0.001, kernel=rbf;, score=0.759 total time=   0.8s\n",
      "[CV 3/5] END ....C=100, gamma=0.001, kernel=rbf;, score=0.779 total time=   0.8s\n",
      "[CV 4/5] END ....C=100, gamma=0.001, kernel=rbf;, score=0.786 total time=   0.8s\n",
      "[CV 5/5] END ....C=100, gamma=0.001, kernel=rbf;, score=0.764 total time=   0.8s\n",
      "[CV 1/5] END ...C=100, gamma=0.0001, kernel=rbf;, score=0.775 total time=   0.5s\n",
      "[CV 2/5] END ...C=100, gamma=0.0001, kernel=rbf;, score=0.784 total time=   0.6s\n",
      "[CV 3/5] END ...C=100, gamma=0.0001, kernel=rbf;, score=0.790 total time=   0.6s\n",
      "[CV 4/5] END ...C=100, gamma=0.0001, kernel=rbf;, score=0.791 total time=   0.6s\n",
      "[CV 5/5] END ...C=100, gamma=0.0001, kernel=rbf;, score=0.787 total time=   0.6s\n",
      "[CV 1/5] END ....C=100, gamma=1e-05, kernel=rbf;, score=0.772 total time=   0.5s\n",
      "[CV 2/5] END ....C=100, gamma=1e-05, kernel=rbf;, score=0.771 total time=   0.5s\n",
      "[CV 3/5] END ....C=100, gamma=1e-05, kernel=rbf;, score=0.771 total time=   0.5s\n",
      "[CV 4/5] END ....C=100, gamma=1e-05, kernel=rbf;, score=0.787 total time=   0.5s\n",
      "[CV 5/5] END ....C=100, gamma=1e-05, kernel=rbf;, score=0.772 total time=   0.5s\n",
      "[CV 1/5] END ....C=100, gamma=1e-06, kernel=rbf;, score=0.757 total time=   0.6s\n",
      "[CV 2/5] END ....C=100, gamma=1e-06, kernel=rbf;, score=0.758 total time=   0.6s\n",
      "[CV 3/5] END ....C=100, gamma=1e-06, kernel=rbf;, score=0.759 total time=   0.6s\n",
      "[CV 4/5] END ....C=100, gamma=1e-06, kernel=rbf;, score=0.766 total time=   0.6s\n",
      "[CV 5/5] END ....C=100, gamma=1e-06, kernel=rbf;, score=0.755 total time=   0.6s\n",
      "[CV 1/5] END ....C=150, gamma=0.001, kernel=rbf;, score=0.752 total time=   0.9s\n",
      "[CV 2/5] END ....C=150, gamma=0.001, kernel=rbf;, score=0.760 total time=   0.9s\n",
      "[CV 3/5] END ....C=150, gamma=0.001, kernel=rbf;, score=0.777 total time=   1.0s\n",
      "[CV 4/5] END ....C=150, gamma=0.001, kernel=rbf;, score=0.783 total time=   1.0s\n",
      "[CV 5/5] END ....C=150, gamma=0.001, kernel=rbf;, score=0.757 total time=   1.0s\n",
      "[CV 1/5] END ...C=150, gamma=0.0001, kernel=rbf;, score=0.780 total time=   0.6s\n",
      "[CV 2/5] END ...C=150, gamma=0.0001, kernel=rbf;, score=0.782 total time=   0.6s\n",
      "[CV 3/5] END ...C=150, gamma=0.0001, kernel=rbf;, score=0.790 total time=   0.6s\n",
      "[CV 4/5] END ...C=150, gamma=0.0001, kernel=rbf;, score=0.790 total time=   0.6s\n",
      "[CV 5/5] END ...C=150, gamma=0.0001, kernel=rbf;, score=0.789 total time=   0.6s\n",
      "[CV 1/5] END ....C=150, gamma=1e-05, kernel=rbf;, score=0.771 total time=   0.5s\n",
      "[CV 2/5] END ....C=150, gamma=1e-05, kernel=rbf;, score=0.770 total time=   0.5s\n",
      "[CV 3/5] END ....C=150, gamma=1e-05, kernel=rbf;, score=0.774 total time=   0.5s\n",
      "[CV 4/5] END ....C=150, gamma=1e-05, kernel=rbf;, score=0.784 total time=   0.5s\n",
      "[CV 5/5] END ....C=150, gamma=1e-05, kernel=rbf;, score=0.773 total time=   0.5s\n",
      "[CV 1/5] END ....C=150, gamma=1e-06, kernel=rbf;, score=0.760 total time=   0.6s\n",
      "[CV 2/5] END ....C=150, gamma=1e-06, kernel=rbf;, score=0.758 total time=   0.6s\n",
      "[CV 3/5] END ....C=150, gamma=1e-06, kernel=rbf;, score=0.760 total time=   0.6s\n",
      "[CV 4/5] END ....C=150, gamma=1e-06, kernel=rbf;, score=0.769 total time=   0.6s\n",
      "[CV 5/5] END ....C=150, gamma=1e-06, kernel=rbf;, score=0.759 total time=   0.6s\n",
      "[CV 1/5] END ....C=200, gamma=0.001, kernel=rbf;, score=0.753 total time=   1.0s\n",
      "[CV 2/5] END ....C=200, gamma=0.001, kernel=rbf;, score=0.750 total time=   1.1s\n",
      "[CV 3/5] END ....C=200, gamma=0.001, kernel=rbf;, score=0.773 total time=   1.1s\n",
      "[CV 4/5] END ....C=200, gamma=0.001, kernel=rbf;, score=0.771 total time=   1.1s\n",
      "[CV 5/5] END ....C=200, gamma=0.001, kernel=rbf;, score=0.752 total time=   1.1s\n",
      "[CV 1/5] END ...C=200, gamma=0.0001, kernel=rbf;, score=0.776 total time=   0.6s\n",
      "[CV 2/5] END ...C=200, gamma=0.0001, kernel=rbf;, score=0.783 total time=   0.6s\n",
      "[CV 3/5] END ...C=200, gamma=0.0001, kernel=rbf;, score=0.792 total time=   0.6s\n",
      "[CV 4/5] END ...C=200, gamma=0.0001, kernel=rbf;, score=0.786 total time=   0.6s\n",
      "[CV 5/5] END ...C=200, gamma=0.0001, kernel=rbf;, score=0.790 total time=   0.6s\n",
      "[CV 1/5] END ....C=200, gamma=1e-05, kernel=rbf;, score=0.768 total time=   0.5s\n",
      "[CV 2/5] END ....C=200, gamma=1e-05, kernel=rbf;, score=0.774 total time=   0.5s\n",
      "[CV 3/5] END ....C=200, gamma=1e-05, kernel=rbf;, score=0.775 total time=   0.5s\n",
      "[CV 4/5] END ....C=200, gamma=1e-05, kernel=rbf;, score=0.787 total time=   0.5s\n",
      "[CV 5/5] END ....C=200, gamma=1e-05, kernel=rbf;, score=0.777 total time=   0.5s\n",
      "[CV 1/5] END ....C=200, gamma=1e-06, kernel=rbf;, score=0.761 total time=   0.6s\n",
      "[CV 2/5] END ....C=200, gamma=1e-06, kernel=rbf;, score=0.761 total time=   0.6s\n",
      "[CV 3/5] END ....C=200, gamma=1e-06, kernel=rbf;, score=0.759 total time=   0.6s\n",
      "[CV 4/5] END ....C=200, gamma=1e-06, kernel=rbf;, score=0.771 total time=   0.6s\n",
      "[CV 5/5] END ....C=200, gamma=1e-06, kernel=rbf;, score=0.759 total time=   0.6s\n",
      "[CV 1/5] END ....C=250, gamma=0.001, kernel=rbf;, score=0.752 total time=   1.1s\n",
      "[CV 2/5] END ....C=250, gamma=0.001, kernel=rbf;, score=0.748 total time=   1.1s\n",
      "[CV 3/5] END ....C=250, gamma=0.001, kernel=rbf;, score=0.768 total time=   1.2s\n",
      "[CV 4/5] END ....C=250, gamma=0.001, kernel=rbf;, score=0.771 total time=   1.2s\n",
      "[CV 5/5] END ....C=250, gamma=0.001, kernel=rbf;, score=0.746 total time=   1.2s\n",
      "[CV 1/5] END ...C=250, gamma=0.0001, kernel=rbf;, score=0.776 total time=   0.6s\n",
      "[CV 2/5] END ...C=250, gamma=0.0001, kernel=rbf;, score=0.779 total time=   0.6s\n",
      "[CV 3/5] END ...C=250, gamma=0.0001, kernel=rbf;, score=0.794 total time=   0.6s\n",
      "[CV 4/5] END ...C=250, gamma=0.0001, kernel=rbf;, score=0.784 total time=   0.6s\n",
      "[CV 5/5] END ...C=250, gamma=0.0001, kernel=rbf;, score=0.789 total time=   0.6s\n",
      "[CV 1/5] END ....C=250, gamma=1e-05, kernel=rbf;, score=0.769 total time=   0.5s\n",
      "[CV 2/5] END ....C=250, gamma=1e-05, kernel=rbf;, score=0.774 total time=   0.5s\n",
      "[CV 3/5] END ....C=250, gamma=1e-05, kernel=rbf;, score=0.777 total time=   0.5s\n",
      "[CV 4/5] END ....C=250, gamma=1e-05, kernel=rbf;, score=0.787 total time=   0.5s\n",
      "[CV 5/5] END ....C=250, gamma=1e-05, kernel=rbf;, score=0.776 total time=   0.5s\n",
      "[CV 1/5] END ....C=250, gamma=1e-06, kernel=rbf;, score=0.761 total time=   0.6s\n",
      "[CV 2/5] END ....C=250, gamma=1e-06, kernel=rbf;, score=0.764 total time=   0.6s\n",
      "[CV 3/5] END ....C=250, gamma=1e-06, kernel=rbf;, score=0.762 total time=   0.6s\n",
      "[CV 4/5] END ....C=250, gamma=1e-06, kernel=rbf;, score=0.771 total time=   0.6s\n",
      "[CV 5/5] END ....C=250, gamma=1e-06, kernel=rbf;, score=0.760 total time=   0.6s\n",
      "[CV 1/5] END ...C=1000, gamma=0.001, kernel=rbf;, score=0.735 total time=   2.2s\n",
      "[CV 2/5] END ...C=1000, gamma=0.001, kernel=rbf;, score=0.739 total time=   2.2s\n",
      "[CV 3/5] END ...C=1000, gamma=0.001, kernel=rbf;, score=0.740 total time=   2.5s\n",
      "[CV 4/5] END ...C=1000, gamma=0.001, kernel=rbf;, score=0.741 total time=   2.3s\n",
      "[CV 5/5] END ...C=1000, gamma=0.001, kernel=rbf;, score=0.740 total time=   2.4s\n",
      "[CV 1/5] END ..C=1000, gamma=0.0001, kernel=rbf;, score=0.779 total time=   1.0s\n",
      "[CV 2/5] END ..C=1000, gamma=0.0001, kernel=rbf;, score=0.787 total time=   1.0s\n",
      "[CV 3/5] END ..C=1000, gamma=0.0001, kernel=rbf;, score=0.788 total time=   1.0s\n",
      "[CV 4/5] END ..C=1000, gamma=0.0001, kernel=rbf;, score=0.782 total time=   1.0s\n",
      "[CV 5/5] END ..C=1000, gamma=0.0001, kernel=rbf;, score=0.785 total time=   1.0s\n",
      "[CV 1/5] END ...C=1000, gamma=1e-05, kernel=rbf;, score=0.772 total time=   0.6s\n",
      "[CV 2/5] END ...C=1000, gamma=1e-05, kernel=rbf;, score=0.771 total time=   0.6s\n",
      "[CV 3/5] END ...C=1000, gamma=1e-05, kernel=rbf;, score=0.778 total time=   0.6s\n",
      "[CV 4/5] END ...C=1000, gamma=1e-05, kernel=rbf;, score=0.790 total time=   0.6s\n",
      "[CV 5/5] END ...C=1000, gamma=1e-05, kernel=rbf;, score=0.781 total time=   0.6s\n",
      "[CV 1/5] END ...C=1000, gamma=1e-06, kernel=rbf;, score=0.773 total time=   0.5s\n",
      "[CV 2/5] END ...C=1000, gamma=1e-06, kernel=rbf;, score=0.766 total time=   0.6s\n",
      "[CV 3/5] END ...C=1000, gamma=1e-06, kernel=rbf;, score=0.771 total time=   0.5s\n",
      "[CV 4/5] END ...C=1000, gamma=1e-06, kernel=rbf;, score=0.782 total time=   0.5s\n",
      "[CV 5/5] END ...C=1000, gamma=1e-06, kernel=rbf;, score=0.770 total time=   0.6s\n"
     ]
    },
    {
     "data": {
      "text/plain": [
       "GridSearchCV(estimator=SVC(random_state=2021),\n",
       "             param_grid={'C': [50, 100, 150, 200, 250, 1000],\n",
       "                         'gamma': [0.001, 0.0001, 1e-05, 1e-06],\n",
       "                         'kernel': ['rbf']},\n",
       "             verbose=3)"
      ]
     },
     "execution_count": 44,
     "metadata": {},
     "output_type": "execute_result"
    }
   ],
   "source": [
    "#param_grid = {'C': [0.1,1,10,100,1000],'gamma':[1,0.1,0.01,0.001,0.0001],'kernel':['rbf','sigmoid' ]}\n",
    "#{'C': 100, 'gamma': 0.0001, 'kernel': 'rbf'}   0.79 accuracy\n",
    "param_grid = {'C': [50,100,150, 200, 250, 1000],'gamma':[0.001,0.0001, 0.00001, 0.000001],'kernel':['rbf' ]}\n",
    "grid = GridSearchCV(SVC(random_state=2021),param_grid,refit=True,verbose=3)\n",
    "grid.fit(x_train,np.ravel(y_train))\n"
   ]
  },
  {
   "cell_type": "code",
   "execution_count": 43,
   "id": "5cf510cb-2387-4cd1-89b4-bf3d711e31b2",
   "metadata": {},
   "outputs": [
    {
     "data": {
      "text/plain": [
       "{'C': 100, 'gamma': 0.0001, 'kernel': 'rbf'}"
      ]
     },
     "execution_count": 43,
     "metadata": {},
     "output_type": "execute_result"
    }
   ],
   "source": [
    "grid.best_params_"
   ]
  },
  {
   "cell_type": "code",
   "execution_count": 42,
   "id": "51a80b07-9bb0-4c3f-bf93-0b5ce9e42de0",
   "metadata": {},
   "outputs": [
    {
     "name": "stdout",
     "output_type": "stream",
     "text": [
      "0.79 accuracy\n"
     ]
    }
   ],
   "source": [
    "grid_predictions=grid.predict(x_test)\n",
    "print(\"%0.2f accuracy\" % (accuracy_score(y_test,grid_predictions)))\n",
    "\n"
   ]
  },
  {
   "cell_type": "code",
   "execution_count": null,
   "id": "b0ea3414-f29b-4ec5-a4fc-32556146eaa1",
   "metadata": {},
   "outputs": [],
   "source": []
  }
 ],
 "metadata": {
  "kernelspec": {
   "display_name": "Python 3 (ipykernel)",
   "language": "python",
   "name": "python3"
  },
  "language_info": {
   "codemirror_mode": {
    "name": "ipython",
    "version": 3
   },
   "file_extension": ".py",
   "mimetype": "text/x-python",
   "name": "python",
   "nbconvert_exporter": "python",
   "pygments_lexer": "ipython3",
   "version": "3.9.7"
  }
 },
 "nbformat": 4,
 "nbformat_minor": 5
}

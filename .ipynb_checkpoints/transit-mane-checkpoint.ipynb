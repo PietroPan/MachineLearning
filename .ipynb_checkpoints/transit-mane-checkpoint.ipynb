{
 "cells": [
  {
   "cell_type": "code",
   "execution_count": 1,
   "id": "569313aa-2eb3-4004-a997-cfc9e4fc89dd",
   "metadata": {},
   "outputs": [
    {
     "name": "stdout",
     "output_type": "stream",
     "text": [
      "Requirement already satisfied: kaggle in /home/mane/anaconda3/envs/env_DAA/lib/python3.6/site-packages (1.5.12)\n",
      "Requirement already satisfied: tqdm in /home/mane/anaconda3/envs/env_DAA/lib/python3.6/site-packages (from kaggle) (4.62.3)\n",
      "Requirement already satisfied: six>=1.10 in /home/mane/anaconda3/envs/env_DAA/lib/python3.6/site-packages (from kaggle) (1.16.0)\n",
      "Requirement already satisfied: certifi in /home/mane/anaconda3/envs/env_DAA/lib/python3.6/site-packages (from kaggle) (2021.5.30)\n",
      "Requirement already satisfied: requests in /home/mane/anaconda3/envs/env_DAA/lib/python3.6/site-packages (from kaggle) (2.26.0)\n",
      "Requirement already satisfied: python-dateutil in /home/mane/anaconda3/envs/env_DAA/lib/python3.6/site-packages (from kaggle) (2.8.2)\n",
      "Requirement already satisfied: python-slugify in /home/mane/anaconda3/envs/env_DAA/lib/python3.6/site-packages (from kaggle) (5.0.2)\n",
      "Requirement already satisfied: urllib3 in /home/mane/anaconda3/envs/env_DAA/lib/python3.6/site-packages (from kaggle) (1.26.7)\n",
      "Requirement already satisfied: text-unidecode>=1.3 in /home/mane/anaconda3/envs/env_DAA/lib/python3.6/site-packages (from python-slugify->kaggle) (1.3)\n",
      "Requirement already satisfied: charset-normalizer~=2.0.0 in /home/mane/anaconda3/envs/env_DAA/lib/python3.6/site-packages (from requests->kaggle) (2.0.4)\n",
      "Requirement already satisfied: idna<4,>=2.5 in /home/mane/anaconda3/envs/env_DAA/lib/python3.6/site-packages (from requests->kaggle) (3.2)\n"
     ]
    }
   ],
   "source": [
    "!pip install kaggle"
   ]
  },
  {
   "cell_type": "code",
   "execution_count": 2,
   "id": "aec2f348-f2de-47e0-9fe8-9396a843a106",
   "metadata": {},
   "outputs": [
    {
     "name": "stdout",
     "output_type": "stream",
     "text": [
      "Downloading tpsbsdaa2122.zip to /home/mane/Documents/DAA/gh_proj/DAA\n",
      "  0%|                                                | 0.00/157k [00:00<?, ?B/s]\n",
      "100%|████████████████████████████████████████| 157k/157k [00:00<00:00, 2.23MB/s]\n"
     ]
    }
   ],
   "source": [
    "#!kaggle competitions download -c tpsbsdaa2122"
   ]
  },
  {
   "cell_type": "code",
   "execution_count": 98,
   "id": "534045df",
   "metadata": {},
   "outputs": [],
   "source": [
    "import kaggle \n",
    "import pandas as pd\n",
    "import seaborn as sns\n",
    "import numpy as np\n",
    "import re\n",
    "import matplotlib.pyplot as plt\n",
    "from sklearn.tree import *\n",
    "from sklearn.model_selection import train_test_split\n",
    "from sklearn.metrics import *\n",
    "from sklearn.linear_model import LinearRegression\n",
    "from sklearn.cluster import KMeans\n",
    "from sklearn.svm import SVC\n",
    "from sklearn.model_selection import GridSearchCV\n",
    "from sklearn.model_selection import cross_val_score"
   ]
  },
  {
   "cell_type": "markdown",
   "id": "8f742516-cabe-4c87-8fd8-1e5386be9200",
   "metadata": {},
   "source": [
    "### **Algumas funções para tratamento de dados**"
   ]
  },
  {
   "cell_type": "markdown",
   "id": "704ff3de-b48e-49e8-9da9-0703f1b8bea3",
   "metadata": {
    "tags": []
   },
   "source": [
    "#### **Tratamento do campo 'record_date'**"
   ]
  },
  {
   "cell_type": "code",
   "execution_count": 99,
   "id": "7931cbff-a6f2-4e88-a26e-9322552320dd",
   "metadata": {},
   "outputs": [],
   "source": [
    "def daypart(hour):\n",
    "    if hour > 0 and hour < 7:\n",
    "        return \"dawn\"\n",
    "    elif hour >= 7 and hour <= 10:\n",
    "        return \"early morning\"\n",
    "    elif hour > 10 and hour < 12:\n",
    "        return \"late morning\"\n",
    "    elif hour >= 12 and hour <= 14:\n",
    "        return \"lunch\"\n",
    "    elif hour > 14 and hour < 17:\n",
    "        return \"early afternoon\"\n",
    "    elif hour >= 17 and hour <= 20:\n",
    "        return \"late afternoon\"\n",
    "    elif hour > 20 and hour < 22:\n",
    "        return \"evening\"\n",
    "    else:\n",
    "        return \"midnight\"\n",
    "    \n",
    "def is_weekend(day_name):\n",
    "    if day_name == 'Saturday' or day_name == 'Sunday':\n",
    "        return 1\n",
    "    else:\n",
    "        return 0\n",
    "\n",
    "def is_friday(day_name):\n",
    "    if day_name == 'Friday':\n",
    "        return 1\n",
    "    else:\n",
    "        return 0 \n",
    "    \n",
    "def season(month):\n",
    "    if month > 3 and month < 6:\n",
    "        return \"spring\"\n",
    "    elif month >= 6 and month <= 9:\n",
    "        return \"summer\"\n",
    "    elif month > 9 and month < 12:\n",
    "        return \"fall\"\n",
    "    else:\n",
    "        return \"winter\"\n",
    "\n",
    "# Função principal que trata do campo 'record_date'\n",
    "# Passam a existir colunas que identificam a altura do dia, a estação do ano, bem como se é ou não fim-de-semana/sexta-feira/quinta-feira\n",
    "def handle_date(df):\n",
    "    if 'Is_weekend' not in df:\n",
    "        df.record_date = pd.to_datetime(df.record_date)\n",
    "        df['Month'] = df.record_date.dt.month\n",
    "        df['Hour'] = df.record_date.dt.hour\n",
    "        df['Day_name'] = df.record_date.dt.day_name()\n",
    "        df['Day_Part'] = df['Hour'].apply(daypart)\n",
    "        df['Is_weekend'] = df['Day_name'].apply(is_weekend)\n",
    "        df['Is_friday'] = df['Day_name'].apply(is_friday)\n",
    "        df['Season'] = df['Month'].apply(season)\n",
    "        one_hot_dates = pd.get_dummies(df['Day_Part'])\n",
    "        #one_hot_seasons = pd.get_dummies(df['Season'])\n",
    "        df = pd.concat([df, one_hot_dates], axis=1)\n",
    "        df = df.drop(['Month', 'Hour', 'Day_name', 'Day_Part', 'Season', 'record_date'],axis=1)\n",
    "    return df\n",
    "        "
   ]
  },
  {
   "cell_type": "markdown",
   "id": "29beed00-d0bb-4c1d-bd3d-906922a0a1a3",
   "metadata": {},
   "source": [
    "### **Tratamento dos dados**"
   ]
  },
  {
   "cell_type": "code",
   "execution_count": 100,
   "id": "f929a4d1-fd4b-4b82-9ec9-5c5fb97cb538",
   "metadata": {},
   "outputs": [],
   "source": [
    "training_file = 'Datasets/training_data.csv'\n",
    "test_file = 'Datasets/test_data.csv'\n",
    "\n",
    "def tratamentoDados(filename):\n",
    "    df = pd.read_csv(filename,encoding = \"ISO-8859-1\")\n",
    "    df = df.drop(['city_name','AVERAGE_PRECIPITATION','AVERAGE_RAIN'],axis=1)\n",
    "    df['LUMINOSITY'].replace({\"DARK\": 0, \"LOW_LIGHT\": 1, \"LIGHT\": 2}, inplace=True)\n",
    "    df['AVERAGE_CLOUDINESS'].replace({\"céu limpo\": 0, \"céu claro\": 1, \"nuvens dispersas\": 2,\"nuvens quebrados\": 3,\"nuvens quebradas\": 3,\"algumas nuvens\": 4,\"céu pouco nublado\":5,'tempo nublado': 6,'nublado': 6}, inplace=True)\n",
    "    df['AVERAGE_CLOUDINESS']=df['AVERAGE_CLOUDINESS'].fillna(method='bfill')\n",
    "    df['AVERAGE_CLOUDINESS']=df['AVERAGE_CLOUDINESS'].fillna(method='ffill')\n",
    "    df = handle_date(df)\n",
    "    if 'AVERAGE_SPEED_DIFF' in df:\n",
    "        df['AVERAGE_SPEED_DIFF'].replace({\"None\": 0, \"Low\": 1, \"Medium\": 2, \"High\": 3, \"Very_High\": 4}, inplace=True)\n",
    "    return df\n",
    "\n",
    "def reloadDataset(df):\n",
    "    df = pd.read_csv(training_file,encoding = \"ISO-8859-1\")"
   ]
  },
  {
   "cell_type": "code",
   "execution_count": 9,
   "id": "19577eb1",
   "metadata": {},
   "outputs": [],
   "source": [
    "df = pd.read_csv(training_file,encoding = \"ISO-8859-1\")"
   ]
  },
  {
   "cell_type": "code",
   "execution_count": 6,
   "id": "54225a17",
   "metadata": {},
   "outputs": [
    {
     "data": {
      "text/html": [
       "<div>\n",
       "<style scoped>\n",
       "    .dataframe tbody tr th:only-of-type {\n",
       "        vertical-align: middle;\n",
       "    }\n",
       "\n",
       "    .dataframe tbody tr th {\n",
       "        vertical-align: top;\n",
       "    }\n",
       "\n",
       "    .dataframe thead th {\n",
       "        text-align: right;\n",
       "    }\n",
       "</style>\n",
       "<table border=\"1\" class=\"dataframe\">\n",
       "  <thead>\n",
       "    <tr style=\"text-align: right;\">\n",
       "      <th></th>\n",
       "      <th>city_name</th>\n",
       "      <th>record_date</th>\n",
       "      <th>AVERAGE_SPEED_DIFF</th>\n",
       "      <th>AVERAGE_FREE_FLOW_SPEED</th>\n",
       "      <th>AVERAGE_TIME_DIFF</th>\n",
       "      <th>AVERAGE_FREE_FLOW_TIME</th>\n",
       "      <th>LUMINOSITY</th>\n",
       "      <th>AVERAGE_TEMPERATURE</th>\n",
       "      <th>AVERAGE_ATMOSP_PRESSURE</th>\n",
       "      <th>AVERAGE_HUMIDITY</th>\n",
       "      <th>AVERAGE_WIND_SPEED</th>\n",
       "      <th>AVERAGE_CLOUDINESS</th>\n",
       "      <th>AVERAGE_PRECIPITATION</th>\n",
       "      <th>AVERAGE_RAIN</th>\n",
       "    </tr>\n",
       "  </thead>\n",
       "  <tbody>\n",
       "    <tr>\n",
       "      <th>0</th>\n",
       "      <td>Porto</td>\n",
       "      <td>2019-08-29 07:00:00</td>\n",
       "      <td>Medium</td>\n",
       "      <td>41.5</td>\n",
       "      <td>11.5</td>\n",
       "      <td>71.4</td>\n",
       "      <td>LIGHT</td>\n",
       "      <td>15.0</td>\n",
       "      <td>1019.0</td>\n",
       "      <td>100.0</td>\n",
       "      <td>3.0</td>\n",
       "      <td>NaN</td>\n",
       "      <td>0.0</td>\n",
       "      <td>NaN</td>\n",
       "    </tr>\n",
       "    <tr>\n",
       "      <th>1</th>\n",
       "      <td>Porto</td>\n",
       "      <td>2018-08-10 14:00:00</td>\n",
       "      <td>High</td>\n",
       "      <td>41.7</td>\n",
       "      <td>48.3</td>\n",
       "      <td>87.4</td>\n",
       "      <td>LIGHT</td>\n",
       "      <td>21.0</td>\n",
       "      <td>1021.0</td>\n",
       "      <td>53.0</td>\n",
       "      <td>5.0</td>\n",
       "      <td>céu claro</td>\n",
       "      <td>0.0</td>\n",
       "      <td>NaN</td>\n",
       "    </tr>\n",
       "    <tr>\n",
       "      <th>2</th>\n",
       "      <td>Porto</td>\n",
       "      <td>2019-09-01 16:00:00</td>\n",
       "      <td>High</td>\n",
       "      <td>38.6</td>\n",
       "      <td>38.4</td>\n",
       "      <td>85.2</td>\n",
       "      <td>LIGHT</td>\n",
       "      <td>26.0</td>\n",
       "      <td>1014.0</td>\n",
       "      <td>61.0</td>\n",
       "      <td>4.0</td>\n",
       "      <td>NaN</td>\n",
       "      <td>0.0</td>\n",
       "      <td>NaN</td>\n",
       "    </tr>\n",
       "    <tr>\n",
       "      <th>3</th>\n",
       "      <td>Porto</td>\n",
       "      <td>2019-02-26 11:00:00</td>\n",
       "      <td>High</td>\n",
       "      <td>37.4</td>\n",
       "      <td>61.0</td>\n",
       "      <td>94.1</td>\n",
       "      <td>LIGHT</td>\n",
       "      <td>18.0</td>\n",
       "      <td>1025.0</td>\n",
       "      <td>48.0</td>\n",
       "      <td>4.0</td>\n",
       "      <td>céu claro</td>\n",
       "      <td>0.0</td>\n",
       "      <td>NaN</td>\n",
       "    </tr>\n",
       "    <tr>\n",
       "      <th>4</th>\n",
       "      <td>Porto</td>\n",
       "      <td>2019-06-06 12:00:00</td>\n",
       "      <td>Medium</td>\n",
       "      <td>41.6</td>\n",
       "      <td>50.4</td>\n",
       "      <td>77.0</td>\n",
       "      <td>LIGHT</td>\n",
       "      <td>15.0</td>\n",
       "      <td>1008.0</td>\n",
       "      <td>82.0</td>\n",
       "      <td>10.0</td>\n",
       "      <td>NaN</td>\n",
       "      <td>0.0</td>\n",
       "      <td>NaN</td>\n",
       "    </tr>\n",
       "  </tbody>\n",
       "</table>\n",
       "</div>"
      ],
      "text/plain": [
       "  city_name          record_date AVERAGE_SPEED_DIFF  AVERAGE_FREE_FLOW_SPEED  \\\n",
       "0     Porto  2019-08-29 07:00:00             Medium                     41.5   \n",
       "1     Porto  2018-08-10 14:00:00               High                     41.7   \n",
       "2     Porto  2019-09-01 16:00:00               High                     38.6   \n",
       "3     Porto  2019-02-26 11:00:00               High                     37.4   \n",
       "4     Porto  2019-06-06 12:00:00             Medium                     41.6   \n",
       "\n",
       "   AVERAGE_TIME_DIFF  AVERAGE_FREE_FLOW_TIME LUMINOSITY  AVERAGE_TEMPERATURE  \\\n",
       "0               11.5                    71.4      LIGHT                 15.0   \n",
       "1               48.3                    87.4      LIGHT                 21.0   \n",
       "2               38.4                    85.2      LIGHT                 26.0   \n",
       "3               61.0                    94.1      LIGHT                 18.0   \n",
       "4               50.4                    77.0      LIGHT                 15.0   \n",
       "\n",
       "   AVERAGE_ATMOSP_PRESSURE  AVERAGE_HUMIDITY  AVERAGE_WIND_SPEED  \\\n",
       "0                   1019.0             100.0                 3.0   \n",
       "1                   1021.0              53.0                 5.0   \n",
       "2                   1014.0              61.0                 4.0   \n",
       "3                   1025.0              48.0                 4.0   \n",
       "4                   1008.0              82.0                10.0   \n",
       "\n",
       "  AVERAGE_CLOUDINESS  AVERAGE_PRECIPITATION AVERAGE_RAIN  \n",
       "0                NaN                    0.0          NaN  \n",
       "1          céu claro                    0.0          NaN  \n",
       "2                NaN                    0.0          NaN  \n",
       "3          céu claro                    0.0          NaN  \n",
       "4                NaN                    0.0          NaN  "
      ]
     },
     "execution_count": 6,
     "metadata": {},
     "output_type": "execute_result"
    }
   ],
   "source": [
    "df.head()"
   ]
  },
  {
   "cell_type": "code",
   "execution_count": 8,
   "id": "8a846cb8",
   "metadata": {},
   "outputs": [
    {
     "name": "stdout",
     "output_type": "stream",
     "text": [
      "<class 'pandas.core.frame.DataFrame'>\n",
      "RangeIndex: 6812 entries, 0 to 6811\n",
      "Data columns (total 14 columns):\n",
      " #   Column                   Non-Null Count  Dtype  \n",
      "---  ------                   --------------  -----  \n",
      " 0   city_name                6812 non-null   object \n",
      " 1   record_date              6812 non-null   object \n",
      " 2   AVERAGE_SPEED_DIFF       6812 non-null   object \n",
      " 3   AVERAGE_FREE_FLOW_SPEED  6812 non-null   float64\n",
      " 4   AVERAGE_TIME_DIFF        6812 non-null   float64\n",
      " 5   AVERAGE_FREE_FLOW_TIME   6812 non-null   float64\n",
      " 6   LUMINOSITY               6812 non-null   object \n",
      " 7   AVERAGE_TEMPERATURE      6812 non-null   float64\n",
      " 8   AVERAGE_ATMOSP_PRESSURE  6812 non-null   float64\n",
      " 9   AVERAGE_HUMIDITY         6812 non-null   float64\n",
      " 10  AVERAGE_WIND_SPEED       6812 non-null   float64\n",
      " 11  AVERAGE_CLOUDINESS       4130 non-null   object \n",
      " 12  AVERAGE_PRECIPITATION    6812 non-null   float64\n",
      " 13  AVERAGE_RAIN             563 non-null    object \n",
      "dtypes: float64(8), object(6)\n",
      "memory usage: 745.2+ KB\n"
     ]
    }
   ],
   "source": [
    "df.info()"
   ]
  },
  {
   "cell_type": "code",
   "execution_count": 9,
   "id": "958855bb",
   "metadata": {},
   "outputs": [
    {
     "data": {
      "text/html": [
       "<div>\n",
       "<style scoped>\n",
       "    .dataframe tbody tr th:only-of-type {\n",
       "        vertical-align: middle;\n",
       "    }\n",
       "\n",
       "    .dataframe tbody tr th {\n",
       "        vertical-align: top;\n",
       "    }\n",
       "\n",
       "    .dataframe thead th {\n",
       "        text-align: right;\n",
       "    }\n",
       "</style>\n",
       "<table border=\"1\" class=\"dataframe\">\n",
       "  <thead>\n",
       "    <tr style=\"text-align: right;\">\n",
       "      <th></th>\n",
       "      <th>AVERAGE_FREE_FLOW_SPEED</th>\n",
       "      <th>AVERAGE_TIME_DIFF</th>\n",
       "      <th>AVERAGE_FREE_FLOW_TIME</th>\n",
       "      <th>AVERAGE_TEMPERATURE</th>\n",
       "      <th>AVERAGE_ATMOSP_PRESSURE</th>\n",
       "      <th>AVERAGE_HUMIDITY</th>\n",
       "      <th>AVERAGE_WIND_SPEED</th>\n",
       "      <th>AVERAGE_PRECIPITATION</th>\n",
       "    </tr>\n",
       "  </thead>\n",
       "  <tbody>\n",
       "    <tr>\n",
       "      <th>count</th>\n",
       "      <td>6812.000000</td>\n",
       "      <td>6812.000000</td>\n",
       "      <td>6812.000000</td>\n",
       "      <td>6812.000000</td>\n",
       "      <td>6812.000000</td>\n",
       "      <td>6812.000000</td>\n",
       "      <td>6812.000000</td>\n",
       "      <td>6812.0</td>\n",
       "    </tr>\n",
       "    <tr>\n",
       "      <th>mean</th>\n",
       "      <td>40.661010</td>\n",
       "      <td>25.637111</td>\n",
       "      <td>81.143952</td>\n",
       "      <td>16.193482</td>\n",
       "      <td>1017.388139</td>\n",
       "      <td>80.084190</td>\n",
       "      <td>3.058573</td>\n",
       "      <td>0.0</td>\n",
       "    </tr>\n",
       "    <tr>\n",
       "      <th>std</th>\n",
       "      <td>4.119023</td>\n",
       "      <td>33.510507</td>\n",
       "      <td>8.294401</td>\n",
       "      <td>5.163492</td>\n",
       "      <td>5.751061</td>\n",
       "      <td>18.238863</td>\n",
       "      <td>2.138421</td>\n",
       "      <td>0.0</td>\n",
       "    </tr>\n",
       "    <tr>\n",
       "      <th>min</th>\n",
       "      <td>30.500000</td>\n",
       "      <td>0.000000</td>\n",
       "      <td>46.400000</td>\n",
       "      <td>0.000000</td>\n",
       "      <td>985.000000</td>\n",
       "      <td>14.000000</td>\n",
       "      <td>0.000000</td>\n",
       "      <td>0.0</td>\n",
       "    </tr>\n",
       "    <tr>\n",
       "      <th>25%</th>\n",
       "      <td>37.600000</td>\n",
       "      <td>2.275000</td>\n",
       "      <td>75.400000</td>\n",
       "      <td>13.000000</td>\n",
       "      <td>1015.000000</td>\n",
       "      <td>69.750000</td>\n",
       "      <td>1.000000</td>\n",
       "      <td>0.0</td>\n",
       "    </tr>\n",
       "    <tr>\n",
       "      <th>50%</th>\n",
       "      <td>40.700000</td>\n",
       "      <td>12.200000</td>\n",
       "      <td>82.400000</td>\n",
       "      <td>16.000000</td>\n",
       "      <td>1017.000000</td>\n",
       "      <td>83.000000</td>\n",
       "      <td>3.000000</td>\n",
       "      <td>0.0</td>\n",
       "    </tr>\n",
       "    <tr>\n",
       "      <th>75%</th>\n",
       "      <td>43.500000</td>\n",
       "      <td>36.200000</td>\n",
       "      <td>87.400000</td>\n",
       "      <td>19.000000</td>\n",
       "      <td>1021.000000</td>\n",
       "      <td>93.000000</td>\n",
       "      <td>4.000000</td>\n",
       "      <td>0.0</td>\n",
       "    </tr>\n",
       "    <tr>\n",
       "      <th>max</th>\n",
       "      <td>55.900000</td>\n",
       "      <td>296.500000</td>\n",
       "      <td>112.000000</td>\n",
       "      <td>35.000000</td>\n",
       "      <td>1033.000000</td>\n",
       "      <td>100.000000</td>\n",
       "      <td>14.000000</td>\n",
       "      <td>0.0</td>\n",
       "    </tr>\n",
       "  </tbody>\n",
       "</table>\n",
       "</div>"
      ],
      "text/plain": [
       "       AVERAGE_FREE_FLOW_SPEED  AVERAGE_TIME_DIFF  AVERAGE_FREE_FLOW_TIME  \\\n",
       "count              6812.000000        6812.000000             6812.000000   \n",
       "mean                 40.661010          25.637111               81.143952   \n",
       "std                   4.119023          33.510507                8.294401   \n",
       "min                  30.500000           0.000000               46.400000   \n",
       "25%                  37.600000           2.275000               75.400000   \n",
       "50%                  40.700000          12.200000               82.400000   \n",
       "75%                  43.500000          36.200000               87.400000   \n",
       "max                  55.900000         296.500000              112.000000   \n",
       "\n",
       "       AVERAGE_TEMPERATURE  AVERAGE_ATMOSP_PRESSURE  AVERAGE_HUMIDITY  \\\n",
       "count          6812.000000              6812.000000       6812.000000   \n",
       "mean             16.193482              1017.388139         80.084190   \n",
       "std               5.163492                 5.751061         18.238863   \n",
       "min               0.000000               985.000000         14.000000   \n",
       "25%              13.000000              1015.000000         69.750000   \n",
       "50%              16.000000              1017.000000         83.000000   \n",
       "75%              19.000000              1021.000000         93.000000   \n",
       "max              35.000000              1033.000000        100.000000   \n",
       "\n",
       "       AVERAGE_WIND_SPEED  AVERAGE_PRECIPITATION  \n",
       "count         6812.000000                 6812.0  \n",
       "mean             3.058573                    0.0  \n",
       "std              2.138421                    0.0  \n",
       "min              0.000000                    0.0  \n",
       "25%              1.000000                    0.0  \n",
       "50%              3.000000                    0.0  \n",
       "75%              4.000000                    0.0  \n",
       "max             14.000000                    0.0  "
      ]
     },
     "execution_count": 9,
     "metadata": {},
     "output_type": "execute_result"
    }
   ],
   "source": [
    "df.describe()"
   ]
  },
  {
   "cell_type": "code",
   "execution_count": 10,
   "id": "53ba1dc0",
   "metadata": {},
   "outputs": [
    {
     "name": "stdout",
     "output_type": "stream",
     "text": [
      "city_name                     0\n",
      "record_date                   0\n",
      "AVERAGE_SPEED_DIFF            0\n",
      "AVERAGE_FREE_FLOW_SPEED       0\n",
      "AVERAGE_TIME_DIFF             0\n",
      "AVERAGE_FREE_FLOW_TIME        0\n",
      "LUMINOSITY                    0\n",
      "AVERAGE_TEMPERATURE           0\n",
      "AVERAGE_ATMOSP_PRESSURE       0\n",
      "AVERAGE_HUMIDITY              0\n",
      "AVERAGE_WIND_SPEED            0\n",
      "AVERAGE_CLOUDINESS         2682\n",
      "AVERAGE_PRECIPITATION         0\n",
      "AVERAGE_RAIN               6249\n",
      "dtype: int64\n"
     ]
    }
   ],
   "source": [
    "print(df.isna().sum())"
   ]
  },
  {
   "cell_type": "code",
   "execution_count": 11,
   "id": "2cda7823",
   "metadata": {},
   "outputs": [
    {
     "name": "stdout",
     "output_type": "stream",
     "text": [
      "['LIGHT' 'LOW_LIGHT' 'DARK']\n",
      "[nan 'céu claro' 'nuvens dispersas' 'céu pouco nublado' 'céu limpo'\n",
      " 'algumas nuvens' 'nuvens quebrados' 'tempo nublado' 'nuvens quebradas'\n",
      " 'nublado']\n",
      "['Porto']\n",
      "[nan 'chuva fraca' 'chuva' 'chuva leve' 'chuvisco fraco' 'chuva moderada'\n",
      " 'trovoada com chuva leve' 'aguaceiros' 'aguaceiros fracos'\n",
      " 'chuva de intensidade pesada' 'trovoada com chuva'\n",
      " 'chuva de intensidade pesado' 'chuva forte' 'chuvisco e chuva fraca']\n",
      "[0.]\n",
      "['2019-08-29 07:00:00' '2018-08-10 14:00:00' '2019-09-01 16:00:00' ...\n",
      " '2018-10-02 04:00:00' '2019-01-30 01:00:00' '2019-06-15 21:00:00']\n"
     ]
    }
   ],
   "source": [
    "print(df.LUMINOSITY.unique())\n",
    "print(df.AVERAGE_CLOUDINESS.unique())\n",
    "print(df.city_name.unique())\n",
    "print(df.AVERAGE_RAIN.unique())\n",
    "print(df.AVERAGE_PRECIPITATION.unique())\n",
    "print(df.record_date.unique())"
   ]
  },
  {
   "cell_type": "code",
   "execution_count": 12,
   "id": "8fa31f1f-e13d-47bc-9973-3c2052cbaea6",
   "metadata": {},
   "outputs": [
    {
     "name": "stdout",
     "output_type": "stream",
     "text": [
      "city_name : ['Porto']\n",
      "AVERAGE_SPEED_DIFF : ['Medium' 'High' 'None' 'Low' 'Very_High']\n",
      "LUMINOSITY : ['LIGHT' 'LOW_LIGHT' 'DARK']\n",
      "AVERAGE_PRECIPITATION : [0.]\n"
     ]
    }
   ],
   "source": [
    "for c in df.columns:\n",
    "    valores_unicos = df[c].unique()\n",
    "    if len(valores_unicos) < 10:\n",
    "        print(f'{c} : {valores_unicos}')"
   ]
  },
  {
   "cell_type": "markdown",
   "id": "05db3630-36b2-4356-b7f4-2a3443df46dd",
   "metadata": {},
   "source": [
    "#### **Eliminar colunas**"
   ]
  },
  {
   "cell_type": "code",
   "execution_count": 13,
   "id": "f78c1483",
   "metadata": {},
   "outputs": [],
   "source": [
    "# city_name e AVERAGE_PRECIPITATION só tem uma entrada por isso são inuteis\n",
    "# AVERAGE_RAIN é quase tudo valores nulos \n",
    "\n",
    "df = df.drop(['city_name','AVERAGE_PRECIPITATION','AVERAGE_RAIN'],axis=1)"
   ]
  },
  {
   "cell_type": "code",
   "execution_count": 14,
   "id": "7d849504",
   "metadata": {},
   "outputs": [
    {
     "name": "stdout",
     "output_type": "stream",
     "text": [
      "<class 'pandas.core.frame.DataFrame'>\n",
      "RangeIndex: 6812 entries, 0 to 6811\n",
      "Data columns (total 11 columns):\n",
      " #   Column                   Non-Null Count  Dtype  \n",
      "---  ------                   --------------  -----  \n",
      " 0   record_date              6812 non-null   object \n",
      " 1   AVERAGE_SPEED_DIFF       6812 non-null   object \n",
      " 2   AVERAGE_FREE_FLOW_SPEED  6812 non-null   float64\n",
      " 3   AVERAGE_TIME_DIFF        6812 non-null   float64\n",
      " 4   AVERAGE_FREE_FLOW_TIME   6812 non-null   float64\n",
      " 5   LUMINOSITY               6812 non-null   object \n",
      " 6   AVERAGE_TEMPERATURE      6812 non-null   float64\n",
      " 7   AVERAGE_ATMOSP_PRESSURE  6812 non-null   float64\n",
      " 8   AVERAGE_HUMIDITY         6812 non-null   float64\n",
      " 9   AVERAGE_WIND_SPEED       6812 non-null   float64\n",
      " 10  AVERAGE_CLOUDINESS       4130 non-null   object \n",
      "dtypes: float64(7), object(4)\n",
      "memory usage: 585.5+ KB\n"
     ]
    }
   ],
   "source": [
    "df.head()\n",
    "df.info()"
   ]
  },
  {
   "cell_type": "code",
   "execution_count": 15,
   "id": "55f27dcc",
   "metadata": {},
   "outputs": [],
   "source": [
    "# Transformar 'LUMINOSITY' em inteiros\n",
    "df['LUMINOSITY'].replace({\"DARK\": 0, \"LOW_LIGHT\": 1, \"LIGHT\": 2}, inplace=True)"
   ]
  },
  {
   "cell_type": "code",
   "execution_count": 16,
   "id": "27632d66",
   "metadata": {},
   "outputs": [],
   "source": [
    "# Quantificar AVERAGE_CLOUDINESS\n",
    "df['AVERAGE_CLOUDINESS'].replace({\"céu limpo\": 0, \"céu claro\": 1, \"nuvens dispersas\": 2,\"nuvens quebrados\": 3,\"nuvens quebradas\": 3,\"algumas nuvens\": 4,\"céu pouco nublado\":5,'tempo nublado': 6,'nublado': 6}, inplace=True)"
   ]
  },
  {
   "cell_type": "code",
   "execution_count": 17,
   "id": "44aecfc7",
   "metadata": {},
   "outputs": [],
   "source": [
    "#Fill null AVERAGE_CLOUDINESS\n",
    "\n",
    "df['AVERAGE_CLOUDINESS']=df['AVERAGE_CLOUDINESS'].fillna(method='bfill')\n",
    "df['AVERAGE_CLOUDINESS']=df['AVERAGE_CLOUDINESS'].fillna(method='ffill')\n"
   ]
  },
  {
   "cell_type": "code",
   "execution_count": 18,
   "id": "41478014",
   "metadata": {},
   "outputs": [
    {
     "data": {
      "text/html": [
       "<div>\n",
       "<style scoped>\n",
       "    .dataframe tbody tr th:only-of-type {\n",
       "        vertical-align: middle;\n",
       "    }\n",
       "\n",
       "    .dataframe tbody tr th {\n",
       "        vertical-align: top;\n",
       "    }\n",
       "\n",
       "    .dataframe thead th {\n",
       "        text-align: right;\n",
       "    }\n",
       "</style>\n",
       "<table border=\"1\" class=\"dataframe\">\n",
       "  <thead>\n",
       "    <tr style=\"text-align: right;\">\n",
       "      <th></th>\n",
       "      <th>record_date</th>\n",
       "      <th>AVERAGE_SPEED_DIFF</th>\n",
       "      <th>AVERAGE_FREE_FLOW_SPEED</th>\n",
       "      <th>AVERAGE_TIME_DIFF</th>\n",
       "      <th>AVERAGE_FREE_FLOW_TIME</th>\n",
       "      <th>LUMINOSITY</th>\n",
       "      <th>AVERAGE_TEMPERATURE</th>\n",
       "      <th>AVERAGE_ATMOSP_PRESSURE</th>\n",
       "      <th>AVERAGE_HUMIDITY</th>\n",
       "      <th>AVERAGE_WIND_SPEED</th>\n",
       "      <th>AVERAGE_CLOUDINESS</th>\n",
       "    </tr>\n",
       "  </thead>\n",
       "  <tbody>\n",
       "    <tr>\n",
       "      <th>0</th>\n",
       "      <td>2019-08-29 07:00:00</td>\n",
       "      <td>2</td>\n",
       "      <td>41.5</td>\n",
       "      <td>11.5</td>\n",
       "      <td>71.4</td>\n",
       "      <td>2</td>\n",
       "      <td>15.0</td>\n",
       "      <td>1019.0</td>\n",
       "      <td>100.0</td>\n",
       "      <td>3.0</td>\n",
       "      <td>1.0</td>\n",
       "    </tr>\n",
       "    <tr>\n",
       "      <th>1</th>\n",
       "      <td>2018-08-10 14:00:00</td>\n",
       "      <td>3</td>\n",
       "      <td>41.7</td>\n",
       "      <td>48.3</td>\n",
       "      <td>87.4</td>\n",
       "      <td>2</td>\n",
       "      <td>21.0</td>\n",
       "      <td>1021.0</td>\n",
       "      <td>53.0</td>\n",
       "      <td>5.0</td>\n",
       "      <td>1.0</td>\n",
       "    </tr>\n",
       "    <tr>\n",
       "      <th>2</th>\n",
       "      <td>2019-09-01 16:00:00</td>\n",
       "      <td>3</td>\n",
       "      <td>38.6</td>\n",
       "      <td>38.4</td>\n",
       "      <td>85.2</td>\n",
       "      <td>2</td>\n",
       "      <td>26.0</td>\n",
       "      <td>1014.0</td>\n",
       "      <td>61.0</td>\n",
       "      <td>4.0</td>\n",
       "      <td>1.0</td>\n",
       "    </tr>\n",
       "    <tr>\n",
       "      <th>3</th>\n",
       "      <td>2019-02-26 11:00:00</td>\n",
       "      <td>3</td>\n",
       "      <td>37.4</td>\n",
       "      <td>61.0</td>\n",
       "      <td>94.1</td>\n",
       "      <td>2</td>\n",
       "      <td>18.0</td>\n",
       "      <td>1025.0</td>\n",
       "      <td>48.0</td>\n",
       "      <td>4.0</td>\n",
       "      <td>1.0</td>\n",
       "    </tr>\n",
       "    <tr>\n",
       "      <th>4</th>\n",
       "      <td>2019-06-06 12:00:00</td>\n",
       "      <td>2</td>\n",
       "      <td>41.6</td>\n",
       "      <td>50.4</td>\n",
       "      <td>77.0</td>\n",
       "      <td>2</td>\n",
       "      <td>15.0</td>\n",
       "      <td>1008.0</td>\n",
       "      <td>82.0</td>\n",
       "      <td>10.0</td>\n",
       "      <td>2.0</td>\n",
       "    </tr>\n",
       "  </tbody>\n",
       "</table>\n",
       "</div>"
      ],
      "text/plain": [
       "           record_date  AVERAGE_SPEED_DIFF  AVERAGE_FREE_FLOW_SPEED  \\\n",
       "0  2019-08-29 07:00:00                   2                     41.5   \n",
       "1  2018-08-10 14:00:00                   3                     41.7   \n",
       "2  2019-09-01 16:00:00                   3                     38.6   \n",
       "3  2019-02-26 11:00:00                   3                     37.4   \n",
       "4  2019-06-06 12:00:00                   2                     41.6   \n",
       "\n",
       "   AVERAGE_TIME_DIFF  AVERAGE_FREE_FLOW_TIME  LUMINOSITY  AVERAGE_TEMPERATURE  \\\n",
       "0               11.5                    71.4           2                 15.0   \n",
       "1               48.3                    87.4           2                 21.0   \n",
       "2               38.4                    85.2           2                 26.0   \n",
       "3               61.0                    94.1           2                 18.0   \n",
       "4               50.4                    77.0           2                 15.0   \n",
       "\n",
       "   AVERAGE_ATMOSP_PRESSURE  AVERAGE_HUMIDITY  AVERAGE_WIND_SPEED  \\\n",
       "0                   1019.0             100.0                 3.0   \n",
       "1                   1021.0              53.0                 5.0   \n",
       "2                   1014.0              61.0                 4.0   \n",
       "3                   1025.0              48.0                 4.0   \n",
       "4                   1008.0              82.0                10.0   \n",
       "\n",
       "   AVERAGE_CLOUDINESS  \n",
       "0                 1.0  \n",
       "1                 1.0  \n",
       "2                 1.0  \n",
       "3                 1.0  \n",
       "4                 2.0  "
      ]
     },
     "execution_count": 18,
     "metadata": {},
     "output_type": "execute_result"
    }
   ],
   "source": [
    "#Passar main column para numeros\n",
    "df['AVERAGE_SPEED_DIFF'].replace({\"None\": 0, \"Low\": 1, \"Medium\": 2, \"High\": 3, \"Very_High\": 4}, inplace=True)\n",
    "df.head()"
   ]
  },
  {
   "cell_type": "code",
   "execution_count": 19,
   "id": "b5f202d4",
   "metadata": {},
   "outputs": [
    {
     "name": "stdout",
     "output_type": "stream",
     "text": [
      "AxesSubplot(0.125,0.125;0.775x0.755)\n"
     ]
    },
    {
     "data": {
      "image/png": "[encoded data removed]",
      "text/plain": [
       "<Figure size 432x288 with 1 Axes>"
      ]
     },
     "metadata": {
      "needs_background": "light"
     },
     "output_type": "display_data"
    }
   ],
   "source": [
    "#Drop luminosity pode não ser importante\n",
    "print(sns.histplot(data=df[df['LUMINOSITY']==0], hue = 'LUMINOSITY', x = 'AVERAGE_SPEED_DIFF'))"
   ]
  },
  {
   "cell_type": "code",
   "execution_count": 20,
   "id": "978136ef",
   "metadata": {},
   "outputs": [
    {
     "name": "stdout",
     "output_type": "stream",
     "text": [
      "<class 'pandas.core.frame.DataFrame'>\n",
      "RangeIndex: 6812 entries, 0 to 6811\n",
      "Data columns (total 11 columns):\n",
      " #   Column                   Non-Null Count  Dtype  \n",
      "---  ------                   --------------  -----  \n",
      " 0   record_date              6812 non-null   int64  \n",
      " 1   AVERAGE_SPEED_DIFF       6812 non-null   int64  \n",
      " 2   AVERAGE_FREE_FLOW_SPEED  6812 non-null   float64\n",
      " 3   AVERAGE_TIME_DIFF        6812 non-null   float64\n",
      " 4   AVERAGE_FREE_FLOW_TIME   6812 non-null   float64\n",
      " 5   LUMINOSITY               6812 non-null   int64  \n",
      " 6   AVERAGE_TEMPERATURE      6812 non-null   float64\n",
      " 7   AVERAGE_ATMOSP_PRESSURE  6812 non-null   float64\n",
      " 8   AVERAGE_HUMIDITY         6812 non-null   float64\n",
      " 9   AVERAGE_WIND_SPEED       6812 non-null   float64\n",
      " 10  AVERAGE_CLOUDINESS       6812 non-null   float64\n",
      "dtypes: float64(8), int64(3)\n",
      "memory usage: 585.5 KB\n"
     ]
    }
   ],
   "source": [
    "#Passar data para apenas a hora e passar a inteiro\n",
    "df['record_date']=df['record_date'].str.slice(11,-6).astype(int)\n",
    "df.info()"
   ]
  },
  {
   "cell_type": "code",
   "execution_count": 21,
   "id": "dc77701b-b597-4ff0-880f-7a47e64f3466",
   "metadata": {},
   "outputs": [
    {
     "data": {
      "text/html": [
       "<div>\n",
       "<style scoped>\n",
       "    .dataframe tbody tr th:only-of-type {\n",
       "        vertical-align: middle;\n",
       "    }\n",
       "\n",
       "    .dataframe tbody tr th {\n",
       "        vertical-align: top;\n",
       "    }\n",
       "\n",
       "    .dataframe thead th {\n",
       "        text-align: right;\n",
       "    }\n",
       "</style>\n",
       "<table border=\"1\" class=\"dataframe\">\n",
       "  <thead>\n",
       "    <tr style=\"text-align: right;\">\n",
       "      <th></th>\n",
       "      <th>record_date</th>\n",
       "      <th>AVERAGE_SPEED_DIFF</th>\n",
       "      <th>AVERAGE_FREE_FLOW_SPEED</th>\n",
       "      <th>AVERAGE_TIME_DIFF</th>\n",
       "      <th>AVERAGE_FREE_FLOW_TIME</th>\n",
       "      <th>LUMINOSITY</th>\n",
       "      <th>AVERAGE_TEMPERATURE</th>\n",
       "      <th>AVERAGE_ATMOSP_PRESSURE</th>\n",
       "      <th>AVERAGE_HUMIDITY</th>\n",
       "      <th>AVERAGE_WIND_SPEED</th>\n",
       "      <th>AVERAGE_CLOUDINESS</th>\n",
       "    </tr>\n",
       "  </thead>\n",
       "  <tbody>\n",
       "    <tr>\n",
       "      <th>count</th>\n",
       "      <td>6812.000000</td>\n",
       "      <td>6812.000000</td>\n",
       "      <td>6812.000000</td>\n",
       "      <td>6812.000000</td>\n",
       "      <td>6812.000000</td>\n",
       "      <td>6812.000000</td>\n",
       "      <td>6812.000000</td>\n",
       "      <td>6812.000000</td>\n",
       "      <td>6812.000000</td>\n",
       "      <td>6812.000000</td>\n",
       "      <td>6812.000000</td>\n",
       "    </tr>\n",
       "    <tr>\n",
       "      <th>mean</th>\n",
       "      <td>11.534498</td>\n",
       "      <td>1.442454</td>\n",
       "      <td>40.661010</td>\n",
       "      <td>25.637111</td>\n",
       "      <td>81.143952</td>\n",
       "      <td>1.005872</td>\n",
       "      <td>16.193482</td>\n",
       "      <td>1017.388139</td>\n",
       "      <td>80.084190</td>\n",
       "      <td>3.058573</td>\n",
       "      <td>2.449060</td>\n",
       "    </tr>\n",
       "    <tr>\n",
       "      <th>std</th>\n",
       "      <td>6.939520</td>\n",
       "      <td>1.275478</td>\n",
       "      <td>4.119023</td>\n",
       "      <td>33.510507</td>\n",
       "      <td>8.294401</td>\n",
       "      <td>0.980336</td>\n",
       "      <td>5.163492</td>\n",
       "      <td>5.751061</td>\n",
       "      <td>18.238863</td>\n",
       "      <td>2.138421</td>\n",
       "      <td>1.595367</td>\n",
       "    </tr>\n",
       "    <tr>\n",
       "      <th>min</th>\n",
       "      <td>0.000000</td>\n",
       "      <td>0.000000</td>\n",
       "      <td>30.500000</td>\n",
       "      <td>0.000000</td>\n",
       "      <td>46.400000</td>\n",
       "      <td>0.000000</td>\n",
       "      <td>0.000000</td>\n",
       "      <td>985.000000</td>\n",
       "      <td>14.000000</td>\n",
       "      <td>0.000000</td>\n",
       "      <td>0.000000</td>\n",
       "    </tr>\n",
       "    <tr>\n",
       "      <th>25%</th>\n",
       "      <td>6.000000</td>\n",
       "      <td>0.000000</td>\n",
       "      <td>37.600000</td>\n",
       "      <td>2.275000</td>\n",
       "      <td>75.400000</td>\n",
       "      <td>0.000000</td>\n",
       "      <td>13.000000</td>\n",
       "      <td>1015.000000</td>\n",
       "      <td>69.750000</td>\n",
       "      <td>1.000000</td>\n",
       "      <td>1.000000</td>\n",
       "    </tr>\n",
       "    <tr>\n",
       "      <th>50%</th>\n",
       "      <td>12.000000</td>\n",
       "      <td>1.000000</td>\n",
       "      <td>40.700000</td>\n",
       "      <td>12.200000</td>\n",
       "      <td>82.400000</td>\n",
       "      <td>1.000000</td>\n",
       "      <td>16.000000</td>\n",
       "      <td>1017.000000</td>\n",
       "      <td>83.000000</td>\n",
       "      <td>3.000000</td>\n",
       "      <td>2.000000</td>\n",
       "    </tr>\n",
       "    <tr>\n",
       "      <th>75%</th>\n",
       "      <td>18.000000</td>\n",
       "      <td>2.000000</td>\n",
       "      <td>43.500000</td>\n",
       "      <td>36.200000</td>\n",
       "      <td>87.400000</td>\n",
       "      <td>2.000000</td>\n",
       "      <td>19.000000</td>\n",
       "      <td>1021.000000</td>\n",
       "      <td>93.000000</td>\n",
       "      <td>4.000000</td>\n",
       "      <td>4.000000</td>\n",
       "    </tr>\n",
       "    <tr>\n",
       "      <th>max</th>\n",
       "      <td>23.000000</td>\n",
       "      <td>4.000000</td>\n",
       "      <td>55.900000</td>\n",
       "      <td>296.500000</td>\n",
       "      <td>112.000000</td>\n",
       "      <td>2.000000</td>\n",
       "      <td>35.000000</td>\n",
       "      <td>1033.000000</td>\n",
       "      <td>100.000000</td>\n",
       "      <td>14.000000</td>\n",
       "      <td>6.000000</td>\n",
       "    </tr>\n",
       "  </tbody>\n",
       "</table>\n",
       "</div>"
      ],
      "text/plain": [
       "       record_date  AVERAGE_SPEED_DIFF  AVERAGE_FREE_FLOW_SPEED  \\\n",
       "count  6812.000000         6812.000000              6812.000000   \n",
       "mean     11.534498            1.442454                40.661010   \n",
       "std       6.939520            1.275478                 4.119023   \n",
       "min       0.000000            0.000000                30.500000   \n",
       "25%       6.000000            0.000000                37.600000   \n",
       "50%      12.000000            1.000000                40.700000   \n",
       "75%      18.000000            2.000000                43.500000   \n",
       "max      23.000000            4.000000                55.900000   \n",
       "\n",
       "       AVERAGE_TIME_DIFF  AVERAGE_FREE_FLOW_TIME   LUMINOSITY  \\\n",
       "count        6812.000000             6812.000000  6812.000000   \n",
       "mean           25.637111               81.143952     1.005872   \n",
       "std            33.510507                8.294401     0.980336   \n",
       "min             0.000000               46.400000     0.000000   \n",
       "25%             2.275000               75.400000     0.000000   \n",
       "50%            12.200000               82.400000     1.000000   \n",
       "75%            36.200000               87.400000     2.000000   \n",
       "max           296.500000              112.000000     2.000000   \n",
       "\n",
       "       AVERAGE_TEMPERATURE  AVERAGE_ATMOSP_PRESSURE  AVERAGE_HUMIDITY  \\\n",
       "count          6812.000000              6812.000000       6812.000000   \n",
       "mean             16.193482              1017.388139         80.084190   \n",
       "std               5.163492                 5.751061         18.238863   \n",
       "min               0.000000               985.000000         14.000000   \n",
       "25%              13.000000              1015.000000         69.750000   \n",
       "50%              16.000000              1017.000000         83.000000   \n",
       "75%              19.000000              1021.000000         93.000000   \n",
       "max              35.000000              1033.000000        100.000000   \n",
       "\n",
       "       AVERAGE_WIND_SPEED  AVERAGE_CLOUDINESS  \n",
       "count         6812.000000         6812.000000  \n",
       "mean             3.058573            2.449060  \n",
       "std              2.138421            1.595367  \n",
       "min              0.000000            0.000000  \n",
       "25%              1.000000            1.000000  \n",
       "50%              3.000000            2.000000  \n",
       "75%              4.000000            4.000000  \n",
       "max             14.000000            6.000000  "
      ]
     },
     "execution_count": 21,
     "metadata": {},
     "output_type": "execute_result"
    }
   ],
   "source": [
    "df.describe()"
   ]
  },
  {
   "cell_type": "code",
   "execution_count": 22,
   "id": "42a90f65-f7cd-4f09-b0cd-af66fc27c439",
   "metadata": {},
   "outputs": [],
   "source": [
    "df_prepared = df"
   ]
  },
  {
   "cell_type": "markdown",
   "id": "d4cd69dc-c2ae-45ed-a046-a9d63d9eff0f",
   "metadata": {},
   "source": [
    "### **Dados tratados. Vamos explorar relações entre features**"
   ]
  },
  {
   "cell_type": "code",
   "execution_count": 23,
   "id": "a833e29d-104b-472d-9d5b-7a556b8b5cf9",
   "metadata": {},
   "outputs": [
    {
     "data": {
      "text/plain": [
       "<seaborn.axisgrid.PairGrid at 0x7fd540123cc0>"
      ]
     },
     "execution_count": 23,
     "metadata": {},
     "output_type": "execute_result"
    },
    {
     "data": {
      "image/png": "[encoded data removed]",
      "text/plain": [
       "<Figure size 720x720 with 20 Axes>"
      ]
     },
     "metadata": {
      "needs_background": "light"
     },
     "output_type": "display_data"
    }
   ],
   "source": [
    "cols = ['AVERAGE_SPEED_DIFF','AVERAGE_FREE_FLOW_SPEED', 'AVERAGE_TIME_DIFF', 'AVERAGE_FREE_FLOW_TIME']\n",
    "\n",
    "sns.pairplot(df_prepared[cols], height=2.5)"
   ]
  },
  {
   "cell_type": "code",
   "execution_count": 28,
   "id": "f00495e3-b4bb-4320-90aa-21a044a84dbf",
   "metadata": {},
   "outputs": [
    {
     "data": {
      "text/html": [
       "<div>\n",
       "<style scoped>\n",
       "    .dataframe tbody tr th:only-of-type {\n",
       "        vertical-align: middle;\n",
       "    }\n",
       "\n",
       "    .dataframe tbody tr th {\n",
       "        vertical-align: top;\n",
       "    }\n",
       "\n",
       "    .dataframe thead th {\n",
       "        text-align: right;\n",
       "    }\n",
       "</style>\n",
       "<table border=\"1\" class=\"dataframe\">\n",
       "  <thead>\n",
       "    <tr style=\"text-align: right;\">\n",
       "      <th></th>\n",
       "      <th>city_name</th>\n",
       "      <th>record_date</th>\n",
       "      <th>AVERAGE_SPEED_DIFF</th>\n",
       "      <th>AVERAGE_FREE_FLOW_SPEED</th>\n",
       "      <th>AVERAGE_TIME_DIFF</th>\n",
       "      <th>AVERAGE_FREE_FLOW_TIME</th>\n",
       "      <th>LUMINOSITY</th>\n",
       "      <th>AVERAGE_TEMPERATURE</th>\n",
       "      <th>AVERAGE_ATMOSP_PRESSURE</th>\n",
       "      <th>AVERAGE_HUMIDITY</th>\n",
       "      <th>AVERAGE_WIND_SPEED</th>\n",
       "      <th>AVERAGE_CLOUDINESS</th>\n",
       "      <th>AVERAGE_PRECIPITATION</th>\n",
       "      <th>AVERAGE_RAIN</th>\n",
       "    </tr>\n",
       "  </thead>\n",
       "  <tbody>\n",
       "    <tr>\n",
       "      <th>491</th>\n",
       "      <td>Porto</td>\n",
       "      <td>2018-08-05 12:00:00</td>\n",
       "      <td>None</td>\n",
       "      <td>37.5</td>\n",
       "      <td>5.9</td>\n",
       "      <td>88.8</td>\n",
       "      <td>LIGHT</td>\n",
       "      <td>31.0</td>\n",
       "      <td>1016.0</td>\n",
       "      <td>52.0</td>\n",
       "      <td>2.0</td>\n",
       "      <td>céu claro</td>\n",
       "      <td>0.0</td>\n",
       "      <td>NaN</td>\n",
       "    </tr>\n",
       "    <tr>\n",
       "      <th>513</th>\n",
       "      <td>Porto</td>\n",
       "      <td>2018-08-03 15:00:00</td>\n",
       "      <td>Low</td>\n",
       "      <td>33.8</td>\n",
       "      <td>27.2</td>\n",
       "      <td>93.6</td>\n",
       "      <td>LIGHT</td>\n",
       "      <td>31.0</td>\n",
       "      <td>1016.0</td>\n",
       "      <td>55.0</td>\n",
       "      <td>2.0</td>\n",
       "      <td>céu claro</td>\n",
       "      <td>0.0</td>\n",
       "      <td>NaN</td>\n",
       "    </tr>\n",
       "    <tr>\n",
       "      <th>540</th>\n",
       "      <td>Porto</td>\n",
       "      <td>2019-07-11 14:00:00</td>\n",
       "      <td>Medium</td>\n",
       "      <td>36.6</td>\n",
       "      <td>27.9</td>\n",
       "      <td>88.2</td>\n",
       "      <td>LIGHT</td>\n",
       "      <td>31.0</td>\n",
       "      <td>1014.0</td>\n",
       "      <td>61.0</td>\n",
       "      <td>4.0</td>\n",
       "      <td>NaN</td>\n",
       "      <td>0.0</td>\n",
       "      <td>NaN</td>\n",
       "    </tr>\n",
       "    <tr>\n",
       "      <th>734</th>\n",
       "      <td>Porto</td>\n",
       "      <td>2019-09-13 14:00:00</td>\n",
       "      <td>High</td>\n",
       "      <td>34.1</td>\n",
       "      <td>47.7</td>\n",
       "      <td>84.7</td>\n",
       "      <td>LIGHT</td>\n",
       "      <td>32.0</td>\n",
       "      <td>1021.0</td>\n",
       "      <td>27.0</td>\n",
       "      <td>3.0</td>\n",
       "      <td>NaN</td>\n",
       "      <td>0.0</td>\n",
       "      <td>NaN</td>\n",
       "    </tr>\n",
       "    <tr>\n",
       "      <th>1185</th>\n",
       "      <td>Porto</td>\n",
       "      <td>2018-08-02 17:00:00</td>\n",
       "      <td>Medium</td>\n",
       "      <td>39.7</td>\n",
       "      <td>27.6</td>\n",
       "      <td>88.7</td>\n",
       "      <td>LIGHT</td>\n",
       "      <td>32.0</td>\n",
       "      <td>1013.0</td>\n",
       "      <td>41.0</td>\n",
       "      <td>3.0</td>\n",
       "      <td>céu claro</td>\n",
       "      <td>0.0</td>\n",
       "      <td>NaN</td>\n",
       "    </tr>\n",
       "    <tr>\n",
       "      <th>1474</th>\n",
       "      <td>Porto</td>\n",
       "      <td>2018-09-01 14:00:00</td>\n",
       "      <td>Low</td>\n",
       "      <td>37.5</td>\n",
       "      <td>10.2</td>\n",
       "      <td>82.8</td>\n",
       "      <td>LIGHT</td>\n",
       "      <td>33.0</td>\n",
       "      <td>1014.0</td>\n",
       "      <td>30.0</td>\n",
       "      <td>2.0</td>\n",
       "      <td>céu claro</td>\n",
       "      <td>0.0</td>\n",
       "      <td>NaN</td>\n",
       "    </tr>\n",
       "    <tr>\n",
       "      <th>2090</th>\n",
       "      <td>Porto</td>\n",
       "      <td>2019-07-11 15:00:00</td>\n",
       "      <td>Medium</td>\n",
       "      <td>37.0</td>\n",
       "      <td>36.5</td>\n",
       "      <td>89.2</td>\n",
       "      <td>LIGHT</td>\n",
       "      <td>31.0</td>\n",
       "      <td>1014.0</td>\n",
       "      <td>61.0</td>\n",
       "      <td>4.0</td>\n",
       "      <td>NaN</td>\n",
       "      <td>0.0</td>\n",
       "      <td>NaN</td>\n",
       "    </tr>\n",
       "    <tr>\n",
       "      <th>2263</th>\n",
       "      <td>Porto</td>\n",
       "      <td>2018-08-03 14:00:00</td>\n",
       "      <td>Medium</td>\n",
       "      <td>39.4</td>\n",
       "      <td>38.1</td>\n",
       "      <td>89.1</td>\n",
       "      <td>LIGHT</td>\n",
       "      <td>35.0</td>\n",
       "      <td>1016.0</td>\n",
       "      <td>46.0</td>\n",
       "      <td>1.0</td>\n",
       "      <td>céu claro</td>\n",
       "      <td>0.0</td>\n",
       "      <td>NaN</td>\n",
       "    </tr>\n",
       "    <tr>\n",
       "      <th>2690</th>\n",
       "      <td>Porto</td>\n",
       "      <td>2018-08-20 11:00:00</td>\n",
       "      <td>Medium</td>\n",
       "      <td>41.9</td>\n",
       "      <td>33.3</td>\n",
       "      <td>86.6</td>\n",
       "      <td>LIGHT</td>\n",
       "      <td>31.0</td>\n",
       "      <td>1017.0</td>\n",
       "      <td>25.0</td>\n",
       "      <td>5.0</td>\n",
       "      <td>céu claro</td>\n",
       "      <td>0.0</td>\n",
       "      <td>NaN</td>\n",
       "    </tr>\n",
       "    <tr>\n",
       "      <th>2856</th>\n",
       "      <td>Porto</td>\n",
       "      <td>2018-09-01 15:00:00</td>\n",
       "      <td>Low</td>\n",
       "      <td>38.2</td>\n",
       "      <td>13.5</td>\n",
       "      <td>88.4</td>\n",
       "      <td>LIGHT</td>\n",
       "      <td>31.0</td>\n",
       "      <td>1013.0</td>\n",
       "      <td>38.0</td>\n",
       "      <td>3.0</td>\n",
       "      <td>céu claro</td>\n",
       "      <td>0.0</td>\n",
       "      <td>NaN</td>\n",
       "    </tr>\n",
       "    <tr>\n",
       "      <th>3096</th>\n",
       "      <td>Porto</td>\n",
       "      <td>2019-08-22 17:00:00</td>\n",
       "      <td>High</td>\n",
       "      <td>40.1</td>\n",
       "      <td>46.1</td>\n",
       "      <td>79.6</td>\n",
       "      <td>LIGHT</td>\n",
       "      <td>31.0</td>\n",
       "      <td>1016.0</td>\n",
       "      <td>45.0</td>\n",
       "      <td>4.0</td>\n",
       "      <td>NaN</td>\n",
       "      <td>0.0</td>\n",
       "      <td>NaN</td>\n",
       "    </tr>\n",
       "    <tr>\n",
       "      <th>3300</th>\n",
       "      <td>Porto</td>\n",
       "      <td>2018-08-04 11:00:00</td>\n",
       "      <td>Medium</td>\n",
       "      <td>40.1</td>\n",
       "      <td>21.4</td>\n",
       "      <td>90.2</td>\n",
       "      <td>LIGHT</td>\n",
       "      <td>31.0</td>\n",
       "      <td>1017.0</td>\n",
       "      <td>59.0</td>\n",
       "      <td>2.0</td>\n",
       "      <td>céu claro</td>\n",
       "      <td>0.0</td>\n",
       "      <td>NaN</td>\n",
       "    </tr>\n",
       "    <tr>\n",
       "      <th>3347</th>\n",
       "      <td>Porto</td>\n",
       "      <td>2019-08-22 15:00:00</td>\n",
       "      <td>High</td>\n",
       "      <td>40.8</td>\n",
       "      <td>46.0</td>\n",
       "      <td>82.2</td>\n",
       "      <td>LIGHT</td>\n",
       "      <td>32.0</td>\n",
       "      <td>1016.0</td>\n",
       "      <td>48.0</td>\n",
       "      <td>3.0</td>\n",
       "      <td>céu pouco nublado</td>\n",
       "      <td>0.0</td>\n",
       "      <td>NaN</td>\n",
       "    </tr>\n",
       "    <tr>\n",
       "      <th>4093</th>\n",
       "      <td>Porto</td>\n",
       "      <td>2019-08-22 13:00:00</td>\n",
       "      <td>Medium</td>\n",
       "      <td>37.6</td>\n",
       "      <td>26.3</td>\n",
       "      <td>82.8</td>\n",
       "      <td>LIGHT</td>\n",
       "      <td>31.0</td>\n",
       "      <td>1017.0</td>\n",
       "      <td>43.0</td>\n",
       "      <td>2.0</td>\n",
       "      <td>NaN</td>\n",
       "      <td>0.0</td>\n",
       "      <td>NaN</td>\n",
       "    </tr>\n",
       "    <tr>\n",
       "      <th>4108</th>\n",
       "      <td>Porto</td>\n",
       "      <td>2018-08-04 15:00:00</td>\n",
       "      <td>None</td>\n",
       "      <td>37.0</td>\n",
       "      <td>9.9</td>\n",
       "      <td>91.7</td>\n",
       "      <td>LIGHT</td>\n",
       "      <td>33.0</td>\n",
       "      <td>1016.0</td>\n",
       "      <td>46.0</td>\n",
       "      <td>4.0</td>\n",
       "      <td>céu claro</td>\n",
       "      <td>0.0</td>\n",
       "      <td>NaN</td>\n",
       "    </tr>\n",
       "    <tr>\n",
       "      <th>4447</th>\n",
       "      <td>Porto</td>\n",
       "      <td>2018-08-20 12:00:00</td>\n",
       "      <td>Medium</td>\n",
       "      <td>37.7</td>\n",
       "      <td>48.7</td>\n",
       "      <td>91.3</td>\n",
       "      <td>LIGHT</td>\n",
       "      <td>33.0</td>\n",
       "      <td>1017.0</td>\n",
       "      <td>24.0</td>\n",
       "      <td>5.0</td>\n",
       "      <td>céu claro</td>\n",
       "      <td>0.0</td>\n",
       "      <td>NaN</td>\n",
       "    </tr>\n",
       "    <tr>\n",
       "      <th>4568</th>\n",
       "      <td>Porto</td>\n",
       "      <td>2018-08-03 16:00:00</td>\n",
       "      <td>Medium</td>\n",
       "      <td>42.1</td>\n",
       "      <td>23.2</td>\n",
       "      <td>89.5</td>\n",
       "      <td>LIGHT</td>\n",
       "      <td>33.0</td>\n",
       "      <td>1016.0</td>\n",
       "      <td>51.0</td>\n",
       "      <td>3.0</td>\n",
       "      <td>céu claro</td>\n",
       "      <td>0.0</td>\n",
       "      <td>NaN</td>\n",
       "    </tr>\n",
       "    <tr>\n",
       "      <th>4757</th>\n",
       "      <td>Porto</td>\n",
       "      <td>2019-07-11 16:00:00</td>\n",
       "      <td>High</td>\n",
       "      <td>40.5</td>\n",
       "      <td>38.6</td>\n",
       "      <td>84.9</td>\n",
       "      <td>LIGHT</td>\n",
       "      <td>31.0</td>\n",
       "      <td>1014.0</td>\n",
       "      <td>57.0</td>\n",
       "      <td>4.0</td>\n",
       "      <td>NaN</td>\n",
       "      <td>0.0</td>\n",
       "      <td>NaN</td>\n",
       "    </tr>\n",
       "    <tr>\n",
       "      <th>5046</th>\n",
       "      <td>Porto</td>\n",
       "      <td>2019-09-13 15:00:00</td>\n",
       "      <td>Medium</td>\n",
       "      <td>37.1</td>\n",
       "      <td>32.6</td>\n",
       "      <td>83.1</td>\n",
       "      <td>LIGHT</td>\n",
       "      <td>31.0</td>\n",
       "      <td>1020.0</td>\n",
       "      <td>37.0</td>\n",
       "      <td>5.0</td>\n",
       "      <td>NaN</td>\n",
       "      <td>0.0</td>\n",
       "      <td>NaN</td>\n",
       "    </tr>\n",
       "    <tr>\n",
       "      <th>5182</th>\n",
       "      <td>Porto</td>\n",
       "      <td>2018-08-04 12:00:00</td>\n",
       "      <td>Low</td>\n",
       "      <td>34.8</td>\n",
       "      <td>8.8</td>\n",
       "      <td>86.8</td>\n",
       "      <td>LIGHT</td>\n",
       "      <td>32.0</td>\n",
       "      <td>1017.0</td>\n",
       "      <td>49.0</td>\n",
       "      <td>2.0</td>\n",
       "      <td>céu claro</td>\n",
       "      <td>0.0</td>\n",
       "      <td>NaN</td>\n",
       "    </tr>\n",
       "    <tr>\n",
       "      <th>5370</th>\n",
       "      <td>Porto</td>\n",
       "      <td>2019-08-22 16:00:00</td>\n",
       "      <td>High</td>\n",
       "      <td>37.5</td>\n",
       "      <td>59.6</td>\n",
       "      <td>80.8</td>\n",
       "      <td>LIGHT</td>\n",
       "      <td>32.0</td>\n",
       "      <td>1016.0</td>\n",
       "      <td>48.0</td>\n",
       "      <td>3.0</td>\n",
       "      <td>céu pouco nublado</td>\n",
       "      <td>0.0</td>\n",
       "      <td>NaN</td>\n",
       "    </tr>\n",
       "    <tr>\n",
       "      <th>5501</th>\n",
       "      <td>Porto</td>\n",
       "      <td>2018-09-01 13:00:00</td>\n",
       "      <td>None</td>\n",
       "      <td>44.0</td>\n",
       "      <td>0.0</td>\n",
       "      <td>85.5</td>\n",
       "      <td>LIGHT</td>\n",
       "      <td>33.0</td>\n",
       "      <td>1014.0</td>\n",
       "      <td>23.0</td>\n",
       "      <td>5.0</td>\n",
       "      <td>céu claro</td>\n",
       "      <td>0.0</td>\n",
       "      <td>NaN</td>\n",
       "    </tr>\n",
       "    <tr>\n",
       "      <th>5545</th>\n",
       "      <td>Porto</td>\n",
       "      <td>2018-08-02 16:00:00</td>\n",
       "      <td>Medium</td>\n",
       "      <td>34.2</td>\n",
       "      <td>19.5</td>\n",
       "      <td>92.3</td>\n",
       "      <td>LIGHT</td>\n",
       "      <td>32.0</td>\n",
       "      <td>1013.0</td>\n",
       "      <td>41.0</td>\n",
       "      <td>4.0</td>\n",
       "      <td>céu claro</td>\n",
       "      <td>0.0</td>\n",
       "      <td>NaN</td>\n",
       "    </tr>\n",
       "    <tr>\n",
       "      <th>5961</th>\n",
       "      <td>Porto</td>\n",
       "      <td>2019-09-03 16:00:00</td>\n",
       "      <td>High</td>\n",
       "      <td>33.3</td>\n",
       "      <td>44.8</td>\n",
       "      <td>87.7</td>\n",
       "      <td>LIGHT</td>\n",
       "      <td>31.0</td>\n",
       "      <td>1019.0</td>\n",
       "      <td>35.0</td>\n",
       "      <td>4.0</td>\n",
       "      <td>NaN</td>\n",
       "      <td>0.0</td>\n",
       "      <td>NaN</td>\n",
       "    </tr>\n",
       "    <tr>\n",
       "      <th>6149</th>\n",
       "      <td>Porto</td>\n",
       "      <td>2019-09-03 15:00:00</td>\n",
       "      <td>Medium</td>\n",
       "      <td>40.0</td>\n",
       "      <td>38.5</td>\n",
       "      <td>83.5</td>\n",
       "      <td>LIGHT</td>\n",
       "      <td>31.0</td>\n",
       "      <td>1019.0</td>\n",
       "      <td>34.0</td>\n",
       "      <td>2.0</td>\n",
       "      <td>NaN</td>\n",
       "      <td>0.0</td>\n",
       "      <td>NaN</td>\n",
       "    </tr>\n",
       "    <tr>\n",
       "      <th>6191</th>\n",
       "      <td>Porto</td>\n",
       "      <td>2018-08-04 16:00:00</td>\n",
       "      <td>Low</td>\n",
       "      <td>37.0</td>\n",
       "      <td>9.4</td>\n",
       "      <td>91.7</td>\n",
       "      <td>LIGHT</td>\n",
       "      <td>33.0</td>\n",
       "      <td>1016.0</td>\n",
       "      <td>49.0</td>\n",
       "      <td>3.0</td>\n",
       "      <td>céu claro</td>\n",
       "      <td>0.0</td>\n",
       "      <td>NaN</td>\n",
       "    </tr>\n",
       "    <tr>\n",
       "      <th>6274</th>\n",
       "      <td>Porto</td>\n",
       "      <td>2018-08-20 13:00:00</td>\n",
       "      <td>Low</td>\n",
       "      <td>37.7</td>\n",
       "      <td>13.6</td>\n",
       "      <td>86.0</td>\n",
       "      <td>LIGHT</td>\n",
       "      <td>34.0</td>\n",
       "      <td>1016.0</td>\n",
       "      <td>23.0</td>\n",
       "      <td>4.0</td>\n",
       "      <td>céu claro</td>\n",
       "      <td>0.0</td>\n",
       "      <td>NaN</td>\n",
       "    </tr>\n",
       "    <tr>\n",
       "      <th>6383</th>\n",
       "      <td>Porto</td>\n",
       "      <td>2018-08-04 13:00:00</td>\n",
       "      <td>Low</td>\n",
       "      <td>37.4</td>\n",
       "      <td>8.1</td>\n",
       "      <td>90.3</td>\n",
       "      <td>LIGHT</td>\n",
       "      <td>32.0</td>\n",
       "      <td>1017.0</td>\n",
       "      <td>55.0</td>\n",
       "      <td>3.0</td>\n",
       "      <td>céu claro</td>\n",
       "      <td>0.0</td>\n",
       "      <td>NaN</td>\n",
       "    </tr>\n",
       "    <tr>\n",
       "      <th>6519</th>\n",
       "      <td>Porto</td>\n",
       "      <td>2018-09-01 12:00:00</td>\n",
       "      <td>None</td>\n",
       "      <td>44.2</td>\n",
       "      <td>1.6</td>\n",
       "      <td>81.5</td>\n",
       "      <td>LIGHT</td>\n",
       "      <td>31.0</td>\n",
       "      <td>1014.0</td>\n",
       "      <td>28.0</td>\n",
       "      <td>5.0</td>\n",
       "      <td>céu claro</td>\n",
       "      <td>0.0</td>\n",
       "      <td>NaN</td>\n",
       "    </tr>\n",
       "    <tr>\n",
       "      <th>6537</th>\n",
       "      <td>Porto</td>\n",
       "      <td>2018-08-19 12:00:00</td>\n",
       "      <td>Low</td>\n",
       "      <td>41.8</td>\n",
       "      <td>10.4</td>\n",
       "      <td>88.4</td>\n",
       "      <td>LIGHT</td>\n",
       "      <td>31.0</td>\n",
       "      <td>1017.0</td>\n",
       "      <td>27.0</td>\n",
       "      <td>6.0</td>\n",
       "      <td>céu claro</td>\n",
       "      <td>0.0</td>\n",
       "      <td>NaN</td>\n",
       "    </tr>\n",
       "    <tr>\n",
       "      <th>6643</th>\n",
       "      <td>Porto</td>\n",
       "      <td>2018-08-19 14:00:00</td>\n",
       "      <td>Low</td>\n",
       "      <td>44.0</td>\n",
       "      <td>12.3</td>\n",
       "      <td>85.5</td>\n",
       "      <td>LIGHT</td>\n",
       "      <td>31.0</td>\n",
       "      <td>1017.0</td>\n",
       "      <td>24.0</td>\n",
       "      <td>3.0</td>\n",
       "      <td>céu claro</td>\n",
       "      <td>0.0</td>\n",
       "      <td>NaN</td>\n",
       "    </tr>\n",
       "    <tr>\n",
       "      <th>6665</th>\n",
       "      <td>Porto</td>\n",
       "      <td>2019-09-03 17:00:00</td>\n",
       "      <td>High</td>\n",
       "      <td>43.4</td>\n",
       "      <td>37.4</td>\n",
       "      <td>82.8</td>\n",
       "      <td>LIGHT</td>\n",
       "      <td>31.0</td>\n",
       "      <td>1019.0</td>\n",
       "      <td>37.0</td>\n",
       "      <td>4.0</td>\n",
       "      <td>NaN</td>\n",
       "      <td>0.0</td>\n",
       "      <td>NaN</td>\n",
       "    </tr>\n",
       "    <tr>\n",
       "      <th>6705</th>\n",
       "      <td>Porto</td>\n",
       "      <td>2018-08-20 14:00:00</td>\n",
       "      <td>Medium</td>\n",
       "      <td>37.3</td>\n",
       "      <td>32.4</td>\n",
       "      <td>92.7</td>\n",
       "      <td>LIGHT</td>\n",
       "      <td>34.0</td>\n",
       "      <td>1016.0</td>\n",
       "      <td>23.0</td>\n",
       "      <td>2.0</td>\n",
       "      <td>céu claro</td>\n",
       "      <td>0.0</td>\n",
       "      <td>NaN</td>\n",
       "    </tr>\n",
       "    <tr>\n",
       "      <th>6756</th>\n",
       "      <td>Porto</td>\n",
       "      <td>2018-08-04 14:00:00</td>\n",
       "      <td>None</td>\n",
       "      <td>35.2</td>\n",
       "      <td>6.9</td>\n",
       "      <td>88.1</td>\n",
       "      <td>LIGHT</td>\n",
       "      <td>31.0</td>\n",
       "      <td>1017.0</td>\n",
       "      <td>49.0</td>\n",
       "      <td>3.0</td>\n",
       "      <td>céu claro</td>\n",
       "      <td>0.0</td>\n",
       "      <td>NaN</td>\n",
       "    </tr>\n",
       "  </tbody>\n",
       "</table>\n",
       "</div>"
      ],
      "text/plain": [
       "     city_name          record_date AVERAGE_SPEED_DIFF  \\\n",
       "491      Porto  2018-08-05 12:00:00               None   \n",
       "513      Porto  2018-08-03 15:00:00                Low   \n",
       "540      Porto  2019-07-11 14:00:00             Medium   \n",
       "734      Porto  2019-09-13 14:00:00               High   \n",
       "1185     Porto  2018-08-02 17:00:00             Medium   \n",
       "1474     Porto  2018-09-01 14:00:00                Low   \n",
       "2090     Porto  2019-07-11 15:00:00             Medium   \n",
       "2263     Porto  2018-08-03 14:00:00             Medium   \n",
       "2690     Porto  2018-08-20 11:00:00             Medium   \n",
       "2856     Porto  2018-09-01 15:00:00                Low   \n",
       "3096     Porto  2019-08-22 17:00:00               High   \n",
       "3300     Porto  2018-08-04 11:00:00             Medium   \n",
       "3347     Porto  2019-08-22 15:00:00               High   \n",
       "4093     Porto  2019-08-22 13:00:00             Medium   \n",
       "4108     Porto  2018-08-04 15:00:00               None   \n",
       "4447     Porto  2018-08-20 12:00:00             Medium   \n",
       "4568     Porto  2018-08-03 16:00:00             Medium   \n",
       "4757     Porto  2019-07-11 16:00:00               High   \n",
       "5046     Porto  2019-09-13 15:00:00             Medium   \n",
       "5182     Porto  2018-08-04 12:00:00                Low   \n",
       "5370     Porto  2019-08-22 16:00:00               High   \n",
       "5501     Porto  2018-09-01 13:00:00               None   \n",
       "5545     Porto  2018-08-02 16:00:00             Medium   \n",
       "5961     Porto  2019-09-03 16:00:00               High   \n",
       "6149     Porto  2019-09-03 15:00:00             Medium   \n",
       "6191     Porto  2018-08-04 16:00:00                Low   \n",
       "6274     Porto  2018-08-20 13:00:00                Low   \n",
       "6383     Porto  2018-08-04 13:00:00                Low   \n",
       "6519     Porto  2018-09-01 12:00:00               None   \n",
       "6537     Porto  2018-08-19 12:00:00                Low   \n",
       "6643     Porto  2018-08-19 14:00:00                Low   \n",
       "6665     Porto  2019-09-03 17:00:00               High   \n",
       "6705     Porto  2018-08-20 14:00:00             Medium   \n",
       "6756     Porto  2018-08-04 14:00:00               None   \n",
       "\n",
       "      AVERAGE_FREE_FLOW_SPEED  AVERAGE_TIME_DIFF  AVERAGE_FREE_FLOW_TIME  \\\n",
       "491                      37.5                5.9                    88.8   \n",
       "513                      33.8               27.2                    93.6   \n",
       "540                      36.6               27.9                    88.2   \n",
       "734                      34.1               47.7                    84.7   \n",
       "1185                     39.7               27.6                    88.7   \n",
       "1474                     37.5               10.2                    82.8   \n",
       "2090                     37.0               36.5                    89.2   \n",
       "2263                     39.4               38.1                    89.1   \n",
       "2690                     41.9               33.3                    86.6   \n",
       "2856                     38.2               13.5                    88.4   \n",
       "3096                     40.1               46.1                    79.6   \n",
       "3300                     40.1               21.4                    90.2   \n",
       "3347                     40.8               46.0                    82.2   \n",
       "4093                     37.6               26.3                    82.8   \n",
       "4108                     37.0                9.9                    91.7   \n",
       "4447                     37.7               48.7                    91.3   \n",
       "4568                     42.1               23.2                    89.5   \n",
       "4757                     40.5               38.6                    84.9   \n",
       "5046                     37.1               32.6                    83.1   \n",
       "5182                     34.8                8.8                    86.8   \n",
       "5370                     37.5               59.6                    80.8   \n",
       "5501                     44.0                0.0                    85.5   \n",
       "5545                     34.2               19.5                    92.3   \n",
       "5961                     33.3               44.8                    87.7   \n",
       "6149                     40.0               38.5                    83.5   \n",
       "6191                     37.0                9.4                    91.7   \n",
       "6274                     37.7               13.6                    86.0   \n",
       "6383                     37.4                8.1                    90.3   \n",
       "6519                     44.2                1.6                    81.5   \n",
       "6537                     41.8               10.4                    88.4   \n",
       "6643                     44.0               12.3                    85.5   \n",
       "6665                     43.4               37.4                    82.8   \n",
       "6705                     37.3               32.4                    92.7   \n",
       "6756                     35.2                6.9                    88.1   \n",
       "\n",
       "     LUMINOSITY  AVERAGE_TEMPERATURE  AVERAGE_ATMOSP_PRESSURE  \\\n",
       "491       LIGHT                 31.0                   1016.0   \n",
       "513       LIGHT                 31.0                   1016.0   \n",
       "540       LIGHT                 31.0                   1014.0   \n",
       "734       LIGHT                 32.0                   1021.0   \n",
       "1185      LIGHT                 32.0                   1013.0   \n",
       "1474      LIGHT                 33.0                   1014.0   \n",
       "2090      LIGHT                 31.0                   1014.0   \n",
       "2263      LIGHT                 35.0                   1016.0   \n",
       "2690      LIGHT                 31.0                   1017.0   \n",
       "2856      LIGHT                 31.0                   1013.0   \n",
       "3096      LIGHT                 31.0                   1016.0   \n",
       "3300      LIGHT                 31.0                   1017.0   \n",
       "3347      LIGHT                 32.0                   1016.0   \n",
       "4093      LIGHT                 31.0                   1017.0   \n",
       "4108      LIGHT                 33.0                   1016.0   \n",
       "4447      LIGHT                 33.0                   1017.0   \n",
       "4568      LIGHT                 33.0                   1016.0   \n",
       "4757      LIGHT                 31.0                   1014.0   \n",
       "5046      LIGHT                 31.0                   1020.0   \n",
       "5182      LIGHT                 32.0                   1017.0   \n",
       "5370      LIGHT                 32.0                   1016.0   \n",
       "5501      LIGHT                 33.0                   1014.0   \n",
       "5545      LIGHT                 32.0                   1013.0   \n",
       "5961      LIGHT                 31.0                   1019.0   \n",
       "6149      LIGHT                 31.0                   1019.0   \n",
       "6191      LIGHT                 33.0                   1016.0   \n",
       "6274      LIGHT                 34.0                   1016.0   \n",
       "6383      LIGHT                 32.0                   1017.0   \n",
       "6519      LIGHT                 31.0                   1014.0   \n",
       "6537      LIGHT                 31.0                   1017.0   \n",
       "6643      LIGHT                 31.0                   1017.0   \n",
       "6665      LIGHT                 31.0                   1019.0   \n",
       "6705      LIGHT                 34.0                   1016.0   \n",
       "6756      LIGHT                 31.0                   1017.0   \n",
       "\n",
       "      AVERAGE_HUMIDITY  AVERAGE_WIND_SPEED AVERAGE_CLOUDINESS  \\\n",
       "491               52.0                 2.0          céu claro   \n",
       "513               55.0                 2.0          céu claro   \n",
       "540               61.0                 4.0                NaN   \n",
       "734               27.0                 3.0                NaN   \n",
       "1185              41.0                 3.0          céu claro   \n",
       "1474              30.0                 2.0          céu claro   \n",
       "2090              61.0                 4.0                NaN   \n",
       "2263              46.0                 1.0          céu claro   \n",
       "2690              25.0                 5.0          céu claro   \n",
       "2856              38.0                 3.0          céu claro   \n",
       "3096              45.0                 4.0                NaN   \n",
       "3300              59.0                 2.0          céu claro   \n",
       "3347              48.0                 3.0  céu pouco nublado   \n",
       "4093              43.0                 2.0                NaN   \n",
       "4108              46.0                 4.0          céu claro   \n",
       "4447              24.0                 5.0          céu claro   \n",
       "4568              51.0                 3.0          céu claro   \n",
       "4757              57.0                 4.0                NaN   \n",
       "5046              37.0                 5.0                NaN   \n",
       "5182              49.0                 2.0          céu claro   \n",
       "5370              48.0                 3.0  céu pouco nublado   \n",
       "5501              23.0                 5.0          céu claro   \n",
       "5545              41.0                 4.0          céu claro   \n",
       "5961              35.0                 4.0                NaN   \n",
       "6149              34.0                 2.0                NaN   \n",
       "6191              49.0                 3.0          céu claro   \n",
       "6274              23.0                 4.0          céu claro   \n",
       "6383              55.0                 3.0          céu claro   \n",
       "6519              28.0                 5.0          céu claro   \n",
       "6537              27.0                 6.0          céu claro   \n",
       "6643              24.0                 3.0          céu claro   \n",
       "6665              37.0                 4.0                NaN   \n",
       "6705              23.0                 2.0          céu claro   \n",
       "6756              49.0                 3.0          céu claro   \n",
       "\n",
       "      AVERAGE_PRECIPITATION AVERAGE_RAIN  \n",
       "491                     0.0          NaN  \n",
       "513                     0.0          NaN  \n",
       "540                     0.0          NaN  \n",
       "734                     0.0          NaN  \n",
       "1185                    0.0          NaN  \n",
       "1474                    0.0          NaN  \n",
       "2090                    0.0          NaN  \n",
       "2263                    0.0          NaN  \n",
       "2690                    0.0          NaN  \n",
       "2856                    0.0          NaN  \n",
       "3096                    0.0          NaN  \n",
       "3300                    0.0          NaN  \n",
       "3347                    0.0          NaN  \n",
       "4093                    0.0          NaN  \n",
       "4108                    0.0          NaN  \n",
       "4447                    0.0          NaN  \n",
       "4568                    0.0          NaN  \n",
       "4757                    0.0          NaN  \n",
       "5046                    0.0          NaN  \n",
       "5182                    0.0          NaN  \n",
       "5370                    0.0          NaN  \n",
       "5501                    0.0          NaN  \n",
       "5545                    0.0          NaN  \n",
       "5961                    0.0          NaN  \n",
       "6149                    0.0          NaN  \n",
       "6191                    0.0          NaN  \n",
       "6274                    0.0          NaN  \n",
       "6383                    0.0          NaN  \n",
       "6519                    0.0          NaN  \n",
       "6537                    0.0          NaN  \n",
       "6643                    0.0          NaN  \n",
       "6665                    0.0          NaN  \n",
       "6705                    0.0          NaN  \n",
       "6756                    0.0          NaN  "
      ]
     },
     "execution_count": 28,
     "metadata": {},
     "output_type": "execute_result"
    },
    {
     "data": {
      "image/png": "[encoded data removed]",
      "text/plain": [
       "<Figure size 432x288 with 1 Axes>"
      ]
     },
     "metadata": {
      "needs_background": "light"
     },
     "output_type": "display_data"
    }
   ],
   "source": [
    "#sns.boxplot(x=df_prepared['AVERAGE_TIME_DIFF'])\n",
    "sns.boxplot(x=df_prepared['AVERAGE_TEMPERATURE'])\n",
    "df[df['AVERAGE_TEMPERATURE'] > 30]"
   ]
  },
  {
   "cell_type": "code",
   "execution_count": 7,
   "id": "2a475cfc-cf1f-49f0-9fa6-c6b197455ec4",
   "metadata": {},
   "outputs": [
    {
     "name": "stdout",
     "output_type": "stream",
     "text": [
      "<class 'pandas.core.frame.DataFrame'>\n",
      "RangeIndex: 6812 entries, 0 to 6811\n",
      "Data columns (total 14 columns):\n",
      " #   Column                   Non-Null Count  Dtype         \n",
      "---  ------                   --------------  -----         \n",
      " 0   city_name                6812 non-null   object        \n",
      " 1   record_date              6812 non-null   datetime64[ns]\n",
      " 2   AVERAGE_SPEED_DIFF       6812 non-null   object        \n",
      " 3   AVERAGE_FREE_FLOW_SPEED  6812 non-null   float64       \n",
      " 4   AVERAGE_TIME_DIFF        6812 non-null   float64       \n",
      " 5   AVERAGE_FREE_FLOW_TIME   6812 non-null   float64       \n",
      " 6   LUMINOSITY               6812 non-null   object        \n",
      " 7   AVERAGE_TEMPERATURE      6812 non-null   float64       \n",
      " 8   AVERAGE_ATMOSP_PRESSURE  6812 non-null   float64       \n",
      " 9   AVERAGE_HUMIDITY         6812 non-null   float64       \n",
      " 10  AVERAGE_WIND_SPEED       6812 non-null   float64       \n",
      " 11  AVERAGE_CLOUDINESS       4130 non-null   object        \n",
      " 12  AVERAGE_PRECIPITATION    6812 non-null   float64       \n",
      " 13  AVERAGE_RAIN             563 non-null    object        \n",
      "dtypes: datetime64[ns](1), float64(8), object(5)\n",
      "memory usage: 745.2+ KB\n"
     ]
    }
   ],
   "source": [
    "df.info()"
   ]
  },
  {
   "cell_type": "code",
   "execution_count": 10,
   "id": "c86b74a4-a42e-4977-a3ce-1a8d06bf6f99",
   "metadata": {},
   "outputs": [
    {
     "data": {
      "text/html": [
       "<div>\n",
       "<style scoped>\n",
       "    .dataframe tbody tr th:only-of-type {\n",
       "        vertical-align: middle;\n",
       "    }\n",
       "\n",
       "    .dataframe tbody tr th {\n",
       "        vertical-align: top;\n",
       "    }\n",
       "\n",
       "    .dataframe thead th {\n",
       "        text-align: right;\n",
       "    }\n",
       "</style>\n",
       "<table border=\"1\" class=\"dataframe\">\n",
       "  <thead>\n",
       "    <tr style=\"text-align: right;\">\n",
       "      <th></th>\n",
       "      <th>city_name</th>\n",
       "      <th>AVERAGE_SPEED_DIFF</th>\n",
       "      <th>AVERAGE_FREE_FLOW_SPEED</th>\n",
       "      <th>AVERAGE_TIME_DIFF</th>\n",
       "      <th>AVERAGE_FREE_FLOW_TIME</th>\n",
       "      <th>LUMINOSITY</th>\n",
       "      <th>AVERAGE_TEMPERATURE</th>\n",
       "      <th>AVERAGE_ATMOSP_PRESSURE</th>\n",
       "      <th>AVERAGE_HUMIDITY</th>\n",
       "      <th>AVERAGE_WIND_SPEED</th>\n",
       "      <th>AVERAGE_CLOUDINESS</th>\n",
       "      <th>AVERAGE_PRECIPITATION</th>\n",
       "      <th>AVERAGE_RAIN</th>\n",
       "      <th>Month</th>\n",
       "      <th>Hour</th>\n",
       "      <th>Day_name</th>\n",
       "      <th>Day_Part</th>\n",
       "      <th>Is_weekend</th>\n",
       "      <th>Is_friday_or_thursday</th>\n",
       "      <th>Season</th>\n",
       "    </tr>\n",
       "  </thead>\n",
       "  <tbody>\n",
       "    <tr>\n",
       "      <th>0</th>\n",
       "      <td>Porto</td>\n",
       "      <td>Medium</td>\n",
       "      <td>41.5</td>\n",
       "      <td>11.5</td>\n",
       "      <td>71.4</td>\n",
       "      <td>LIGHT</td>\n",
       "      <td>15.0</td>\n",
       "      <td>1019.0</td>\n",
       "      <td>100.0</td>\n",
       "      <td>3.0</td>\n",
       "      <td>NaN</td>\n",
       "      <td>0.0</td>\n",
       "      <td>NaN</td>\n",
       "      <td>8</td>\n",
       "      <td>7</td>\n",
       "      <td>Thursday</td>\n",
       "      <td>early morning</td>\n",
       "      <td>0</td>\n",
       "      <td>1</td>\n",
       "      <td>summer</td>\n",
       "    </tr>\n",
       "    <tr>\n",
       "      <th>1</th>\n",
       "      <td>Porto</td>\n",
       "      <td>High</td>\n",
       "      <td>41.7</td>\n",
       "      <td>48.3</td>\n",
       "      <td>87.4</td>\n",
       "      <td>LIGHT</td>\n",
       "      <td>21.0</td>\n",
       "      <td>1021.0</td>\n",
       "      <td>53.0</td>\n",
       "      <td>5.0</td>\n",
       "      <td>céu claro</td>\n",
       "      <td>0.0</td>\n",
       "      <td>NaN</td>\n",
       "      <td>8</td>\n",
       "      <td>14</td>\n",
       "      <td>Friday</td>\n",
       "      <td>lunch</td>\n",
       "      <td>0</td>\n",
       "      <td>1</td>\n",
       "      <td>summer</td>\n",
       "    </tr>\n",
       "    <tr>\n",
       "      <th>2</th>\n",
       "      <td>Porto</td>\n",
       "      <td>High</td>\n",
       "      <td>38.6</td>\n",
       "      <td>38.4</td>\n",
       "      <td>85.2</td>\n",
       "      <td>LIGHT</td>\n",
       "      <td>26.0</td>\n",
       "      <td>1014.0</td>\n",
       "      <td>61.0</td>\n",
       "      <td>4.0</td>\n",
       "      <td>NaN</td>\n",
       "      <td>0.0</td>\n",
       "      <td>NaN</td>\n",
       "      <td>9</td>\n",
       "      <td>16</td>\n",
       "      <td>Sunday</td>\n",
       "      <td>early afternoon</td>\n",
       "      <td>1</td>\n",
       "      <td>0</td>\n",
       "      <td>summer</td>\n",
       "    </tr>\n",
       "    <tr>\n",
       "      <th>3</th>\n",
       "      <td>Porto</td>\n",
       "      <td>High</td>\n",
       "      <td>37.4</td>\n",
       "      <td>61.0</td>\n",
       "      <td>94.1</td>\n",
       "      <td>LIGHT</td>\n",
       "      <td>18.0</td>\n",
       "      <td>1025.0</td>\n",
       "      <td>48.0</td>\n",
       "      <td>4.0</td>\n",
       "      <td>céu claro</td>\n",
       "      <td>0.0</td>\n",
       "      <td>NaN</td>\n",
       "      <td>2</td>\n",
       "      <td>11</td>\n",
       "      <td>Tuesday</td>\n",
       "      <td>late morning</td>\n",
       "      <td>0</td>\n",
       "      <td>0</td>\n",
       "      <td>winter</td>\n",
       "    </tr>\n",
       "    <tr>\n",
       "      <th>4</th>\n",
       "      <td>Porto</td>\n",
       "      <td>Medium</td>\n",
       "      <td>41.6</td>\n",
       "      <td>50.4</td>\n",
       "      <td>77.0</td>\n",
       "      <td>LIGHT</td>\n",
       "      <td>15.0</td>\n",
       "      <td>1008.0</td>\n",
       "      <td>82.0</td>\n",
       "      <td>10.0</td>\n",
       "      <td>NaN</td>\n",
       "      <td>0.0</td>\n",
       "      <td>NaN</td>\n",
       "      <td>6</td>\n",
       "      <td>12</td>\n",
       "      <td>Thursday</td>\n",
       "      <td>lunch</td>\n",
       "      <td>0</td>\n",
       "      <td>1</td>\n",
       "      <td>summer</td>\n",
       "    </tr>\n",
       "  </tbody>\n",
       "</table>\n",
       "</div>"
      ],
      "text/plain": [
       "  city_name AVERAGE_SPEED_DIFF  AVERAGE_FREE_FLOW_SPEED  AVERAGE_TIME_DIFF  \\\n",
       "0     Porto             Medium                     41.5               11.5   \n",
       "1     Porto               High                     41.7               48.3   \n",
       "2     Porto               High                     38.6               38.4   \n",
       "3     Porto               High                     37.4               61.0   \n",
       "4     Porto             Medium                     41.6               50.4   \n",
       "\n",
       "   AVERAGE_FREE_FLOW_TIME LUMINOSITY  AVERAGE_TEMPERATURE  \\\n",
       "0                    71.4      LIGHT                 15.0   \n",
       "1                    87.4      LIGHT                 21.0   \n",
       "2                    85.2      LIGHT                 26.0   \n",
       "3                    94.1      LIGHT                 18.0   \n",
       "4                    77.0      LIGHT                 15.0   \n",
       "\n",
       "   AVERAGE_ATMOSP_PRESSURE  AVERAGE_HUMIDITY  AVERAGE_WIND_SPEED  \\\n",
       "0                   1019.0             100.0                 3.0   \n",
       "1                   1021.0              53.0                 5.0   \n",
       "2                   1014.0              61.0                 4.0   \n",
       "3                   1025.0              48.0                 4.0   \n",
       "4                   1008.0              82.0                10.0   \n",
       "\n",
       "  AVERAGE_CLOUDINESS  AVERAGE_PRECIPITATION AVERAGE_RAIN  Month  Hour  \\\n",
       "0                NaN                    0.0          NaN      8     7   \n",
       "1          céu claro                    0.0          NaN      8    14   \n",
       "2                NaN                    0.0          NaN      9    16   \n",
       "3          céu claro                    0.0          NaN      2    11   \n",
       "4                NaN                    0.0          NaN      6    12   \n",
       "\n",
       "   Day_name         Day_Part  Is_weekend  Is_friday_or_thursday  Season  \n",
       "0  Thursday    early morning           0                      1  summer  \n",
       "1    Friday            lunch           0                      1  summer  \n",
       "2    Sunday  early afternoon           1                      0  summer  \n",
       "3   Tuesday     late morning           0                      0  winter  \n",
       "4  Thursday            lunch           0                      1  summer  "
      ]
     },
     "execution_count": 10,
     "metadata": {},
     "output_type": "execute_result"
    }
   ],
   "source": [
    "df.head()"
   ]
  },
  {
   "cell_type": "code",
   "execution_count": 24,
   "id": "ad6b5245-9d11-4111-bd93-10195d0405e2",
   "metadata": {},
   "outputs": [
    {
     "data": {
      "text/plain": [
       "<AxesSubplot:xlabel='AVERAGE_TIME_DIFF', ylabel='Count'>"
      ]
     },
     "execution_count": 24,
     "metadata": {},
     "output_type": "execute_result"
    },
    {
     "data": {
      "image/png": "[encoded data removed]",
      "text/plain": [
       "<Figure size 432x288 with 1 Axes>"
      ]
     },
     "metadata": {
      "needs_background": "light"
     },
     "output_type": "display_data"
    }
   ],
   "source": [
    "sns.histplot(data=df_prepared, x='AVERAGE_TIME_DIFF')"
   ]
  },
  {
   "cell_type": "code",
   "execution_count": 25,
   "id": "9d67c544-bf74-4e64-9c2b-2d627e017659",
   "metadata": {},
   "outputs": [
    {
     "data": {
      "text/plain": [
       "count    6812.000000\n",
       "mean       25.637111\n",
       "std        33.510507\n",
       "min         0.000000\n",
       "25%         2.275000\n",
       "50%        12.200000\n",
       "75%        36.200000\n",
       "max       296.500000\n",
       "Name: AVERAGE_TIME_DIFF, dtype: float64"
      ]
     },
     "execution_count": 25,
     "metadata": {},
     "output_type": "execute_result"
    }
   ],
   "source": [
    "df_prepared['AVERAGE_TIME_DIFF'].describe()"
   ]
  },
  {
   "cell_type": "code",
   "execution_count": 26,
   "id": "3ee392bb-9f9a-4f75-a6e4-296e4aa9d56c",
   "metadata": {},
   "outputs": [
    {
     "data": {
      "text/plain": [
       "143.38900000000004"
      ]
     },
     "execution_count": 26,
     "metadata": {},
     "output_type": "execute_result"
    }
   ],
   "source": [
    "from scipy.stats.mstats import winsorize\n",
    "\n",
    "time_dif = df_prepared['AVERAGE_TIME_DIFF']\n",
    "time_dif.quantile(0.01)\n",
    "time_dif.quantile(0.99)"
   ]
  },
  {
   "cell_type": "code",
   "execution_count": 27,
   "id": "de1c84ce-f7d7-4be0-aea3-a80b27e112c4",
   "metadata": {},
   "outputs": [
    {
     "data": {
      "text/plain": [
       "masked_array(data=[11.5, 48.3, 38.4, ...,  0. ,  0. , 32.9],\n",
       "             mask=False,\n",
       "       fill_value=1e+20)"
      ]
     },
     "execution_count": 27,
     "metadata": {},
     "output_type": "execute_result"
    }
   ],
   "source": [
    "time_dif_win = winsorize(time_dif, (0.01,0.01))\n",
    "time_dif_win"
   ]
  },
  {
   "cell_type": "code",
   "execution_count": 28,
   "id": "3426e611-53e0-4d2d-b214-69306d789a40",
   "metadata": {},
   "outputs": [
    {
     "data": {
      "text/plain": [
       "<AxesSubplot:>"
      ]
     },
     "execution_count": 28,
     "metadata": {},
     "output_type": "execute_result"
    },
    {
     "data": {
      "image/png": "[encoded data removed]",
      "text/plain": [
       "<Figure size 432x288 with 1 Axes>"
      ]
     },
     "metadata": {
      "needs_background": "light"
     },
     "output_type": "display_data"
    }
   ],
   "source": [
    "sns.boxplot(x=time_dif_win)"
   ]
  },
  {
   "cell_type": "code",
   "execution_count": 29,
   "id": "cc6109b4-3487-419a-8881-8fd3da9e8cfb",
   "metadata": {},
   "outputs": [
    {
     "data": {
      "text/plain": [
       "<AxesSubplot:xlabel='AVERAGE_TIME_DIFF'>"
      ]
     },
     "execution_count": 29,
     "metadata": {},
     "output_type": "execute_result"
    },
    {
     "data": {
      "image/png": "[encoded data removed]",
      "text/plain": [
       "<Figure size 432x288 with 1 Axes>"
      ]
     },
     "metadata": {
      "needs_background": "light"
     },
     "output_type": "display_data"
    }
   ],
   "source": [
    "#df_prepared['AVERAGE_TIME_DIFF'] = time_dif_win\n",
    "sns.boxplot(x = df_prepared['AVERAGE_TIME_DIFF'])"
   ]
  },
  {
   "cell_type": "code",
   "execution_count": 30,
   "id": "0c540842",
   "metadata": {},
   "outputs": [
    {
     "name": "stdout",
     "output_type": "stream",
     "text": [
      "record_date                0\n",
      "AVERAGE_SPEED_DIFF         0\n",
      "AVERAGE_FREE_FLOW_SPEED    0\n",
      "AVERAGE_TIME_DIFF          0\n",
      "AVERAGE_FREE_FLOW_TIME     0\n",
      "LUMINOSITY                 0\n",
      "AVERAGE_TEMPERATURE        0\n",
      "AVERAGE_ATMOSP_PRESSURE    0\n",
      "AVERAGE_HUMIDITY           0\n",
      "AVERAGE_WIND_SPEED         0\n",
      "AVERAGE_CLOUDINESS         0\n",
      "dtype: int64\n"
     ]
    }
   ],
   "source": [
    "df_prepared.head()\n",
    "df_prepared.describe()\n",
    "print(df_prepared.isna().sum())"
   ]
  },
  {
   "cell_type": "markdown",
   "id": "a053f8bb-ab75-4cdd-9a25-10b39515d1cc",
   "metadata": {},
   "source": [
    "## **Dados tratados. Fazer predictions**"
   ]
  },
  {
   "cell_type": "code",
   "execution_count": 31,
   "id": "3ccf268a",
   "metadata": {},
   "outputs": [],
   "source": [
    "x = df_prepared.drop(['AVERAGE_SPEED_DIFF'], axis=1)\n",
    "y = df_prepared['AVERAGE_SPEED_DIFF'].to_frame()"
   ]
  },
  {
   "cell_type": "code",
   "execution_count": 32,
   "id": "71417f9a",
   "metadata": {},
   "outputs": [],
   "source": [
    "# Split for test\n",
    "x_train,x_test,y_train,y_test=train_test_split(x,y,test_size=0.20, random_state=2000)"
   ]
  },
  {
   "cell_type": "code",
   "execution_count": 33,
   "id": "77664bc2",
   "metadata": {},
   "outputs": [
    {
     "name": "stdout",
     "output_type": "stream",
     "text": [
      "RESULT: 0.72 accuracy with a standard deviation of 0.02\n"
     ]
    }
   ],
   "source": [
    "clf = DecisionTreeClassifier(random_state = 2021)\n",
    "scores=cross_val_score(clf,x_train,y_train,cv=10)\n",
    "print(\"RESULT: %0.2f accuracy with a standard deviation of %0.2f\" % (scores.mean(),scores.std()))"
   ]
  },
  {
   "cell_type": "code",
   "execution_count": 43,
   "id": "1c349a46-7b1e-4fea-8d27-cc33c62eb047",
   "metadata": {},
   "outputs": [
    {
     "data": {
      "text/plain": [
       "<AxesSubplot:xlabel='AVERAGE_SPEED_DIFF', ylabel='count'>"
      ]
     },
     "execution_count": 43,
     "metadata": {},
     "output_type": "execute_result"
    },
    {
     "data": {
      "image/png": "[encoded data removed]",
      "text/plain": [
       "<Figure size 432x288 with 1 Axes>"
      ]
     },
     "metadata": {
      "needs_background": "light"
     },
     "output_type": "display_data"
    }
   ],
   "source": [
    "label = 'AVERAGE_SPEED_DIFF'\n",
    "sns.countplot(x=label, data = y_train)"
   ]
  },
  {
   "cell_type": "code",
   "execution_count": 44,
   "id": "1257c609-5989-4ff7-924c-5bd73e494b8b",
   "metadata": {},
   "outputs": [
    {
     "data": {
      "text/plain": [
       "<AxesSubplot:xlabel='AVERAGE_SPEED_DIFF', ylabel='count'>"
      ]
     },
     "execution_count": 44,
     "metadata": {},
     "output_type": "execute_result"
    },
    {
     "data": {
      "image/png": "[encoded data removed]",
      "text/plain": [
       "<Figure size 432x288 with 1 Axes>"
      ]
     },
     "metadata": {
      "needs_background": "light"
     },
     "output_type": "display_data"
    }
   ],
   "source": [
    "label = 'AVERAGE_SPEED_DIFF'\n",
    "sns.countplot(x=label, data = y_test)"
   ]
  },
  {
   "cell_type": "code",
   "execution_count": 45,
   "id": "6d03f9c8",
   "metadata": {},
   "outputs": [
    {
     "data": {
      "text/plain": [
       "array([2, 0, 2, ..., 1, 0, 2])"
      ]
     },
     "execution_count": 45,
     "metadata": {},
     "output_type": "execute_result"
    }
   ],
   "source": [
    "clf.fit(x_train,y_train)\n",
    "predictions = clf.predict(x_test)\n",
    "predictions"
   ]
  },
  {
   "cell_type": "code",
   "execution_count": 46,
   "id": "e4571e50",
   "metadata": {},
   "outputs": [
    {
     "name": "stdout",
     "output_type": "stream",
     "text": [
      "0.71 accuracy\n"
     ]
    }
   ],
   "source": [
    "print(\"%0.2f accuracy\" % (accuracy_score(y_test,predictions)))"
   ]
  },
  {
   "cell_type": "code",
   "execution_count": 23,
   "id": "f4ec571e",
   "metadata": {},
   "outputs": [
    {
     "ename": "NameError",
     "evalue": "name 'x_train' is not defined",
     "output_type": "error",
     "traceback": [
      "\u001b[0;31m---------------------------------------------------------------------------\u001b[0m",
      "\u001b[0;31mNameError\u001b[0m                                 Traceback (most recent call last)",
      "\u001b[0;32m<ipython-input-23-1319c2a61d2a>\u001b[0m in \u001b[0;36m<module>\u001b[0;34m\u001b[0m\n\u001b[1;32m      4\u001b[0m \u001b[0mparam_grid\u001b[0m \u001b[0;34m=\u001b[0m \u001b[0;34m{\u001b[0m\u001b[0;34m'criterion'\u001b[0m\u001b[0;34m:\u001b[0m\u001b[0mcriterion\u001b[0m\u001b[0;34m,\u001b[0m \u001b[0;34m'max_depth'\u001b[0m\u001b[0;34m:\u001b[0m\u001b[0mmax_depth\u001b[0m\u001b[0;34m}\u001b[0m\u001b[0;34m\u001b[0m\u001b[0;34m\u001b[0m\u001b[0m\n\u001b[1;32m      5\u001b[0m \u001b[0mgrid\u001b[0m \u001b[0;34m=\u001b[0m \u001b[0mGridSearchCV\u001b[0m\u001b[0;34m(\u001b[0m\u001b[0mDecisionTreeClassifier\u001b[0m\u001b[0;34m(\u001b[0m\u001b[0mrandom_state\u001b[0m\u001b[0;34m=\u001b[0m\u001b[0;36m2021\u001b[0m\u001b[0;34m)\u001b[0m\u001b[0;34m,\u001b[0m\u001b[0mparam_grid\u001b[0m\u001b[0;34m,\u001b[0m\u001b[0mrefit\u001b[0m\u001b[0;34m=\u001b[0m\u001b[0;32mTrue\u001b[0m\u001b[0;34m,\u001b[0m\u001b[0mverbose\u001b[0m\u001b[0;34m=\u001b[0m\u001b[0;36m3\u001b[0m\u001b[0;34m)\u001b[0m\u001b[0;34m\u001b[0m\u001b[0;34m\u001b[0m\u001b[0m\n\u001b[0;32m----> 6\u001b[0;31m \u001b[0mgrid\u001b[0m\u001b[0;34m.\u001b[0m\u001b[0mfit\u001b[0m\u001b[0;34m(\u001b[0m\u001b[0mx_train\u001b[0m\u001b[0;34m,\u001b[0m \u001b[0my_train\u001b[0m\u001b[0;34m)\u001b[0m\u001b[0;34m\u001b[0m\u001b[0;34m\u001b[0m\u001b[0m\n\u001b[0m",
      "\u001b[0;31mNameError\u001b[0m: name 'x_train' is not defined"
     ]
    }
   ],
   "source": [
    "criterion = ['gini', 'entropy']\n",
    "max_depth = [2,3,4,6,8,10,12]\n",
    "\n",
    "param_grid = {'criterion':criterion, 'max_depth':max_depth}\n",
    "grid = GridSearchCV(DecisionTreeClassifier(random_state=2021),param_grid,refit=True,verbose=3)\n",
    "grid.fit(x_train, y_train)"
   ]
  },
  {
   "cell_type": "code",
   "execution_count": 50,
   "id": "a0290b01-b9e3-466d-954c-d581850f521c",
   "metadata": {},
   "outputs": [
    {
     "name": "stdout",
     "output_type": "stream",
     "text": [
      "              precision    recall  f1-score   support\n",
      "\n",
      "           0       0.90      0.90      0.90       403\n",
      "           1       0.66      0.74      0.70       292\n",
      "           2       0.75      0.63      0.69       336\n",
      "           3       0.69      0.74      0.71       231\n",
      "           4       0.79      0.78      0.79       101\n",
      "\n",
      "    accuracy                           0.76      1363\n",
      "   macro avg       0.76      0.76      0.76      1363\n",
      "weighted avg       0.77      0.76      0.76      1363\n",
      "\n"
     ]
    }
   ],
   "source": [
    "grid_predictions = grid.predict(x_test)\n",
    "print(classification_report(y_test,grid_predictions))"
   ]
  },
  {
   "cell_type": "code",
   "execution_count": 51,
   "id": "0577e9eb-75e5-41fa-87a1-625462d1b29d",
   "metadata": {},
   "outputs": [
    {
     "data": {
      "text/plain": [
       "{'criterion': 'gini', 'max_depth': 6}"
      ]
     },
     "execution_count": 51,
     "metadata": {},
     "output_type": "execute_result"
    }
   ],
   "source": [
    "grid.best_params_"
   ]
  },
  {
   "cell_type": "code",
   "execution_count": 52,
   "id": "c60bd19c-090f-492e-a31a-534f01ece293",
   "metadata": {},
   "outputs": [
    {
     "data": {
      "text/plain": [
       "array([2, 0, 2, ..., 1, 0, 2])"
      ]
     },
     "execution_count": 52,
     "metadata": {},
     "output_type": "execute_result"
    }
   ],
   "source": [
    "grid_predictions"
   ]
  },
  {
   "cell_type": "markdown",
   "id": "1083212a-54ca-4ef6-be29-38dc0f8672eb",
   "metadata": {},
   "source": [
    "## **Usar o modelo para prever as labels dos dados de teste**"
   ]
  },
  {
   "cell_type": "code",
   "execution_count": 101,
   "id": "8565272a-7e4b-47e2-a837-47ac00f66902",
   "metadata": {},
   "outputs": [],
   "source": [
    "df_training = tratamentoDados(training_file)\n",
    "df_test = tratamentoDados(test_file)"
   ]
  },
  {
   "cell_type": "code",
   "execution_count": 102,
   "id": "ede9a55e-1be5-4f55-8b36-88ec5e662264",
   "metadata": {},
   "outputs": [
    {
     "name": "stdout",
     "output_type": "stream",
     "text": [
      "<class 'pandas.core.frame.DataFrame'>\n",
      "RangeIndex: 6812 entries, 0 to 6811\n",
      "Data columns (total 20 columns):\n",
      " #   Column                   Non-Null Count  Dtype  \n",
      "---  ------                   --------------  -----  \n",
      " 0   AVERAGE_SPEED_DIFF       6812 non-null   int64  \n",
      " 1   AVERAGE_FREE_FLOW_SPEED  6812 non-null   float64\n",
      " 2   AVERAGE_TIME_DIFF        6812 non-null   float64\n",
      " 3   AVERAGE_FREE_FLOW_TIME   6812 non-null   float64\n",
      " 4   LUMINOSITY               6812 non-null   int64  \n",
      " 5   AVERAGE_TEMPERATURE      6812 non-null   float64\n",
      " 6   AVERAGE_ATMOSP_PRESSURE  6812 non-null   float64\n",
      " 7   AVERAGE_HUMIDITY         6812 non-null   float64\n",
      " 8   AVERAGE_WIND_SPEED       6812 non-null   float64\n",
      " 9   AVERAGE_CLOUDINESS       6812 non-null   float64\n",
      " 10  Is_weekend               6812 non-null   int64  \n",
      " 11  Is_friday                6812 non-null   int64  \n",
      " 12  dawn                     6812 non-null   uint8  \n",
      " 13  early afternoon          6812 non-null   uint8  \n",
      " 14  early morning            6812 non-null   uint8  \n",
      " 15  evening                  6812 non-null   uint8  \n",
      " 16  late afternoon           6812 non-null   uint8  \n",
      " 17  late morning             6812 non-null   uint8  \n",
      " 18  lunch                    6812 non-null   uint8  \n",
      " 19  midnight                 6812 non-null   uint8  \n",
      "dtypes: float64(8), int64(4), uint8(8)\n",
      "memory usage: 692.0 KB\n"
     ]
    }
   ],
   "source": [
    "df_training.info()"
   ]
  },
  {
   "cell_type": "code",
   "execution_count": 52,
   "id": "e5df2405-4380-4c98-b133-17d6a190a9ea",
   "metadata": {},
   "outputs": [
    {
     "name": "stdout",
     "output_type": "stream",
     "text": [
      "AxesSubplot(0.125,0.125;0.775x0.755)\n"
     ]
    },
    {
     "data": {
      "image/png": "[encoded data removed]",
      "text/plain": [
       "<Figure size 432x288 with 1 Axes>"
      ]
     },
     "metadata": {
      "needs_background": "light"
     },
     "output_type": "display_data"
    }
   ],
   "source": [
    "print(sns.histplot(data=df_training[df_training['Is_weekend']==1], hue = 'Is_weekend', x = 'AVERAGE_SPEED_DIFF'))"
   ]
  },
  {
   "cell_type": "code",
   "execution_count": 53,
   "id": "0292efd6-4850-4472-8c3b-ed8d871b9c09",
   "metadata": {},
   "outputs": [
    {
     "name": "stdout",
     "output_type": "stream",
     "text": [
      "AxesSubplot(0.125,0.125;0.775x0.755)\n"
     ]
    },
    {
     "data": {
      "image/png": "[encoded data removed]",
      "text/plain": [
       "<Figure size 432x288 with 1 Axes>"
      ]
     },
     "metadata": {
      "needs_background": "light"
     },
     "output_type": "display_data"
    }
   ],
   "source": [
    "print(sns.histplot(data=df_training[df_training['Is_weekend']==0], hue = 'Is_weekend', x = 'AVERAGE_SPEED_DIFF'))"
   ]
  },
  {
   "cell_type": "code",
   "execution_count": 61,
   "id": "ba486905-550f-4fa6-a80b-00be73286758",
   "metadata": {},
   "outputs": [
    {
     "name": "stdout",
     "output_type": "stream",
     "text": [
      "AxesSubplot(0.125,0.125;0.775x0.755)\n"
     ]
    },
    {
     "data": {
      "image/png": "[encoded data removed]",
      "text/plain": [
       "<Figure size 432x288 with 1 Axes>"
      ]
     },
     "metadata": {
      "needs_background": "light"
     },
     "output_type": "display_data"
    }
   ],
   "source": [
    "print(sns.histplot(data=df_training[df_training['Is_friday']==0], hue = 'Is_friday', x = 'AVERAGE_SPEED_DIFF'))"
   ]
  },
  {
   "cell_type": "code",
   "execution_count": 62,
   "id": "2736f5fa-dcdc-421a-aa08-d44f6e565cc6",
   "metadata": {},
   "outputs": [
    {
     "name": "stdout",
     "output_type": "stream",
     "text": [
      "AxesSubplot(0.125,0.125;0.775x0.755)\n"
     ]
    },
    {
     "data": {
      "image/png": "[encoded data removed]",
      "text/plain": [
       "<Figure size 432x288 with 1 Axes>"
      ]
     },
     "metadata": {
      "needs_background": "light"
     },
     "output_type": "display_data"
    }
   ],
   "source": [
    "print(sns.histplot(data=df_training[df_training['Is_friday']==1], hue = 'Is_friday', x = 'AVERAGE_SPEED_DIFF'))"
   ]
  },
  {
   "cell_type": "code",
   "execution_count": 63,
   "id": "16fb688e-6c46-4f7f-a226-8d789a462dc4",
   "metadata": {},
   "outputs": [
    {
     "name": "stdout",
     "output_type": "stream",
     "text": [
      "AxesSubplot(0.125,0.125;0.775x0.755)\n"
     ]
    },
    {
     "data": {
      "image/png": "[encoded data removed]",
      "text/plain": [
       "<Figure size 432x288 with 1 Axes>"
      ]
     },
     "metadata": {
      "needs_background": "light"
     },
     "output_type": "display_data"
    }
   ],
   "source": [
    "print(sns.histplot(data=df_training[df_training['dawn']==1], x = 'AVERAGE_SPEED_DIFF'))"
   ]
  },
  {
   "cell_type": "code",
   "execution_count": 82,
   "id": "887585bc-f2ea-4eac-91f0-252c2ae1f143",
   "metadata": {},
   "outputs": [
    {
     "name": "stdout",
     "output_type": "stream",
     "text": [
      "AxesSubplot(0.125,0.125;0.775x0.755)\n"
     ]
    },
    {
     "data": {
      "image/png": "[encoded data removed]",
      "text/plain": [
       "<Figure size 432x288 with 1 Axes>"
      ]
     },
     "metadata": {
      "needs_background": "light"
     },
     "output_type": "display_data"
    }
   ],
   "source": [
    "print(sns.histplot(data=df_training[df_training['early morning']==1], x = 'AVERAGE_SPEED_DIFF'))"
   ]
  },
  {
   "cell_type": "code",
   "execution_count": 83,
   "id": "f9015063-090d-441f-a301-9815bc9728cf",
   "metadata": {},
   "outputs": [
    {
     "name": "stdout",
     "output_type": "stream",
     "text": [
      "AxesSubplot(0.125,0.125;0.775x0.755)\n"
     ]
    },
    {
     "data": {
      "image/png": "[encoded data removed]",
      "text/plain": [
       "<Figure size 432x288 with 1 Axes>"
      ]
     },
     "metadata": {
      "needs_background": "light"
     },
     "output_type": "display_data"
    }
   ],
   "source": [
    "print(sns.histplot(data=df_training[df_training['late morning']==1], x = 'AVERAGE_SPEED_DIFF'))"
   ]
  },
  {
   "cell_type": "code",
   "execution_count": 84,
   "id": "00462e4c-edda-4609-8d35-088a3b902e85",
   "metadata": {},
   "outputs": [
    {
     "name": "stdout",
     "output_type": "stream",
     "text": [
      "AxesSubplot(0.125,0.125;0.775x0.755)\n"
     ]
    },
    {
     "data": {
      "image/png": "[encoded data removed]",
      "text/plain": [
       "<Figure size 432x288 with 1 Axes>"
      ]
     },
     "metadata": {
      "needs_background": "light"
     },
     "output_type": "display_data"
    }
   ],
   "source": [
    "print(sns.histplot(data=df_training[df_training['lunch']==1], x = 'AVERAGE_SPEED_DIFF'))"
   ]
  },
  {
   "cell_type": "code",
   "execution_count": 85,
   "id": "575e35d6-77a0-4cdc-a138-8a99d6f374fb",
   "metadata": {},
   "outputs": [
    {
     "name": "stdout",
     "output_type": "stream",
     "text": [
      "AxesSubplot(0.125,0.125;0.775x0.755)\n"
     ]
    },
    {
     "data": {
      "image/png": "[encoded data removed]",
      "text/plain": [
       "<Figure size 432x288 with 1 Axes>"
      ]
     },
     "metadata": {
      "needs_background": "light"
     },
     "output_type": "display_data"
    }
   ],
   "source": [
    "print(sns.histplot(data=df_training[df_training['early afternoon']==1], x = 'AVERAGE_SPEED_DIFF'))"
   ]
  },
  {
   "cell_type": "code",
   "execution_count": 86,
   "id": "23321b5d-d450-4c37-9052-03c799683eeb",
   "metadata": {},
   "outputs": [
    {
     "name": "stdout",
     "output_type": "stream",
     "text": [
      "AxesSubplot(0.125,0.125;0.775x0.755)\n"
     ]
    },
    {
     "data": {
      "image/png": "[encoded data removed]",
      "text/plain": [
       "<Figure size 432x288 with 1 Axes>"
      ]
     },
     "metadata": {
      "needs_background": "light"
     },
     "output_type": "display_data"
    }
   ],
   "source": [
    "print(sns.histplot(data=df_training[df_training['late afternoon']==1], x = 'AVERAGE_SPEED_DIFF'))"
   ]
  },
  {
   "cell_type": "code",
   "execution_count": 87,
   "id": "1210636b-fbac-4bdf-b453-9d0f59f77aaf",
   "metadata": {},
   "outputs": [
    {
     "name": "stdout",
     "output_type": "stream",
     "text": [
      "AxesSubplot(0.125,0.125;0.775x0.755)\n"
     ]
    },
    {
     "data": {
      "image/png": "[encoded data removed]",
      "text/plain": [
       "<Figure size 432x288 with 1 Axes>"
      ]
     },
     "metadata": {
      "needs_background": "light"
     },
     "output_type": "display_data"
    }
   ],
   "source": [
    "print(sns.histplot(data=df_training[df_training['evening']==1], x = 'AVERAGE_SPEED_DIFF'))"
   ]
  },
  {
   "cell_type": "code",
   "execution_count": 88,
   "id": "8e4f8b63-a2e0-426b-8b07-5827b7bbb4dc",
   "metadata": {},
   "outputs": [
    {
     "name": "stdout",
     "output_type": "stream",
     "text": [
      "AxesSubplot(0.125,0.125;0.775x0.755)\n"
     ]
    },
    {
     "data": {
      "image/png": "[encoded data removed]",
      "text/plain": [
       "<Figure size 432x288 with 1 Axes>"
      ]
     },
     "metadata": {
      "needs_background": "light"
     },
     "output_type": "display_data"
    }
   ],
   "source": [
    "print(sns.histplot(data=df_training[df_training['midnight']==1], x = 'AVERAGE_SPEED_DIFF'))"
   ]
  },
  {
   "cell_type": "code",
   "execution_count": 89,
   "id": "6c7b60cd-174d-47b3-a52b-400e47d88347",
   "metadata": {},
   "outputs": [
    {
     "data": {
      "text/plain": [
       "<AxesSubplot:xlabel='AVERAGE_TIME_DIFF'>"
      ]
     },
     "execution_count": 89,
     "metadata": {},
     "output_type": "execute_result"
    },
    {
     "data": {
      "image/png": "[encoded data removed]",
      "text/plain": [
       "<Figure size 432x288 with 1 Axes>"
      ]
     },
     "metadata": {
      "needs_background": "light"
     },
     "output_type": "display_data"
    }
   ],
   "source": [
    "sns.boxplot(x = df_training['AVERAGE_TIME_DIFF'])"
   ]
  },
  {
   "cell_type": "code",
   "execution_count": 95,
   "id": "d021b940-f1d6-4905-a5de-915a3295c0a8",
   "metadata": {},
   "outputs": [],
   "source": [
    "outliers = df_training[df_training['AVERAGE_TIME_DIFF'] > 220]\n",
    "outliers_indexes = list(outliers.index)"
   ]
  },
  {
   "cell_type": "code",
   "execution_count": 96,
   "id": "2873804c-a021-47ee-8d5b-89e9a5d36c63",
   "metadata": {},
   "outputs": [],
   "source": [
    "df_training2 = df_training.drop(outliers_indexes)"
   ]
  },
  {
   "cell_type": "code",
   "execution_count": 97,
   "id": "69cad4bb-342b-47a3-8ad4-e9188a794401",
   "metadata": {},
   "outputs": [
    {
     "data": {
      "text/plain": [
       "<AxesSubplot:xlabel='AVERAGE_TIME_DIFF'>"
      ]
     },
     "execution_count": 97,
     "metadata": {},
     "output_type": "execute_result"
    },
    {
     "data": {
      "image/png": "[encoded data removed]",
      "text/plain": [
       "<Figure size 432x288 with 1 Axes>"
      ]
     },
     "metadata": {
      "needs_background": "light"
     },
     "output_type": "display_data"
    }
   ],
   "source": [
    "sns.boxplot(x = df_training2['AVERAGE_TIME_DIFF'])"
   ]
  },
  {
   "cell_type": "code",
   "execution_count": 104,
   "id": "96c45fe0-ab43-4abe-af42-dbf68d47d1d5",
   "metadata": {},
   "outputs": [],
   "source": [
    "# Tratamento de outliers no campo 'AVERAGE_TIME_DIFF'\n",
    "def handle_averagetimediff_outliers(df):\n",
    "    outliers = df[df['AVERAGE_TIME_DIFF'] > 205]\n",
    "    outliers_indexes = list(outliers.index)\n",
    "    return df.drop(outliers_indexes)\n",
    "\n",
    "df = handle_averagetimediff_outliers(df_training)"
   ]
  },
  {
   "cell_type": "code",
   "execution_count": 105,
   "id": "27d6db5e-619f-4237-abb7-ce6a1fe4167a",
   "metadata": {},
   "outputs": [],
   "source": [
    "x = df_training.drop(['AVERAGE_SPEED_DIFF'], axis=1)\n",
    "y = df_training['AVERAGE_SPEED_DIFF'].to_frame()"
   ]
  },
  {
   "cell_type": "code",
   "execution_count": 106,
   "id": "40d49e1d-7531-497b-812e-0f68a4c71d2f",
   "metadata": {},
   "outputs": [
    {
     "name": "stdout",
     "output_type": "stream",
     "text": [
      "Fitting 5 folds for each of 14 candidates, totalling 70 fits\n",
      "[CV 1/5] END .......criterion=gini, max_depth=2;, score=0.613 total time=   0.1s\n",
      "[CV 2/5] END .......criterion=gini, max_depth=2;, score=0.610 total time=   0.0s\n",
      "[CV 3/5] END .......criterion=gini, max_depth=2;, score=0.636 total time=   0.0s\n",
      "[CV 4/5] END .......criterion=gini, max_depth=2;, score=0.614 total time=   0.0s\n",
      "[CV 5/5] END .......criterion=gini, max_depth=2;, score=0.621 total time=   0.0s\n",
      "[CV 1/5] END .......criterion=gini, max_depth=3;, score=0.733 total time=   0.0s\n",
      "[CV 2/5] END .......criterion=gini, max_depth=3;, score=0.743 total time=   0.0s\n",
      "[CV 3/5] END .......criterion=gini, max_depth=3;, score=0.759 total time=   0.0s\n",
      "[CV 4/5] END .......criterion=gini, max_depth=3;, score=0.728 total time=   0.0s\n",
      "[CV 5/5] END .......criterion=gini, max_depth=3;, score=0.741 total time=   0.0s\n",
      "[CV 1/5] END .......criterion=gini, max_depth=4;, score=0.726 total time=   0.0s\n",
      "[CV 2/5] END .......criterion=gini, max_depth=4;, score=0.765 total time=   0.0s\n",
      "[CV 3/5] END .......criterion=gini, max_depth=4;, score=0.766 total time=   0.0s\n",
      "[CV 4/5] END .......criterion=gini, max_depth=4;, score=0.736 total time=   0.0s\n",
      "[CV 5/5] END .......criterion=gini, max_depth=4;, score=0.736 total time=   0.0s\n",
      "[CV 1/5] END .......criterion=gini, max_depth=6;, score=0.756 total time=   0.0s\n",
      "[CV 2/5] END .......criterion=gini, max_depth=6;, score=0.764 total time=   0.0s\n",
      "[CV 3/5] END .......criterion=gini, max_depth=6;, score=0.774 total time=   0.0s\n",
      "[CV 4/5] END .......criterion=gini, max_depth=6;, score=0.775 total time=   0.0s\n",
      "[CV 5/5] END .......criterion=gini, max_depth=6;, score=0.761 total time=   0.0s\n",
      "[CV 1/5] END .......criterion=gini, max_depth=8;, score=0.756 total time=   0.1s\n",
      "[CV 2/5] END .......criterion=gini, max_depth=8;, score=0.767 total time=   0.0s\n",
      "[CV 3/5] END .......criterion=gini, max_depth=8;, score=0.769 total time=   0.0s\n",
      "[CV 4/5] END .......criterion=gini, max_depth=8;, score=0.762 total time=   0.0s\n",
      "[CV 5/5] END .......criterion=gini, max_depth=8;, score=0.747 total time=   0.0s\n",
      "[CV 1/5] END ......criterion=gini, max_depth=10;, score=0.753 total time=   0.1s\n",
      "[CV 2/5] END ......criterion=gini, max_depth=10;, score=0.760 total time=   0.0s\n",
      "[CV 3/5] END ......criterion=gini, max_depth=10;, score=0.755 total time=   0.0s\n",
      "[CV 4/5] END ......criterion=gini, max_depth=10;, score=0.756 total time=   0.0s\n",
      "[CV 5/5] END ......criterion=gini, max_depth=10;, score=0.744 total time=   0.0s\n",
      "[CV 1/5] END ......criterion=gini, max_depth=12;, score=0.744 total time=   0.1s\n",
      "[CV 2/5] END ......criterion=gini, max_depth=12;, score=0.737 total time=   0.0s\n",
      "[CV 3/5] END ......criterion=gini, max_depth=12;, score=0.741 total time=   0.0s\n",
      "[CV 4/5] END ......criterion=gini, max_depth=12;, score=0.731 total time=   0.0s\n",
      "[CV 5/5] END ......criterion=gini, max_depth=12;, score=0.729 total time=   0.1s\n",
      "[CV 1/5] END ....criterion=entropy, max_depth=2;, score=0.672 total time=   0.0s\n",
      "[CV 2/5] END ....criterion=entropy, max_depth=2;, score=0.694 total time=   0.0s\n",
      "[CV 3/5] END ....criterion=entropy, max_depth=2;, score=0.702 total time=   0.0s\n",
      "[CV 4/5] END ....criterion=entropy, max_depth=2;, score=0.682 total time=   0.0s\n",
      "[CV 5/5] END ....criterion=entropy, max_depth=2;, score=0.678 total time=   0.0s\n",
      "[CV 1/5] END ....criterion=entropy, max_depth=3;, score=0.709 total time=   0.0s\n",
      "[CV 2/5] END ....criterion=entropy, max_depth=3;, score=0.737 total time=   0.0s\n",
      "[CV 3/5] END ....criterion=entropy, max_depth=3;, score=0.745 total time=   0.0s\n",
      "[CV 4/5] END ....criterion=entropy, max_depth=3;, score=0.717 total time=   0.0s\n",
      "[CV 5/5] END ....criterion=entropy, max_depth=3;, score=0.713 total time=   0.0s\n",
      "[CV 1/5] END ....criterion=entropy, max_depth=4;, score=0.732 total time=   0.0s\n",
      "[CV 2/5] END ....criterion=entropy, max_depth=4;, score=0.745 total time=   0.0s\n",
      "[CV 3/5] END ....criterion=entropy, max_depth=4;, score=0.761 total time=   0.0s\n",
      "[CV 4/5] END ....criterion=entropy, max_depth=4;, score=0.738 total time=   0.0s\n",
      "[CV 5/5] END ....criterion=entropy, max_depth=4;, score=0.744 total time=   0.0s\n",
      "[CV 1/5] END ....criterion=entropy, max_depth=6;, score=0.759 total time=   0.0s\n",
      "[CV 2/5] END ....criterion=entropy, max_depth=6;, score=0.777 total time=   0.0s\n",
      "[CV 3/5] END ....criterion=entropy, max_depth=6;, score=0.769 total time=   0.0s\n",
      "[CV 4/5] END ....criterion=entropy, max_depth=6;, score=0.740 total time=   0.0s\n",
      "[CV 5/5] END ....criterion=entropy, max_depth=6;, score=0.765 total time=   0.0s\n",
      "[CV 1/5] END ....criterion=entropy, max_depth=8;, score=0.747 total time=   0.0s\n",
      "[CV 2/5] END ....criterion=entropy, max_depth=8;, score=0.757 total time=   0.0s\n",
      "[CV 3/5] END ....criterion=entropy, max_depth=8;, score=0.761 total time=   0.1s\n",
      "[CV 4/5] END ....criterion=entropy, max_depth=8;, score=0.767 total time=   0.1s\n",
      "[CV 5/5] END ....criterion=entropy, max_depth=8;, score=0.755 total time=   0.1s\n",
      "[CV 1/5] END ...criterion=entropy, max_depth=10;, score=0.747 total time=   0.1s\n",
      "[CV 2/5] END ...criterion=entropy, max_depth=10;, score=0.765 total time=   0.1s\n",
      "[CV 3/5] END ...criterion=entropy, max_depth=10;, score=0.730 total time=   0.1s\n",
      "[CV 4/5] END ...criterion=entropy, max_depth=10;, score=0.747 total time=   0.1s\n",
      "[CV 5/5] END ...criterion=entropy, max_depth=10;, score=0.725 total time=   0.1s\n",
      "[CV 1/5] END ...criterion=entropy, max_depth=12;, score=0.727 total time=   0.1s\n",
      "[CV 2/5] END ...criterion=entropy, max_depth=12;, score=0.744 total time=   0.1s\n",
      "[CV 3/5] END ...criterion=entropy, max_depth=12;, score=0.726 total time=   0.1s\n",
      "[CV 4/5] END ...criterion=entropy, max_depth=12;, score=0.731 total time=   0.1s\n",
      "[CV 5/5] END ...criterion=entropy, max_depth=12;, score=0.720 total time=   0.1s\n"
     ]
    }
   ],
   "source": [
    "criterion = ['gini', 'entropy']\n",
    "max_depth = [2,3,4,6,8,10,12]\n",
    "\n",
    "param_grid = {'criterion':criterion, 'max_depth':max_depth}\n",
    "\n",
    "grid = GridSearchCV(DecisionTreeClassifier(random_state=2021),param_grid,refit=True,verbose=3)\n",
    "grid.fit(x, y)\n",
    "grid_predictions = grid.predict(df_test)"
   ]
  },
  {
   "cell_type": "code",
   "execution_count": 107,
   "id": "b07b11db-9afb-44bc-8a9f-3c7e21053ad6",
   "metadata": {},
   "outputs": [
    {
     "data": {
      "text/plain": [
       "array([0, 1, 0, ..., 0, 4, 1])"
      ]
     },
     "execution_count": 107,
     "metadata": {},
     "output_type": "execute_result"
    }
   ],
   "source": [
    "grid_predictions"
   ]
  },
  {
   "cell_type": "code",
   "execution_count": 108,
   "id": "4e07f73e-282d-47a2-96a4-c1da3e20a36a",
   "metadata": {},
   "outputs": [
    {
     "data": {
      "text/html": [
       "<div>\n",
       "<style scoped>\n",
       "    .dataframe tbody tr th:only-of-type {\n",
       "        vertical-align: middle;\n",
       "    }\n",
       "\n",
       "    .dataframe tbody tr th {\n",
       "        vertical-align: top;\n",
       "    }\n",
       "\n",
       "    .dataframe thead th {\n",
       "        text-align: right;\n",
       "    }\n",
       "</style>\n",
       "<table border=\"1\" class=\"dataframe\">\n",
       "  <thead>\n",
       "    <tr style=\"text-align: right;\">\n",
       "      <th></th>\n",
       "      <th>Speed_Diff</th>\n",
       "    </tr>\n",
       "  </thead>\n",
       "  <tbody>\n",
       "    <tr>\n",
       "      <th>0</th>\n",
       "      <td>0</td>\n",
       "    </tr>\n",
       "    <tr>\n",
       "      <th>1</th>\n",
       "      <td>1</td>\n",
       "    </tr>\n",
       "    <tr>\n",
       "      <th>2</th>\n",
       "      <td>0</td>\n",
       "    </tr>\n",
       "    <tr>\n",
       "      <th>3</th>\n",
       "      <td>3</td>\n",
       "    </tr>\n",
       "    <tr>\n",
       "      <th>4</th>\n",
       "      <td>0</td>\n",
       "    </tr>\n",
       "    <tr>\n",
       "      <th>...</th>\n",
       "      <td>...</td>\n",
       "    </tr>\n",
       "    <tr>\n",
       "      <th>1495</th>\n",
       "      <td>1</td>\n",
       "    </tr>\n",
       "    <tr>\n",
       "      <th>1496</th>\n",
       "      <td>0</td>\n",
       "    </tr>\n",
       "    <tr>\n",
       "      <th>1497</th>\n",
       "      <td>0</td>\n",
       "    </tr>\n",
       "    <tr>\n",
       "      <th>1498</th>\n",
       "      <td>4</td>\n",
       "    </tr>\n",
       "    <tr>\n",
       "      <th>1499</th>\n",
       "      <td>1</td>\n",
       "    </tr>\n",
       "  </tbody>\n",
       "</table>\n",
       "<p>1500 rows × 1 columns</p>\n",
       "</div>"
      ],
      "text/plain": [
       "      Speed_Diff\n",
       "0              0\n",
       "1              1\n",
       "2              0\n",
       "3              3\n",
       "4              0\n",
       "...          ...\n",
       "1495           1\n",
       "1496           0\n",
       "1497           0\n",
       "1498           4\n",
       "1499           1\n",
       "\n",
       "[1500 rows x 1 columns]"
      ]
     },
     "execution_count": 108,
     "metadata": {},
     "output_type": "execute_result"
    }
   ],
   "source": [
    "tryMane = pd.DataFrame(data=grid_predictions, index=None, columns=['Speed_Diff'])\n",
    "tryMane"
   ]
  },
  {
   "cell_type": "code",
   "execution_count": 109,
   "id": "3e6a5225-0c67-4a66-9fa6-1ae5cde8d460",
   "metadata": {},
   "outputs": [
    {
     "data": {
      "text/html": [
       "<div>\n",
       "<style scoped>\n",
       "    .dataframe tbody tr th:only-of-type {\n",
       "        vertical-align: middle;\n",
       "    }\n",
       "\n",
       "    .dataframe tbody tr th {\n",
       "        vertical-align: top;\n",
       "    }\n",
       "\n",
       "    .dataframe thead th {\n",
       "        text-align: right;\n",
       "    }\n",
       "</style>\n",
       "<table border=\"1\" class=\"dataframe\">\n",
       "  <thead>\n",
       "    <tr style=\"text-align: right;\">\n",
       "      <th></th>\n",
       "      <th>RowId</th>\n",
       "      <th>Speed_Diff</th>\n",
       "    </tr>\n",
       "  </thead>\n",
       "  <tbody>\n",
       "    <tr>\n",
       "      <th>0</th>\n",
       "      <td>1</td>\n",
       "      <td>None</td>\n",
       "    </tr>\n",
       "    <tr>\n",
       "      <th>1</th>\n",
       "      <td>2</td>\n",
       "      <td>Low</td>\n",
       "    </tr>\n",
       "    <tr>\n",
       "      <th>2</th>\n",
       "      <td>3</td>\n",
       "      <td>None</td>\n",
       "    </tr>\n",
       "    <tr>\n",
       "      <th>3</th>\n",
       "      <td>4</td>\n",
       "      <td>High</td>\n",
       "    </tr>\n",
       "    <tr>\n",
       "      <th>4</th>\n",
       "      <td>5</td>\n",
       "      <td>None</td>\n",
       "    </tr>\n",
       "    <tr>\n",
       "      <th>...</th>\n",
       "      <td>...</td>\n",
       "      <td>...</td>\n",
       "    </tr>\n",
       "    <tr>\n",
       "      <th>1495</th>\n",
       "      <td>1496</td>\n",
       "      <td>Low</td>\n",
       "    </tr>\n",
       "    <tr>\n",
       "      <th>1496</th>\n",
       "      <td>1497</td>\n",
       "      <td>None</td>\n",
       "    </tr>\n",
       "    <tr>\n",
       "      <th>1497</th>\n",
       "      <td>1498</td>\n",
       "      <td>None</td>\n",
       "    </tr>\n",
       "    <tr>\n",
       "      <th>1498</th>\n",
       "      <td>1499</td>\n",
       "      <td>Very_High</td>\n",
       "    </tr>\n",
       "    <tr>\n",
       "      <th>1499</th>\n",
       "      <td>1500</td>\n",
       "      <td>Low</td>\n",
       "    </tr>\n",
       "  </tbody>\n",
       "</table>\n",
       "<p>1500 rows × 2 columns</p>\n",
       "</div>"
      ],
      "text/plain": [
       "      RowId Speed_Diff\n",
       "0         1       None\n",
       "1         2        Low\n",
       "2         3       None\n",
       "3         4       High\n",
       "4         5       None\n",
       "...     ...        ...\n",
       "1495   1496        Low\n",
       "1496   1497       None\n",
       "1497   1498       None\n",
       "1498   1499  Very_High\n",
       "1499   1500        Low\n",
       "\n",
       "[1500 rows x 2 columns]"
      ]
     },
     "execution_count": 109,
     "metadata": {},
     "output_type": "execute_result"
    }
   ],
   "source": [
    "tryMane['RowId'] = range(1,1501)\n",
    "tryMane['Speed_Diff'].replace({0:\"None\", 1:\"Low\", 2:\"Medium\", 3:\"High\", 4:\"Very_High\"}, inplace=True)\n",
    "tryMane = tryMane[['RowId','Speed_Diff']] # Inverter a ordem das colunas para concordar com o formato desejado\n",
    "tryMane"
   ]
  },
  {
   "cell_type": "code",
   "execution_count": 110,
   "id": "a09606ee-0924-4c11-bb3e-60be2b594526",
   "metadata": {},
   "outputs": [
    {
     "data": {
      "text/html": [
       "<div>\n",
       "<style scoped>\n",
       "    .dataframe tbody tr th:only-of-type {\n",
       "        vertical-align: middle;\n",
       "    }\n",
       "\n",
       "    .dataframe tbody tr th {\n",
       "        vertical-align: top;\n",
       "    }\n",
       "\n",
       "    .dataframe thead th {\n",
       "        text-align: right;\n",
       "    }\n",
       "</style>\n",
       "<table border=\"1\" class=\"dataframe\">\n",
       "  <thead>\n",
       "    <tr style=\"text-align: right;\">\n",
       "      <th></th>\n",
       "      <th>RowId</th>\n",
       "      <th>Speed_Diff</th>\n",
       "    </tr>\n",
       "  </thead>\n",
       "  <tbody>\n",
       "    <tr>\n",
       "      <th>0</th>\n",
       "      <td>1</td>\n",
       "      <td>None</td>\n",
       "    </tr>\n",
       "    <tr>\n",
       "      <th>1</th>\n",
       "      <td>2</td>\n",
       "      <td>Low</td>\n",
       "    </tr>\n",
       "    <tr>\n",
       "      <th>2</th>\n",
       "      <td>3</td>\n",
       "      <td>None</td>\n",
       "    </tr>\n",
       "    <tr>\n",
       "      <th>3</th>\n",
       "      <td>4</td>\n",
       "      <td>High</td>\n",
       "    </tr>\n",
       "    <tr>\n",
       "      <th>4</th>\n",
       "      <td>5</td>\n",
       "      <td>None</td>\n",
       "    </tr>\n",
       "  </tbody>\n",
       "</table>\n",
       "</div>"
      ],
      "text/plain": [
       "   RowId Speed_Diff\n",
       "0      1       None\n",
       "1      2        Low\n",
       "2      3       None\n",
       "3      4       High\n",
       "4      5       None"
      ]
     },
     "execution_count": 110,
     "metadata": {},
     "output_type": "execute_result"
    }
   ],
   "source": [
    "try_nr = 4\n",
    "outputfile = f'mane_try{try_nr}.csv'\n",
    "\n",
    "tryMane.to_csv(outputfile,index=False)\n",
    "submission = pd.read_csv(outputfile,encoding = \"ISO-8859-1\")\n",
    "submission.head()"
   ]
  },
  {
   "cell_type": "code",
   "execution_count": null,
   "id": "32ff1a14-8988-48bb-9e1e-8befa781e23f",
   "metadata": {},
   "outputs": [],
   "source": []
  }
 ],
 "metadata": {
  "kernelspec": {
   "display_name": "Python 3",
   "language": "python",
   "name": "python3"
  },
  "language_info": {
   "codemirror_mode": {
    "name": "ipython",
    "version": 3
   },
   "file_extension": ".py",
   "mimetype": "text/x-python",
   "name": "python",
   "nbconvert_exporter": "python",
   "pygments_lexer": "ipython3",
   "version": "3.6.13"
  }
 },
 "nbformat": 4,
 "nbformat_minor": 5
}
